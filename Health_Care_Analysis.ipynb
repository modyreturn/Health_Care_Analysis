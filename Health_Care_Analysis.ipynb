{
  "cells": [
    {
      "cell_type": "markdown",
      "metadata": {},
      "source": [
        "## **Importing Liberaries & Dataset**"
      ]
    },
    {
      "cell_type": "code",
      "execution_count": 16,
      "metadata": {
        "colab": {
          "base_uri": "https://localhost:8080/",
          "height": 330
        },
        "id": "g8L-q3-gqM8C",
        "outputId": "6a6221df-ef7e-4467-9dd6-9018fd1cae7a"
      },
      "outputs": [
        {
          "data": {
            "application/vnd.microsoft.datawrangler.viewer.v0+json": {
              "columns": [
                {
                  "name": "index",
                  "rawType": "int64",
                  "type": "integer"
                },
                {
                  "name": "Archive_Date",
                  "rawType": "object",
                  "type": "string"
                },
                {
                  "name": "Specialty_HIPE",
                  "rawType": "float64",
                  "type": "float"
                },
                {
                  "name": "Specialty_Name",
                  "rawType": "object",
                  "type": "string"
                },
                {
                  "name": "Adult_Child",
                  "rawType": "object",
                  "type": "string"
                },
                {
                  "name": "Age_Profile",
                  "rawType": "object",
                  "type": "string"
                },
                {
                  "name": "Time_Bands",
                  "rawType": "object",
                  "type": "string"
                },
                {
                  "name": "Total",
                  "rawType": "int64",
                  "type": "integer"
                },
                {
                  "name": "Case_Type",
                  "rawType": "object",
                  "type": "string"
                },
                {
                  "name": "Specialty Group",
                  "rawType": "object",
                  "type": "string"
                }
              ],
              "conversionMethod": "pd.DataFrame",
              "ref": "2091baf8-3828-4d8e-9a5b-97923d906dbf",
              "rows": [
                [
                  "0",
                  "2018-02-28",
                  "0.0",
                  "Small Volume Specialities",
                  "Adult",
                  "16-64",
                  "  0-3 Months",
                  "1",
                  "Day Case",
                  "Other"
                ],
                [
                  "1",
                  "2018-02-28",
                  "0.0",
                  "Small Volume Specialities",
                  "Adult",
                  "16-64",
                  "  0-3 Months",
                  "1",
                  "Day Case",
                  "Other"
                ],
                [
                  "2",
                  "2018-02-28",
                  "0.0",
                  "Small Volume Specialities",
                  "Adult",
                  "16-64",
                  "  9-12 Months",
                  "1",
                  "Inpatient",
                  "Other"
                ],
                [
                  "3",
                  "2018-02-28",
                  "0.0",
                  "Small Volume Specialities",
                  "Adult",
                  "16-64",
                  " 0-3 Months",
                  "1",
                  "Outpatient",
                  "Other"
                ],
                [
                  "4",
                  "2018-02-28",
                  "0.0",
                  "Small Volume Specialities",
                  "Adult",
                  "16-64",
                  " 0-3 Months",
                  "1",
                  "Outpatient",
                  "Other"
                ]
              ],
              "shape": {
                "columns": 9,
                "rows": 5
              }
            },
            "text/html": [
              "<div>\n",
              "<style scoped>\n",
              "    .dataframe tbody tr th:only-of-type {\n",
              "        vertical-align: middle;\n",
              "    }\n",
              "\n",
              "    .dataframe tbody tr th {\n",
              "        vertical-align: top;\n",
              "    }\n",
              "\n",
              "    .dataframe thead th {\n",
              "        text-align: right;\n",
              "    }\n",
              "</style>\n",
              "<table border=\"1\" class=\"dataframe\">\n",
              "  <thead>\n",
              "    <tr style=\"text-align: right;\">\n",
              "      <th></th>\n",
              "      <th>Archive_Date</th>\n",
              "      <th>Specialty_HIPE</th>\n",
              "      <th>Specialty_Name</th>\n",
              "      <th>Adult_Child</th>\n",
              "      <th>Age_Profile</th>\n",
              "      <th>Time_Bands</th>\n",
              "      <th>Total</th>\n",
              "      <th>Case_Type</th>\n",
              "      <th>Specialty Group</th>\n",
              "    </tr>\n",
              "  </thead>\n",
              "  <tbody>\n",
              "    <tr>\n",
              "      <th>0</th>\n",
              "      <td>2018-02-28</td>\n",
              "      <td>0.0</td>\n",
              "      <td>Small Volume Specialities</td>\n",
              "      <td>Adult</td>\n",
              "      <td>16-64</td>\n",
              "      <td>0-3 Months</td>\n",
              "      <td>1</td>\n",
              "      <td>Day Case</td>\n",
              "      <td>Other</td>\n",
              "    </tr>\n",
              "    <tr>\n",
              "      <th>1</th>\n",
              "      <td>2018-02-28</td>\n",
              "      <td>0.0</td>\n",
              "      <td>Small Volume Specialities</td>\n",
              "      <td>Adult</td>\n",
              "      <td>16-64</td>\n",
              "      <td>0-3 Months</td>\n",
              "      <td>1</td>\n",
              "      <td>Day Case</td>\n",
              "      <td>Other</td>\n",
              "    </tr>\n",
              "    <tr>\n",
              "      <th>2</th>\n",
              "      <td>2018-02-28</td>\n",
              "      <td>0.0</td>\n",
              "      <td>Small Volume Specialities</td>\n",
              "      <td>Adult</td>\n",
              "      <td>16-64</td>\n",
              "      <td>9-12 Months</td>\n",
              "      <td>1</td>\n",
              "      <td>Inpatient</td>\n",
              "      <td>Other</td>\n",
              "    </tr>\n",
              "    <tr>\n",
              "      <th>3</th>\n",
              "      <td>2018-02-28</td>\n",
              "      <td>0.0</td>\n",
              "      <td>Small Volume Specialities</td>\n",
              "      <td>Adult</td>\n",
              "      <td>16-64</td>\n",
              "      <td>0-3 Months</td>\n",
              "      <td>1</td>\n",
              "      <td>Outpatient</td>\n",
              "      <td>Other</td>\n",
              "    </tr>\n",
              "    <tr>\n",
              "      <th>4</th>\n",
              "      <td>2018-02-28</td>\n",
              "      <td>0.0</td>\n",
              "      <td>Small Volume Specialities</td>\n",
              "      <td>Adult</td>\n",
              "      <td>16-64</td>\n",
              "      <td>0-3 Months</td>\n",
              "      <td>1</td>\n",
              "      <td>Outpatient</td>\n",
              "      <td>Other</td>\n",
              "    </tr>\n",
              "  </tbody>\n",
              "</table>\n",
              "</div>"
            ],
            "text/plain": [
              "  Archive_Date  Specialty_HIPE             Specialty_Name Adult_Child  \\\n",
              "0   2018-02-28             0.0  Small Volume Specialities       Adult   \n",
              "1   2018-02-28             0.0  Small Volume Specialities       Adult   \n",
              "2   2018-02-28             0.0  Small Volume Specialities       Adult   \n",
              "3   2018-02-28             0.0  Small Volume Specialities       Adult   \n",
              "4   2018-02-28             0.0  Small Volume Specialities       Adult   \n",
              "\n",
              "  Age_Profile     Time_Bands  Total   Case_Type Specialty Group  \n",
              "0       16-64     0-3 Months      1    Day Case           Other  \n",
              "1       16-64     0-3 Months      1    Day Case           Other  \n",
              "2       16-64    9-12 Months      1   Inpatient           Other  \n",
              "3       16-64     0-3 Months      1  Outpatient           Other  \n",
              "4       16-64     0-3 Months      1  Outpatient           Other  "
            ]
          },
          "execution_count": 16,
          "metadata": {},
          "output_type": "execute_result"
        }
      ],
      "source": [
        "import pandas as pd\n",
        "import numpy as np\n",
        "import matplotlib.pyplot as plt\n",
        "import seaborn as sns\n",
        "from matplotlib.ticker import FuncFormatter\n",
        "\n",
        "import warnings\n",
        "warnings.filterwarnings(\"ignore\")\n",
        "\n",
        "url = \"https://raw.githubusercontent.com/modyreturn/Health_Care_Analysis/refs/heads/master/merged_data.csv\"\n",
        "\n",
        "df = pd.read_csv(url)\n",
        "\n",
        "df.head()\n"
      ]
    },
    {
      "cell_type": "markdown",
      "metadata": {
        "id": "VDUqxt_kfJx3"
      },
      "source": [
        "## **Cleaning The Data**"
      ]
    },
    {
      "cell_type": "code",
      "execution_count": 17,
      "metadata": {
        "colab": {
          "base_uri": "https://localhost:8080/"
        },
        "id": "BhAW1m-G5n4M",
        "outputId": "eb018f2c-f450-4e21-a968-0d990fa130fa"
      },
      "outputs": [
        {
          "name": "stdout",
          "output_type": "stream",
          "text": [
            "<class 'pandas.core.frame.DataFrame'>\n",
            "RangeIndex: 452991 entries, 0 to 452990\n",
            "Data columns (total 11 columns):\n",
            " #   Column           Non-Null Count   Dtype         \n",
            "---  ------           --------------   -----         \n",
            " 0   Archive_Date     452991 non-null  datetime64[ns]\n",
            " 1   Specialty_HIPE   452800 non-null  float64       \n",
            " 2   Specialty_Name   452991 non-null  object        \n",
            " 3   Adult_Child      452991 non-null  object        \n",
            " 4   Age_Profile      452816 non-null  object        \n",
            " 5   Time_Bands       452989 non-null  object        \n",
            " 6   Total            452991 non-null  int64         \n",
            " 7   Case_Type        452991 non-null  object        \n",
            " 8   Specialty Group  452991 non-null  object        \n",
            " 9   Year             452991 non-null  int32         \n",
            " 10  Month_Name       452991 non-null  object        \n",
            "dtypes: datetime64[ns](1), float64(1), int32(1), int64(1), object(7)\n",
            "memory usage: 36.3+ MB\n"
          ]
        }
      ],
      "source": [
        "# converting Archive_Date to datetime\n",
        "df['Archive_Date'] = pd.to_datetime(df['Archive_Date'])\n",
        "df['Year'] = df['Archive_Date'].dt.year\n",
        "df['Month_Name'] = df['Archive_Date'].dt.month_name()\n",
        "\n",
        "df.info()"
      ]
    },
    {
      "cell_type": "code",
      "execution_count": 18,
      "metadata": {
        "id": "VBKwEyyTY0cr"
      },
      "outputs": [],
      "source": [
        "df['Time_Bands'] = df['Time_Bands'].str.strip()\n",
        "df['Age_Profile'] = df['Age_Profile'].str.strip()"
      ]
    },
    {
      "cell_type": "code",
      "execution_count": null,
      "metadata": {},
      "outputs": [],
      "source": [
        "# I will use the following func to format the values on axis of the charts as needed\n",
        "def millions_formatter(x, pos):\n",
        "    if x >= 1_000_000:\n",
        "        return f'{x*1.0/1_000_000:.1f}M'\n",
        "    elif x >= 1_000:\n",
        "        return f'{x*1.0/1_000:.1f}K'\n",
        "    else:\n",
        "        return f'{x:.0f}'\n",
        "\n",
        "# Apply formatter to the current plot\n",
        "formatter = FuncFormatter(millions_formatter)"
      ]
    },
    {
      "cell_type": "code",
      "execution_count": 137,
      "metadata": {},
      "outputs": [],
      "source": [
        "# here you can categorise and order Month_Name to plot\n",
        "month_order = ['Jan', 'Feb', 'Mar', 'Apr', 'May', 'Jun', 'Jul', 'Aug', 'Sep', 'Oct', 'Nov', 'Dec']"
      ]
    },
    {
      "cell_type": "markdown",
      "metadata": {
        "id": "Ew9G-708fYRu"
      },
      "source": [
        "## **Exploratory Data Analysis (EDA):**"
      ]
    },
    {
      "cell_type": "markdown",
      "metadata": {
        "id": "wKmYebizgCxp"
      },
      "source": [
        "### **Statistic Summary**"
      ]
    },
    {
      "cell_type": "code",
      "execution_count": 19,
      "metadata": {
        "colab": {
          "base_uri": "https://localhost:8080/",
          "height": 0
        },
        "id": "Xyhx32UVfg-U",
        "outputId": "393952d8-88f8-4667-cfdb-e96c145a9da4"
      },
      "outputs": [
        {
          "data": {
            "application/vnd.microsoft.datawrangler.viewer.v0+json": {
              "columns": [
                {
                  "name": "index",
                  "rawType": "object",
                  "type": "string"
                },
                {
                  "name": "Archive_Date",
                  "rawType": "object",
                  "type": "unknown"
                },
                {
                  "name": "Specialty_HIPE",
                  "rawType": "float64",
                  "type": "float"
                },
                {
                  "name": "Specialty_Name",
                  "rawType": "object",
                  "type": "unknown"
                },
                {
                  "name": "Adult_Child",
                  "rawType": "object",
                  "type": "unknown"
                },
                {
                  "name": "Age_Profile",
                  "rawType": "object",
                  "type": "unknown"
                },
                {
                  "name": "Time_Bands",
                  "rawType": "object",
                  "type": "unknown"
                },
                {
                  "name": "Total",
                  "rawType": "float64",
                  "type": "float"
                },
                {
                  "name": "Case_Type",
                  "rawType": "object",
                  "type": "unknown"
                },
                {
                  "name": "Specialty Group",
                  "rawType": "object",
                  "type": "unknown"
                },
                {
                  "name": "Year",
                  "rawType": "float64",
                  "type": "float"
                },
                {
                  "name": "Month_Name",
                  "rawType": "object",
                  "type": "unknown"
                }
              ],
              "conversionMethod": "pd.DataFrame",
              "ref": "ae655ce2-f096-4212-a8b2-7e07f9d77d66",
              "rows": [
                [
                  "count",
                  "452991",
                  "452800.0",
                  "452991",
                  "452991",
                  "452816",
                  "452989",
                  "452991.0",
                  "452991",
                  "452991",
                  "452991.0",
                  "452991"
                ],
                [
                  "unique",
                  null,
                  null,
                  "78",
                  "3",
                  "3",
                  "8",
                  null,
                  "3",
                  "27",
                  null,
                  "12"
                ],
                [
                  "top",
                  null,
                  null,
                  "General Surgery",
                  "Adult",
                  "16-64",
                  "0-3 Months",
                  null,
                  "Outpatient",
                  "General",
                  null,
                  "March"
                ],
                [
                  "freq",
                  null,
                  null,
                  "43634",
                  "368151",
                  "203354",
                  "93818",
                  null,
                  "270281",
                  "76614",
                  null,
                  "47110"
                ],
                [
                  "mean",
                  "2019-09-09 18:57:46.892720640",
                  "2619.1445759717312",
                  null,
                  null,
                  null,
                  null,
                  "54.39005852213399",
                  null,
                  null,
                  "2019.1817784459295",
                  null
                ],
                [
                  "min",
                  "2018-01-31 00:00:00",
                  "0.0",
                  null,
                  null,
                  null,
                  null,
                  "1.0",
                  null,
                  null,
                  "2018.0",
                  null
                ],
                [
                  "25%",
                  "2018-10-31 00:00:00",
                  "1300.0",
                  null,
                  null,
                  null,
                  null,
                  "3.0",
                  null,
                  null,
                  "2018.0",
                  null
                ],
                [
                  "50%",
                  "2019-08-31 00:00:00",
                  "1900.0",
                  null,
                  null,
                  null,
                  null,
                  "13.0",
                  null,
                  null,
                  "2019.0",
                  null
                ],
                [
                  "75%",
                  "2020-06-30 00:00:00",
                  "2600.0",
                  null,
                  null,
                  null,
                  null,
                  "53.0",
                  null,
                  null,
                  "2020.0",
                  null
                ],
                [
                  "max",
                  "2021-03-31 00:00:00",
                  "9000.0",
                  null,
                  null,
                  null,
                  null,
                  "4239.0",
                  null,
                  null,
                  "2021.0",
                  null
                ],
                [
                  "std",
                  null,
                  "2362.043475185623",
                  null,
                  null,
                  null,
                  null,
                  "120.7928371221548",
                  null,
                  null,
                  "0.9635806573834385",
                  null
                ]
              ],
              "shape": {
                "columns": 11,
                "rows": 11
              }
            },
            "text/html": [
              "<div>\n",
              "<style scoped>\n",
              "    .dataframe tbody tr th:only-of-type {\n",
              "        vertical-align: middle;\n",
              "    }\n",
              "\n",
              "    .dataframe tbody tr th {\n",
              "        vertical-align: top;\n",
              "    }\n",
              "\n",
              "    .dataframe thead th {\n",
              "        text-align: right;\n",
              "    }\n",
              "</style>\n",
              "<table border=\"1\" class=\"dataframe\">\n",
              "  <thead>\n",
              "    <tr style=\"text-align: right;\">\n",
              "      <th></th>\n",
              "      <th>Archive_Date</th>\n",
              "      <th>Specialty_HIPE</th>\n",
              "      <th>Specialty_Name</th>\n",
              "      <th>Adult_Child</th>\n",
              "      <th>Age_Profile</th>\n",
              "      <th>Time_Bands</th>\n",
              "      <th>Total</th>\n",
              "      <th>Case_Type</th>\n",
              "      <th>Specialty Group</th>\n",
              "      <th>Year</th>\n",
              "      <th>Month_Name</th>\n",
              "    </tr>\n",
              "  </thead>\n",
              "  <tbody>\n",
              "    <tr>\n",
              "      <th>count</th>\n",
              "      <td>452991</td>\n",
              "      <td>452800.000000</td>\n",
              "      <td>452991</td>\n",
              "      <td>452991</td>\n",
              "      <td>452816</td>\n",
              "      <td>452989</td>\n",
              "      <td>452991.000000</td>\n",
              "      <td>452991</td>\n",
              "      <td>452991</td>\n",
              "      <td>452991.000000</td>\n",
              "      <td>452991</td>\n",
              "    </tr>\n",
              "    <tr>\n",
              "      <th>unique</th>\n",
              "      <td>NaN</td>\n",
              "      <td>NaN</td>\n",
              "      <td>78</td>\n",
              "      <td>3</td>\n",
              "      <td>3</td>\n",
              "      <td>8</td>\n",
              "      <td>NaN</td>\n",
              "      <td>3</td>\n",
              "      <td>27</td>\n",
              "      <td>NaN</td>\n",
              "      <td>12</td>\n",
              "    </tr>\n",
              "    <tr>\n",
              "      <th>top</th>\n",
              "      <td>NaN</td>\n",
              "      <td>NaN</td>\n",
              "      <td>General Surgery</td>\n",
              "      <td>Adult</td>\n",
              "      <td>16-64</td>\n",
              "      <td>0-3 Months</td>\n",
              "      <td>NaN</td>\n",
              "      <td>Outpatient</td>\n",
              "      <td>General</td>\n",
              "      <td>NaN</td>\n",
              "      <td>March</td>\n",
              "    </tr>\n",
              "    <tr>\n",
              "      <th>freq</th>\n",
              "      <td>NaN</td>\n",
              "      <td>NaN</td>\n",
              "      <td>43634</td>\n",
              "      <td>368151</td>\n",
              "      <td>203354</td>\n",
              "      <td>93818</td>\n",
              "      <td>NaN</td>\n",
              "      <td>270281</td>\n",
              "      <td>76614</td>\n",
              "      <td>NaN</td>\n",
              "      <td>47110</td>\n",
              "    </tr>\n",
              "    <tr>\n",
              "      <th>mean</th>\n",
              "      <td>2019-09-09 18:57:46.892720640</td>\n",
              "      <td>2619.144576</td>\n",
              "      <td>NaN</td>\n",
              "      <td>NaN</td>\n",
              "      <td>NaN</td>\n",
              "      <td>NaN</td>\n",
              "      <td>54.390059</td>\n",
              "      <td>NaN</td>\n",
              "      <td>NaN</td>\n",
              "      <td>2019.181778</td>\n",
              "      <td>NaN</td>\n",
              "    </tr>\n",
              "    <tr>\n",
              "      <th>min</th>\n",
              "      <td>2018-01-31 00:00:00</td>\n",
              "      <td>0.000000</td>\n",
              "      <td>NaN</td>\n",
              "      <td>NaN</td>\n",
              "      <td>NaN</td>\n",
              "      <td>NaN</td>\n",
              "      <td>1.000000</td>\n",
              "      <td>NaN</td>\n",
              "      <td>NaN</td>\n",
              "      <td>2018.000000</td>\n",
              "      <td>NaN</td>\n",
              "    </tr>\n",
              "    <tr>\n",
              "      <th>25%</th>\n",
              "      <td>2018-10-31 00:00:00</td>\n",
              "      <td>1300.000000</td>\n",
              "      <td>NaN</td>\n",
              "      <td>NaN</td>\n",
              "      <td>NaN</td>\n",
              "      <td>NaN</td>\n",
              "      <td>3.000000</td>\n",
              "      <td>NaN</td>\n",
              "      <td>NaN</td>\n",
              "      <td>2018.000000</td>\n",
              "      <td>NaN</td>\n",
              "    </tr>\n",
              "    <tr>\n",
              "      <th>50%</th>\n",
              "      <td>2019-08-31 00:00:00</td>\n",
              "      <td>1900.000000</td>\n",
              "      <td>NaN</td>\n",
              "      <td>NaN</td>\n",
              "      <td>NaN</td>\n",
              "      <td>NaN</td>\n",
              "      <td>13.000000</td>\n",
              "      <td>NaN</td>\n",
              "      <td>NaN</td>\n",
              "      <td>2019.000000</td>\n",
              "      <td>NaN</td>\n",
              "    </tr>\n",
              "    <tr>\n",
              "      <th>75%</th>\n",
              "      <td>2020-06-30 00:00:00</td>\n",
              "      <td>2600.000000</td>\n",
              "      <td>NaN</td>\n",
              "      <td>NaN</td>\n",
              "      <td>NaN</td>\n",
              "      <td>NaN</td>\n",
              "      <td>53.000000</td>\n",
              "      <td>NaN</td>\n",
              "      <td>NaN</td>\n",
              "      <td>2020.000000</td>\n",
              "      <td>NaN</td>\n",
              "    </tr>\n",
              "    <tr>\n",
              "      <th>max</th>\n",
              "      <td>2021-03-31 00:00:00</td>\n",
              "      <td>9000.000000</td>\n",
              "      <td>NaN</td>\n",
              "      <td>NaN</td>\n",
              "      <td>NaN</td>\n",
              "      <td>NaN</td>\n",
              "      <td>4239.000000</td>\n",
              "      <td>NaN</td>\n",
              "      <td>NaN</td>\n",
              "      <td>2021.000000</td>\n",
              "      <td>NaN</td>\n",
              "    </tr>\n",
              "    <tr>\n",
              "      <th>std</th>\n",
              "      <td>NaN</td>\n",
              "      <td>2362.043475</td>\n",
              "      <td>NaN</td>\n",
              "      <td>NaN</td>\n",
              "      <td>NaN</td>\n",
              "      <td>NaN</td>\n",
              "      <td>120.792837</td>\n",
              "      <td>NaN</td>\n",
              "      <td>NaN</td>\n",
              "      <td>0.963581</td>\n",
              "      <td>NaN</td>\n",
              "    </tr>\n",
              "  </tbody>\n",
              "</table>\n",
              "</div>"
            ],
            "text/plain": [
              "                         Archive_Date  Specialty_HIPE   Specialty_Name  \\\n",
              "count                          452991   452800.000000           452991   \n",
              "unique                            NaN             NaN               78   \n",
              "top                               NaN             NaN  General Surgery   \n",
              "freq                              NaN             NaN            43634   \n",
              "mean    2019-09-09 18:57:46.892720640     2619.144576              NaN   \n",
              "min               2018-01-31 00:00:00        0.000000              NaN   \n",
              "25%               2018-10-31 00:00:00     1300.000000              NaN   \n",
              "50%               2019-08-31 00:00:00     1900.000000              NaN   \n",
              "75%               2020-06-30 00:00:00     2600.000000              NaN   \n",
              "max               2021-03-31 00:00:00     9000.000000              NaN   \n",
              "std                               NaN     2362.043475              NaN   \n",
              "\n",
              "       Adult_Child Age_Profile  Time_Bands          Total   Case_Type  \\\n",
              "count       452991      452816      452989  452991.000000      452991   \n",
              "unique           3           3           8            NaN           3   \n",
              "top          Adult       16-64  0-3 Months            NaN  Outpatient   \n",
              "freq        368151      203354       93818            NaN      270281   \n",
              "mean           NaN         NaN         NaN      54.390059         NaN   \n",
              "min            NaN         NaN         NaN       1.000000         NaN   \n",
              "25%            NaN         NaN         NaN       3.000000         NaN   \n",
              "50%            NaN         NaN         NaN      13.000000         NaN   \n",
              "75%            NaN         NaN         NaN      53.000000         NaN   \n",
              "max            NaN         NaN         NaN    4239.000000         NaN   \n",
              "std            NaN         NaN         NaN     120.792837         NaN   \n",
              "\n",
              "       Specialty Group           Year Month_Name  \n",
              "count           452991  452991.000000     452991  \n",
              "unique              27            NaN         12  \n",
              "top            General            NaN      March  \n",
              "freq             76614            NaN      47110  \n",
              "mean               NaN    2019.181778        NaN  \n",
              "min                NaN    2018.000000        NaN  \n",
              "25%                NaN    2018.000000        NaN  \n",
              "50%                NaN    2019.000000        NaN  \n",
              "75%                NaN    2020.000000        NaN  \n",
              "max                NaN    2021.000000        NaN  \n",
              "std                NaN       0.963581        NaN  "
            ]
          },
          "execution_count": 19,
          "metadata": {},
          "output_type": "execute_result"
        }
      ],
      "source": [
        "# using describe() to get statistic summary for the data\n",
        "df.describe(include=('all'))"
      ]
    },
    {
      "cell_type": "markdown",
      "metadata": {
        "id": "dhi5U4rGgI9e"
      },
      "source": [
        "### **Cases Over Time:**\n",
        "-   Now let's analyze Day Cases, Inpatient Cases, and Outpatient Cases over time.\n",
        "\n",
        "\n"
      ]
    },
    {
      "cell_type": "code",
      "execution_count": 20,
      "metadata": {
        "colab": {
          "base_uri": "https://localhost:8080/",
          "height": 0
        },
        "id": "xqm4_t_NgXn0",
        "outputId": "795e01df-a263-4562-d42b-94c634aba45a"
      },
      "outputs": [
        {
          "data": {
            "application/vnd.microsoft.datawrangler.viewer.v0+json": {
              "columns": [
                {
                  "name": "index",
                  "rawType": "int64",
                  "type": "integer"
                },
                {
                  "name": "Month_Name",
                  "rawType": "object",
                  "type": "string"
                },
                {
                  "name": "Case_Type",
                  "rawType": "object",
                  "type": "string"
                },
                {
                  "name": "Total",
                  "rawType": "int64",
                  "type": "integer"
                }
              ],
              "conversionMethod": "pd.DataFrame",
              "ref": "baee13cb-584d-4664-8a07-e9627c7b9ae1",
              "rows": [
                [
                  "0",
                  "Apr",
                  "Day Case",
                  "168396"
                ],
                [
                  "1",
                  "Apr",
                  "Inpatient",
                  "67712"
                ],
                [
                  "2",
                  "Apr",
                  "Outpatient",
                  "1626611"
                ],
                [
                  "3",
                  "Aug",
                  "Day Case",
                  "156239"
                ],
                [
                  "4",
                  "Aug",
                  "Inpatient",
                  "64058"
                ]
              ],
              "shape": {
                "columns": 3,
                "rows": 5
              }
            },
            "text/html": [
              "<div>\n",
              "<style scoped>\n",
              "    .dataframe tbody tr th:only-of-type {\n",
              "        vertical-align: middle;\n",
              "    }\n",
              "\n",
              "    .dataframe tbody tr th {\n",
              "        vertical-align: top;\n",
              "    }\n",
              "\n",
              "    .dataframe thead th {\n",
              "        text-align: right;\n",
              "    }\n",
              "</style>\n",
              "<table border=\"1\" class=\"dataframe\">\n",
              "  <thead>\n",
              "    <tr style=\"text-align: right;\">\n",
              "      <th></th>\n",
              "      <th>Month_Name</th>\n",
              "      <th>Case_Type</th>\n",
              "      <th>Total</th>\n",
              "    </tr>\n",
              "  </thead>\n",
              "  <tbody>\n",
              "    <tr>\n",
              "      <th>0</th>\n",
              "      <td>Apr</td>\n",
              "      <td>Day Case</td>\n",
              "      <td>168396</td>\n",
              "    </tr>\n",
              "    <tr>\n",
              "      <th>1</th>\n",
              "      <td>Apr</td>\n",
              "      <td>Inpatient</td>\n",
              "      <td>67712</td>\n",
              "    </tr>\n",
              "    <tr>\n",
              "      <th>2</th>\n",
              "      <td>Apr</td>\n",
              "      <td>Outpatient</td>\n",
              "      <td>1626611</td>\n",
              "    </tr>\n",
              "    <tr>\n",
              "      <th>3</th>\n",
              "      <td>Aug</td>\n",
              "      <td>Day Case</td>\n",
              "      <td>156239</td>\n",
              "    </tr>\n",
              "    <tr>\n",
              "      <th>4</th>\n",
              "      <td>Aug</td>\n",
              "      <td>Inpatient</td>\n",
              "      <td>64058</td>\n",
              "    </tr>\n",
              "  </tbody>\n",
              "</table>\n",
              "</div>"
            ],
            "text/plain": [
              "  Month_Name   Case_Type    Total\n",
              "0        Apr    Day Case   168396\n",
              "1        Apr   Inpatient    67712\n",
              "2        Apr  Outpatient  1626611\n",
              "3        Aug    Day Case   156239\n",
              "4        Aug   Inpatient    64058"
            ]
          },
          "execution_count": 20,
          "metadata": {},
          "output_type": "execute_result"
        }
      ],
      "source": [
        "cases_over_time = df.groupby(['Month_Name', 'Case_Type'])['Total'].sum().reset_index()\n",
        "cases_over_time['Month_Name'] = cases_over_time['Month_Name'].str[:3] # to abbreviate the month name to the first 3 letters\n",
        "\n",
        "cases_over_time.head()"
      ]
    },
    {
      "cell_type": "code",
      "execution_count": 21,
      "metadata": {
        "id": "zXyaG97fPi_k"
      },
      "outputs": [],
      "source": [
        "# here you can categorise and order Month_Name to plot\n",
        "month_order = ['Jan', 'Feb', 'Mar', 'Apr', 'May', 'Jun', 'Jul', 'Aug', 'Sep', 'Oct', 'Nov', 'Dec']\n",
        "cases_over_time['Month_Name'] = pd.Categorical(cases_over_time['Month_Name'], categories=month_order, ordered=True)"
      ]
    },
    {
      "cell_type": "code",
      "execution_count": null,
      "metadata": {
        "colab": {
          "base_uri": "https://localhost:8080/",
          "height": 0
        },
        "id": "CaC2QXIli8au",
        "outputId": "82dbf78f-2777-4413-d23a-a70be0cef9ef"
      },
      "outputs": [
        {
          "data": {
            "image/png": "[encoded data removed]",
            "text/plain": [
              "<Figure size 800x400 with 1 Axes>"
            ]
          },
          "metadata": {},
          "output_type": "display_data"
        }
      ],
      "source": [
        "plt.figure(figsize=(8, 4))\n",
        "\n",
        "sns.lineplot(\n",
        "    data=cases_over_time,\n",
        "    x='Month_Name',\n",
        "    y='Total',\n",
        "    hue='Case_Type',\n",
        "    palette='tab10'\n",
        ")\n",
        "\n",
        "\n",
        "plt.gca().yaxis.set_major_formatter(formatter)\n",
        "\n",
        "plt.title('Cases Over Time')\n",
        "plt.xlabel('')\n",
        "plt.ylabel('Total Cases')\n",
        "plt.legend(ncols=3, loc='upper center', framealpha=False, fontsize=8)\n",
        "\n",
        "sns.despine()\n",
        "plt.tight_layout()\n",
        "plt.show()"
      ]
    },
    {
      "cell_type": "markdown",
      "metadata": {
        "id": "gvm7V7XuYinY"
      },
      "source": [
        "\n",
        "**Key Insights:**\n",
        "\n",
        "-   Outpatient Cases\n",
        "    - Outpatient volumes are **significantly higher** than other case types.\n",
        "    - There is a **sharp decline between March and April**, followed by a stable trend.\n",
        "    \n",
        "\n",
        "-   Day Case\n",
        "    - Relatively stable across the year with a small dip in April, which mirrors the outpatient drop (but on a smaller scale).\n",
        "\n",
        "    -   This may suggest a system-wide effect in April (e.g., hospital capacity issues or a public holiday period)..\n",
        "\n",
        "\n",
        "-   Inpatient Cases\n",
        "    - Lowest and **most stable** volume.\n",
        "    - Very minimal month-to-month variation — this could indicate inpatient services are less affected by external factors or operate on a constant baseline.\n",
        "\n",
        "    ---\n",
        "\n",
        "\n"
      ]
    },
    {
      "cell_type": "markdown",
      "metadata": {
        "id": "6JifW8rJbCyf"
      },
      "source": [
        "### **Cases Type Distributions:**\n",
        "-   Let's see the distributions of Case Types"
      ]
    },
    {
      "cell_type": "code",
      "execution_count": 23,
      "metadata": {
        "colab": {
          "base_uri": "https://localhost:8080/",
          "height": 0
        },
        "id": "TAAege28bKvx",
        "outputId": "5d23a2ba-0bc2-4c7e-a77e-afc15a67448f"
      },
      "outputs": [
        {
          "data": {
            "application/vnd.microsoft.datawrangler.viewer.v0+json": {
              "columns": [
                {
                  "name": "index",
                  "rawType": "int64",
                  "type": "integer"
                },
                {
                  "name": "Case_Type",
                  "rawType": "object",
                  "type": "string"
                },
                {
                  "name": "Count",
                  "rawType": "int64",
                  "type": "integer"
                }
              ],
              "conversionMethod": "pd.DataFrame",
              "ref": "d0e25764-85d8-4dee-9211-5c843761a63a",
              "rows": [
                [
                  "0",
                  "Outpatient",
                  "270281"
                ],
                [
                  "1",
                  "Day Case",
                  "110487"
                ],
                [
                  "2",
                  "Inpatient",
                  "72223"
                ]
              ],
              "shape": {
                "columns": 2,
                "rows": 3
              }
            },
            "text/html": [
              "<div>\n",
              "<style scoped>\n",
              "    .dataframe tbody tr th:only-of-type {\n",
              "        vertical-align: middle;\n",
              "    }\n",
              "\n",
              "    .dataframe tbody tr th {\n",
              "        vertical-align: top;\n",
              "    }\n",
              "\n",
              "    .dataframe thead th {\n",
              "        text-align: right;\n",
              "    }\n",
              "</style>\n",
              "<table border=\"1\" class=\"dataframe\">\n",
              "  <thead>\n",
              "    <tr style=\"text-align: right;\">\n",
              "      <th></th>\n",
              "      <th>Case_Type</th>\n",
              "      <th>Count</th>\n",
              "    </tr>\n",
              "  </thead>\n",
              "  <tbody>\n",
              "    <tr>\n",
              "      <th>0</th>\n",
              "      <td>Outpatient</td>\n",
              "      <td>270281</td>\n",
              "    </tr>\n",
              "    <tr>\n",
              "      <th>1</th>\n",
              "      <td>Day Case</td>\n",
              "      <td>110487</td>\n",
              "    </tr>\n",
              "    <tr>\n",
              "      <th>2</th>\n",
              "      <td>Inpatient</td>\n",
              "      <td>72223</td>\n",
              "    </tr>\n",
              "  </tbody>\n",
              "</table>\n",
              "</div>"
            ],
            "text/plain": [
              "    Case_Type   Count\n",
              "0  Outpatient  270281\n",
              "1    Day Case  110487\n",
              "2   Inpatient   72223"
            ]
          },
          "execution_count": 23,
          "metadata": {},
          "output_type": "execute_result"
        }
      ],
      "source": [
        "case_type_distribution = df['Case_Type'].value_counts().reset_index()\n",
        "case_type_distribution.columns = ['Case_Type', 'Count']\n",
        "\n",
        "case_type_distribution"
      ]
    },
    {
      "cell_type": "code",
      "execution_count": 24,
      "metadata": {
        "colab": {
          "base_uri": "https://localhost:8080/",
          "height": 0
        },
        "id": "uq3TUfvfcje7",
        "outputId": "0a851850-b5f9-491b-baf3-b0da0d810ea5"
      },
      "outputs": [
        {
          "data": {
            "image/png": "[encoded data removed]",
            "text/plain": [
              "<Figure size 1000x500 with 1 Axes>"
            ]
          },
          "metadata": {},
          "output_type": "display_data"
        }
      ],
      "source": [
        "# Define the explode tuple dynamically\n",
        "explode = [0.03] * len(case_type_distribution)\n",
        "\n",
        "plt.figure(figsize=(10, 5))\n",
        "plt.pie(\n",
        "    case_type_distribution['Count'],\n",
        "    labels=case_type_distribution['Case_Type'],\n",
        "    colors=sns.color_palette('crest_r', n_colors=len(case_type_distribution)),\n",
        "    autopct='%1.1f%%',\n",
        "    startangle=90,\n",
        "    explode=explode\n",
        ")\n",
        "\n",
        "plt.title(\"Distribution of Case Types\")\n",
        "plt.show()"
      ]
    },
    {
      "cell_type": "markdown",
      "metadata": {
        "id": "v5oRN2rXdV_M"
      },
      "source": [
        "**Key Insights**\n",
        "\n",
        "-   Outpatient\n",
        "    - Represents the **majority** of cases: **59.7%**.\n",
        "    - Highlights the **dominance of non-admitted consultations** in the healthcare activity mix.\n",
        "    - Indicates a likely emphasis on **preventive care, follow-ups, or minor procedures**.\n",
        "\n",
        "-   Day Case\n",
        "    - Accounts for **24.4%** of total cases.\n",
        "    - Suggests a **significant number of procedures are performed without overnight stays**.\n",
        "    - Could be optimized further if infrastructure and patient conditions allow.\n",
        "\n",
        "-   Inpatient\n",
        "    - Comprises only **15.9%** of the cases.\n",
        "    - Indicates that **fewer cases require overnight hospitalization**, possibly due to efficiency or a lower acuity patient population.\n",
        "    - Helps reduce overall healthcare costs and resource strain.\n",
        "\n",
        "---\n"
      ]
    },
    {
      "cell_type": "markdown",
      "metadata": {
        "id": "y5hsSwEbdTnK"
      },
      "source": [
        "### **Specialty Analysis:**\n",
        "-   Let's se what is the top 10 specialties in the dataset:"
      ]
    },
    {
      "cell_type": "code",
      "execution_count": 25,
      "metadata": {
        "colab": {
          "base_uri": "https://localhost:8080/",
          "height": 0
        },
        "id": "FStmfRpLdVJw",
        "outputId": "0372d596-14ad-4dc6-d78d-1ed05d994af0"
      },
      "outputs": [
        {
          "data": {
            "application/vnd.microsoft.datawrangler.viewer.v0+json": {
              "columns": [
                {
                  "name": "index",
                  "rawType": "int64",
                  "type": "integer"
                },
                {
                  "name": "Specialty_Name",
                  "rawType": "object",
                  "type": "string"
                },
                {
                  "name": "Total",
                  "rawType": "int64",
                  "type": "integer"
                }
              ],
              "conversionMethod": "pd.DataFrame",
              "ref": "d65140da-b2b6-479f-804c-93ba55d75a02",
              "rows": [
                [
                  "4",
                  "Cardiology",
                  "1100604"
                ],
                [
                  "2",
                  "Breast Surgery",
                  "156736"
                ],
                [
                  "8",
                  "Clinical Immunology",
                  "128125"
                ],
                [
                  "7",
                  "Clinical (Medical) Genetics",
                  "109024"
                ],
                [
                  "1",
                  "Anaesthetics",
                  "78000"
                ],
                [
                  "9",
                  "Clinical Neurophysiology",
                  "56326"
                ],
                [
                  "3",
                  "Cardio-Thoracic Surgery",
                  "31037"
                ],
                [
                  "0",
                  "Accident & Emergency",
                  "6004"
                ],
                [
                  "5",
                  "Chemical Pathology",
                  "2891"
                ],
                [
                  "6",
                  "Child/Adolescent Psychiatry",
                  "2391"
                ]
              ],
              "shape": {
                "columns": 2,
                "rows": 10
              }
            },
            "text/html": [
              "<div>\n",
              "<style scoped>\n",
              "    .dataframe tbody tr th:only-of-type {\n",
              "        vertical-align: middle;\n",
              "    }\n",
              "\n",
              "    .dataframe tbody tr th {\n",
              "        vertical-align: top;\n",
              "    }\n",
              "\n",
              "    .dataframe thead th {\n",
              "        text-align: right;\n",
              "    }\n",
              "</style>\n",
              "<table border=\"1\" class=\"dataframe\">\n",
              "  <thead>\n",
              "    <tr style=\"text-align: right;\">\n",
              "      <th></th>\n",
              "      <th>Specialty_Name</th>\n",
              "      <th>Total</th>\n",
              "    </tr>\n",
              "  </thead>\n",
              "  <tbody>\n",
              "    <tr>\n",
              "      <th>4</th>\n",
              "      <td>Cardiology</td>\n",
              "      <td>1100604</td>\n",
              "    </tr>\n",
              "    <tr>\n",
              "      <th>2</th>\n",
              "      <td>Breast Surgery</td>\n",
              "      <td>156736</td>\n",
              "    </tr>\n",
              "    <tr>\n",
              "      <th>8</th>\n",
              "      <td>Clinical Immunology</td>\n",
              "      <td>128125</td>\n",
              "    </tr>\n",
              "    <tr>\n",
              "      <th>7</th>\n",
              "      <td>Clinical (Medical) Genetics</td>\n",
              "      <td>109024</td>\n",
              "    </tr>\n",
              "    <tr>\n",
              "      <th>1</th>\n",
              "      <td>Anaesthetics</td>\n",
              "      <td>78000</td>\n",
              "    </tr>\n",
              "    <tr>\n",
              "      <th>9</th>\n",
              "      <td>Clinical Neurophysiology</td>\n",
              "      <td>56326</td>\n",
              "    </tr>\n",
              "    <tr>\n",
              "      <th>3</th>\n",
              "      <td>Cardio-Thoracic Surgery</td>\n",
              "      <td>31037</td>\n",
              "    </tr>\n",
              "    <tr>\n",
              "      <th>0</th>\n",
              "      <td>Accident &amp; Emergency</td>\n",
              "      <td>6004</td>\n",
              "    </tr>\n",
              "    <tr>\n",
              "      <th>5</th>\n",
              "      <td>Chemical Pathology</td>\n",
              "      <td>2891</td>\n",
              "    </tr>\n",
              "    <tr>\n",
              "      <th>6</th>\n",
              "      <td>Child/Adolescent Psychiatry</td>\n",
              "      <td>2391</td>\n",
              "    </tr>\n",
              "  </tbody>\n",
              "</table>\n",
              "</div>"
            ],
            "text/plain": [
              "                Specialty_Name    Total\n",
              "4                   Cardiology  1100604\n",
              "2               Breast Surgery   156736\n",
              "8          Clinical Immunology   128125\n",
              "7  Clinical (Medical) Genetics   109024\n",
              "1                 Anaesthetics    78000\n",
              "9     Clinical Neurophysiology    56326\n",
              "3      Cardio-Thoracic Surgery    31037\n",
              "0         Accident & Emergency     6004\n",
              "5           Chemical Pathology     2891\n",
              "6  Child/Adolescent Psychiatry     2391"
            ]
          },
          "execution_count": 25,
          "metadata": {},
          "output_type": "execute_result"
        }
      ],
      "source": [
        "#specialty_df = df.groupby(['Specialty_Name', 'Case_Type'])['Total'].sum().reset_index()\n",
        "specialty_df = df.groupby('Specialty_Name')['Total'].sum().reset_index().head(10).sort_values(by='Total', ascending=False)\n",
        "\n",
        "specialty_df"
      ]
    },
    {
      "cell_type": "code",
      "execution_count": 26,
      "metadata": {
        "colab": {
          "base_uri": "https://localhost:8080/",
          "height": 0
        },
        "id": "dzVSgJsafrN_",
        "outputId": "82f1060b-32bf-4ed2-d7ab-ba4832c70f40"
      },
      "outputs": [
        {
          "data": {
            "image/png": "[encoded data removed]",
            "text/plain": [
              "<Figure size 800x400 with 1 Axes>"
            ]
          },
          "metadata": {},
          "output_type": "display_data"
        }
      ],
      "source": [
        "plt.figure(figsize=(8, 4))\n",
        "sns.barplot(\n",
        "    data=specialty_df,\n",
        "    y='Specialty_Name',\n",
        "    x='Total',\n",
        "    palette='crest_r'\n",
        ")\n",
        "\n",
        "# function to format the values on the yaxis\n",
        "def millions_formatter(x, pos):\n",
        "    if x >= 1_000_000:\n",
        "        return f'{x*1.0/1_000_000:.1f}M'\n",
        "    elif x >= 1_000:\n",
        "        return f'{x*1.0/1_000:.1f}K'\n",
        "    else:\n",
        "        return f'{x:.0f}'\n",
        "\n",
        "# Apply formatter to the current plot\n",
        "formatter = FuncFormatter(millions_formatter)\n",
        "plt.gca().xaxis.set_major_formatter(formatter)\n",
        "\n",
        "plt.title('Top 10 Specialties')\n",
        "plt.xlabel('Total Cases')\n",
        "plt.ylabel('Specialty')\n",
        "\n",
        "sns.despine()\n",
        "plt.tight_layout()\n",
        "plt.show()"
      ]
    },
    {
      "cell_type": "markdown",
      "metadata": {},
      "source": [
        "**Key Insights**\n",
        "\n",
        "-   Cardiology:\n",
        "    - Dominates the chart with **over 1 million cases**.\n",
        "    - Indicates high demand for heart-related services.\n",
        "    - Suggests the need for continued investment in **cardiac care infrastructure and staff**.\n",
        "\n",
        "-   Breast Surgery & Clinical Immunology:\n",
        "    - Each has over **100K cases**.\n",
        "    - Reflects strong demand in **oncology and immune-related conditions**.\n",
        "\n",
        "-   Clinical (Medical) Genetics:\n",
        "    - High volume indicates rising interest in **genomic medicine**.\n",
        "\n",
        "-   Anaesthetics & Clinical Neurophysiology:\n",
        "    - Essential support specialties with **significant case volumes**.\n",
        "    - Central to surgical and neurological diagnostic care.\n",
        "\n",
        "-   Cardio-Thoracic Surgery\n",
        "    - Lower in volume than Cardiology, likely due to its **specialized nature**.\n",
        "\n",
        "-   Accident & Emergency\n",
        "    - Lower than expected—possibly due to data scope or triage protocols.\n",
        "\n",
        "-   Chemical Pathology & Child/Adolescent Psychiatry\n",
        "    - Critical for diagnostics and mental health support.\n",
        "    - Smaller totals, but still among the top 10.\n",
        "\n",
        "---\n"
      ]
    },
    {
      "cell_type": "code",
      "execution_count": 39,
      "metadata": {
        "colab": {
          "base_uri": "https://localhost:8080/",
          "height": 0
        },
        "id": "qPs2JcQKi2_6",
        "outputId": "a6a177fe-64e4-40c7-e900-5eb85afe72fb"
      },
      "outputs": [
        {
          "data": {
            "application/vnd.microsoft.datawrangler.viewer.v0+json": {
              "columns": [
                {
                  "name": "index",
                  "rawType": "int64",
                  "type": "integer"
                },
                {
                  "name": "Specialty Group",
                  "rawType": "object",
                  "type": "string"
                },
                {
                  "name": "Total",
                  "rawType": "int64",
                  "type": "integer"
                }
              ],
              "conversionMethod": "pd.DataFrame",
              "ref": "59684829-df3c-46a6-a8cf-2db353c78796",
              "rows": [
                [
                  "1",
                  "Bones",
                  "3872040"
                ],
                [
                  "8",
                  "ENT",
                  "3164343"
                ],
                [
                  "9",
                  "Eyes",
                  "2018252"
                ],
                [
                  "2",
                  "Brain",
                  "1159445"
                ],
                [
                  "5",
                  "Cosmetic",
                  "769540"
                ]
              ],
              "shape": {
                "columns": 2,
                "rows": 5
              }
            },
            "text/html": [
              "<div>\n",
              "<style scoped>\n",
              "    .dataframe tbody tr th:only-of-type {\n",
              "        vertical-align: middle;\n",
              "    }\n",
              "\n",
              "    .dataframe tbody tr th {\n",
              "        vertical-align: top;\n",
              "    }\n",
              "\n",
              "    .dataframe thead th {\n",
              "        text-align: right;\n",
              "    }\n",
              "</style>\n",
              "<table border=\"1\" class=\"dataframe\">\n",
              "  <thead>\n",
              "    <tr style=\"text-align: right;\">\n",
              "      <th></th>\n",
              "      <th>Specialty Group</th>\n",
              "      <th>Total</th>\n",
              "    </tr>\n",
              "  </thead>\n",
              "  <tbody>\n",
              "    <tr>\n",
              "      <th>1</th>\n",
              "      <td>Bones</td>\n",
              "      <td>3872040</td>\n",
              "    </tr>\n",
              "    <tr>\n",
              "      <th>8</th>\n",
              "      <td>ENT</td>\n",
              "      <td>3164343</td>\n",
              "    </tr>\n",
              "    <tr>\n",
              "      <th>9</th>\n",
              "      <td>Eyes</td>\n",
              "      <td>2018252</td>\n",
              "    </tr>\n",
              "    <tr>\n",
              "      <th>2</th>\n",
              "      <td>Brain</td>\n",
              "      <td>1159445</td>\n",
              "    </tr>\n",
              "    <tr>\n",
              "      <th>5</th>\n",
              "      <td>Cosmetic</td>\n",
              "      <td>769540</td>\n",
              "    </tr>\n",
              "  </tbody>\n",
              "</table>\n",
              "</div>"
            ],
            "text/plain": [
              "  Specialty Group    Total\n",
              "1           Bones  3872040\n",
              "8             ENT  3164343\n",
              "9            Eyes  2018252\n",
              "2           Brain  1159445\n",
              "5        Cosmetic   769540"
            ]
          },
          "execution_count": 39,
          "metadata": {},
          "output_type": "execute_result"
        }
      ],
      "source": [
        "specialty_group = df.groupby('Specialty Group')['Total'].sum().reset_index().head(10).sort_values(by='Total', ascending=False)\n",
        "specialty_group.head(5)\n"
      ]
    },
    {
      "cell_type": "code",
      "execution_count": 28,
      "metadata": {
        "colab": {
          "base_uri": "https://localhost:8080/",
          "height": 0
        },
        "id": "vhn7Yf41kIJM",
        "outputId": "b1ad4f38-e9e4-4333-f440-54ea34e1a624"
      },
      "outputs": [
        {
          "data": {
            "image/png": "[encoded data removed]",
            "text/plain": [
              "<Figure size 800x400 with 1 Axes>"
            ]
          },
          "metadata": {},
          "output_type": "display_data"
        }
      ],
      "source": [
        "plt.figure(figsize=(8, 4))\n",
        "sns.barplot(\n",
        "    data=specialty_group,\n",
        "    y='Specialty Group',\n",
        "    x='Total',\n",
        "    palette='crest_r'\n",
        ")\n",
        "\n",
        "# formatting the xaxis values\n",
        "plt.gca().xaxis.set_major_formatter(formatter)\n",
        "\n",
        "plt.title('Top 10 Specialty Groups')\n",
        "plt.xlabel('Total Cases')\n",
        "plt.ylabel('Specialty Group')\n",
        "\n",
        "sns.despine()\n",
        "plt.tight_layout()\n",
        "plt.show()"
      ]
    },
    {
      "cell_type": "markdown",
      "metadata": {},
      "source": [
        "**Key Insights**\n",
        "\n",
        "1. Bones\n",
        "    - **Highest total cases**, approaching **4 million**.\n",
        "    - Indicates high demand for **orthopedic services**, likely due to aging populations or injury recovery needs.\n",
        "\n",
        "2. ENT (Ear, Nose, Throat)\n",
        "    - Second highest, with **over 3 million cases**.\n",
        "    - Reflects widespread and frequent ENT conditions across all age groups.\n",
        "\n",
        "3. Eyes\n",
        "    - Nearly **2 million cases**.\n",
        "    - Emphasizes the importance of **ophthalmologic care**, possibly including cataracts, vision correction, and screenings.\n",
        "\n",
        "4. Brain\n",
        "    - Around **1.3 million cases**.\n",
        "    - Points to a strong volume in **neurology and neurosurgery**.\n",
        "\n",
        "5. Cosmetic\n",
        "    - Over **800K cases**, indicating **high elective demand** for aesthetic procedures.\n",
        "\n",
        "6. Child Care\n",
        "    - Close to Cosmetic in volume, showing ongoing focus on **pediatric care**.\n",
        "\n",
        "7. Digestive\n",
        "    - Over **600K cases**.\n",
        "    - Suggests steady attention to **gastrointestinal health**.\n",
        "\n",
        "8. Blood\n",
        "    - Moderate volume (~400K), consistent with **hematology and related diagnostics**.\n",
        "\n",
        "9. Dental\n",
        "    - Slightly behind Blood.\n",
        "    - Shows measurable demand for **oral health services**.\n",
        "\n",
        "10. Cancer\n",
        "    - Although lowest in this top 10, still significant.\n",
        "    - May reflect data capture limits or separation into specific subspecialties (e.g., oncology types).\n",
        "\n",
        "---"
      ]
    },
    {
      "cell_type": "markdown",
      "metadata": {
        "id": "M2UzGMkllCh3"
      },
      "source": [
        "### **Age Profiling:**\n",
        "-   Let's see the total of cases by age profile\n"
      ]
    },
    {
      "cell_type": "code",
      "execution_count": 29,
      "metadata": {
        "colab": {
          "base_uri": "https://localhost:8080/"
        },
        "id": "iRS0QNgUmJ-d",
        "outputId": "5d37c014-89b1-43c5-b385-f2ce648ce66e"
      },
      "outputs": [
        {
          "data": {
            "text/plain": [
              "array(['16-64', '65+', '0-15', nan], dtype=object)"
            ]
          },
          "execution_count": 29,
          "metadata": {},
          "output_type": "execute_result"
        }
      ],
      "source": [
        "df['Age_Profile'].unique()"
      ]
    },
    {
      "cell_type": "code",
      "execution_count": 30,
      "metadata": {
        "colab": {
          "base_uri": "https://localhost:8080/",
          "height": 0
        },
        "id": "s-iI3O2vlBf1",
        "outputId": "f1fbfb18-f23d-401a-fcf4-3b49ae34e31e"
      },
      "outputs": [
        {
          "data": {
            "application/vnd.microsoft.datawrangler.viewer.v0+json": {
              "columns": [
                {
                  "name": "index",
                  "rawType": "int64",
                  "type": "integer"
                },
                {
                  "name": "Age_Profile",
                  "rawType": "object",
                  "type": "string"
                },
                {
                  "name": "Total",
                  "rawType": "int64",
                  "type": "integer"
                }
              ],
              "conversionMethod": "pd.DataFrame",
              "ref": "1adbdfd6-da23-4b71-bfa6-eb2c70ae4bd0",
              "rows": [
                [
                  "0",
                  "0-15",
                  "3502498"
                ],
                [
                  "1",
                  "16-64",
                  "15095747"
                ],
                [
                  "2",
                  "65+",
                  "6039484"
                ]
              ],
              "shape": {
                "columns": 2,
                "rows": 3
              }
            },
            "text/html": [
              "<div>\n",
              "<style scoped>\n",
              "    .dataframe tbody tr th:only-of-type {\n",
              "        vertical-align: middle;\n",
              "    }\n",
              "\n",
              "    .dataframe tbody tr th {\n",
              "        vertical-align: top;\n",
              "    }\n",
              "\n",
              "    .dataframe thead th {\n",
              "        text-align: right;\n",
              "    }\n",
              "</style>\n",
              "<table border=\"1\" class=\"dataframe\">\n",
              "  <thead>\n",
              "    <tr style=\"text-align: right;\">\n",
              "      <th></th>\n",
              "      <th>Age_Profile</th>\n",
              "      <th>Total</th>\n",
              "    </tr>\n",
              "  </thead>\n",
              "  <tbody>\n",
              "    <tr>\n",
              "      <th>0</th>\n",
              "      <td>0-15</td>\n",
              "      <td>3502498</td>\n",
              "    </tr>\n",
              "    <tr>\n",
              "      <th>1</th>\n",
              "      <td>16-64</td>\n",
              "      <td>15095747</td>\n",
              "    </tr>\n",
              "    <tr>\n",
              "      <th>2</th>\n",
              "      <td>65+</td>\n",
              "      <td>6039484</td>\n",
              "    </tr>\n",
              "  </tbody>\n",
              "</table>\n",
              "</div>"
            ],
            "text/plain": [
              "  Age_Profile     Total\n",
              "0        0-15   3502498\n",
              "1       16-64  15095747\n",
              "2         65+   6039484"
            ]
          },
          "execution_count": 30,
          "metadata": {},
          "output_type": "execute_result"
        }
      ],
      "source": [
        "age_df = df.groupby('Age_Profile')['Total'].sum().reset_index()\n",
        "age_df"
      ]
    },
    {
      "cell_type": "code",
      "execution_count": 31,
      "metadata": {
        "colab": {
          "base_uri": "https://localhost:8080/",
          "height": 0
        },
        "id": "IvCB2-YolrsW",
        "outputId": "e978bc48-29b6-4ced-f871-0e3127509923"
      },
      "outputs": [
        {
          "data": {
            "image/png": "[encoded data removed]",
            "text/plain": [
              "<Figure size 800x240 with 1 Axes>"
            ]
          },
          "metadata": {},
          "output_type": "display_data"
        }
      ],
      "source": [
        "plt.figure(figsize=(8, 2.4))\n",
        "sns.barplot(\n",
        "    data=age_df,\n",
        "    y='Age_Profile',\n",
        "    x='Total',\n",
        "    palette='crest_r'\n",
        ")\n",
        "\n",
        "# formatting the xaxis values\n",
        "plt.gca().xaxis.set_major_formatter(formatter)\n",
        "\n",
        "plt.title('Total Cases by Age Profile')\n",
        "plt.xlabel('Total Cases')\n",
        "plt.ylabel('Age Profile')\n",
        "\n",
        "sns.despine()\n",
        "plt.tight_layout()\n",
        "plt.show()\n"
      ]
    },
    {
      "cell_type": "markdown",
      "metadata": {},
      "source": [
        "\n",
        "**Overview**\n",
        "\n",
        "    This horizontal bar chart breaks down healthcare cases across three age groups:\n",
        "\n",
        "- Age 16–64\n",
        "    - Represents the **largest share**, with **over 15 million cases**.\n",
        "    - Reflects the active working-age population, likely experiencing diverse healthcare needs: **occupational injuries, chronic conditions, elective surgeries**, and preventive care.\n",
        "\n",
        "- Age 65+\n",
        "    - Accounts for around **6 million cases**.\n",
        "    - Indicative of an aging population with higher frequency of **chronic illnesses, surgeries, and specialist care** (e.g., cardiology, orthopedics).\n",
        "\n",
        "- Age 0–15\n",
        "    - The lowest volume at **under 4 million cases**.\n",
        "    - Still a significant number, reflecting **pediatric care** needs such as vaccinations, respiratory conditions, and ENT issues.\n",
        "\n",
        "---\n"
      ]
    },
    {
      "cell_type": "markdown",
      "metadata": {
        "id": "j9XMQz79oEV7"
      },
      "source": [
        "### **Segment Insights:**\n",
        "-   1- Time Band vs Case Type:\n",
        "    -   Day Cases & Inpatient Cases.\n",
        "    -   Outpatient Cases.\n"
      ]
    },
    {
      "cell_type": "code",
      "execution_count": 32,
      "metadata": {
        "colab": {
          "base_uri": "https://localhost:8080/"
        },
        "id": "Sc7C9CEhriPl",
        "outputId": "4b9060c6-df78-4c3d-a70d-91aadd5d0aa3"
      },
      "outputs": [
        {
          "data": {
            "text/plain": [
              "array(['0-3 Months', '9-12 Months', '12-15 Months', '6-9 Months',\n",
              "       '3-6 Months', '15-18 Months', '18+ Months', nan], dtype=object)"
            ]
          },
          "execution_count": 32,
          "metadata": {},
          "output_type": "execute_result"
        }
      ],
      "source": [
        "df['Time_Bands'] = df['Time_Bands'].replace('18 Months +', '18+ Months')\n",
        "df['Time_Bands'].unique()"
      ]
    },
    {
      "cell_type": "code",
      "execution_count": 33,
      "metadata": {
        "id": "EEAyluHlusqG"
      },
      "outputs": [],
      "source": [
        "time_band_ordered = ['0-3 Months', '3-6 Months', '6-9 Months', '9-12 Months', '12-15 Months', '15-18 Months', '18+ Months']"
      ]
    },
    {
      "cell_type": "code",
      "execution_count": 34,
      "metadata": {
        "colab": {
          "base_uri": "https://localhost:8080/",
          "height": 708
        },
        "id": "e2UjjBh4pQVX",
        "outputId": "136783fc-2076-4277-c028-07faffff85cc"
      },
      "outputs": [
        {
          "data": {
            "application/vnd.microsoft.datawrangler.viewer.v0+json": {
              "columns": [
                {
                  "name": "index",
                  "rawType": "int64",
                  "type": "integer"
                },
                {
                  "name": "Time_Bands",
                  "rawType": "object",
                  "type": "string"
                },
                {
                  "name": "Case_Type",
                  "rawType": "object",
                  "type": "string"
                },
                {
                  "name": "Total",
                  "rawType": "int64",
                  "type": "integer"
                }
              ],
              "conversionMethod": "pd.DataFrame",
              "ref": "c7925701-5021-4e9a-a5b5-d89bc73e7a1f",
              "rows": [
                [
                  "0",
                  "0-3 Months",
                  "Day Case",
                  "782718"
                ],
                [
                  "1",
                  "0-3 Months",
                  "Inpatient",
                  "261174"
                ],
                [
                  "2",
                  "0-3 Months",
                  "Outpatient",
                  "5940446"
                ],
                [
                  "3",
                  "12-15 Months",
                  "Day Case",
                  "114064"
                ],
                [
                  "4",
                  "12-15 Months",
                  "Inpatient",
                  "57880"
                ]
              ],
              "shape": {
                "columns": 3,
                "rows": 5
              }
            },
            "text/html": [
              "<div>\n",
              "<style scoped>\n",
              "    .dataframe tbody tr th:only-of-type {\n",
              "        vertical-align: middle;\n",
              "    }\n",
              "\n",
              "    .dataframe tbody tr th {\n",
              "        vertical-align: top;\n",
              "    }\n",
              "\n",
              "    .dataframe thead th {\n",
              "        text-align: right;\n",
              "    }\n",
              "</style>\n",
              "<table border=\"1\" class=\"dataframe\">\n",
              "  <thead>\n",
              "    <tr style=\"text-align: right;\">\n",
              "      <th></th>\n",
              "      <th>Time_Bands</th>\n",
              "      <th>Case_Type</th>\n",
              "      <th>Total</th>\n",
              "    </tr>\n",
              "  </thead>\n",
              "  <tbody>\n",
              "    <tr>\n",
              "      <th>0</th>\n",
              "      <td>0-3 Months</td>\n",
              "      <td>Day Case</td>\n",
              "      <td>782718</td>\n",
              "    </tr>\n",
              "    <tr>\n",
              "      <th>1</th>\n",
              "      <td>0-3 Months</td>\n",
              "      <td>Inpatient</td>\n",
              "      <td>261174</td>\n",
              "    </tr>\n",
              "    <tr>\n",
              "      <th>2</th>\n",
              "      <td>0-3 Months</td>\n",
              "      <td>Outpatient</td>\n",
              "      <td>5940446</td>\n",
              "    </tr>\n",
              "    <tr>\n",
              "      <th>3</th>\n",
              "      <td>12-15 Months</td>\n",
              "      <td>Day Case</td>\n",
              "      <td>114064</td>\n",
              "    </tr>\n",
              "    <tr>\n",
              "      <th>4</th>\n",
              "      <td>12-15 Months</td>\n",
              "      <td>Inpatient</td>\n",
              "      <td>57880</td>\n",
              "    </tr>\n",
              "  </tbody>\n",
              "</table>\n",
              "</div>"
            ],
            "text/plain": [
              "     Time_Bands   Case_Type    Total\n",
              "0    0-3 Months    Day Case   782718\n",
              "1    0-3 Months   Inpatient   261174\n",
              "2    0-3 Months  Outpatient  5940446\n",
              "3  12-15 Months    Day Case   114064\n",
              "4  12-15 Months   Inpatient    57880"
            ]
          },
          "execution_count": 34,
          "metadata": {},
          "output_type": "execute_result"
        }
      ],
      "source": [
        "time_band_df = df.groupby(['Time_Bands', 'Case_Type'])['Total'].sum().reset_index()\n",
        "time_band_df.head()"
      ]
    },
    {
      "cell_type": "code",
      "execution_count": 35,
      "metadata": {
        "colab": {
          "base_uri": "https://localhost:8080/",
          "height": 112
        },
        "id": "bqBMUcRqrF8e",
        "outputId": "8c0e66ac-605d-4e5e-a017-66f845ef8e91"
      },
      "outputs": [
        {
          "data": {
            "application/vnd.microsoft.datawrangler.viewer.v0+json": {
              "columns": [
                {
                  "name": "index",
                  "rawType": "int64",
                  "type": "integer"
                },
                {
                  "name": "Time_Bands",
                  "rawType": "category",
                  "type": "unknown"
                },
                {
                  "name": "Day Case",
                  "rawType": "int64",
                  "type": "integer"
                },
                {
                  "name": "Inpatient",
                  "rawType": "int64",
                  "type": "integer"
                },
                {
                  "name": "Outpatient",
                  "rawType": "int64",
                  "type": "integer"
                }
              ],
              "conversionMethod": "pd.DataFrame",
              "ref": "39fd57d7-53a0-41a4-891a-626832b3da55",
              "rows": [
                [
                  "0",
                  "0-3 Months",
                  "782718",
                  "261174",
                  "5940446"
                ],
                [
                  "1",
                  "12-15 Months",
                  "114064",
                  "57880",
                  "1675924"
                ]
              ],
              "shape": {
                "columns": 4,
                "rows": 2
              }
            },
            "text/html": [
              "<div>\n",
              "<style scoped>\n",
              "    .dataframe tbody tr th:only-of-type {\n",
              "        vertical-align: middle;\n",
              "    }\n",
              "\n",
              "    .dataframe tbody tr th {\n",
              "        vertical-align: top;\n",
              "    }\n",
              "\n",
              "    .dataframe thead th {\n",
              "        text-align: right;\n",
              "    }\n",
              "</style>\n",
              "<table border=\"1\" class=\"dataframe\">\n",
              "  <thead>\n",
              "    <tr style=\"text-align: right;\">\n",
              "      <th>Case_Type</th>\n",
              "      <th>Time_Bands</th>\n",
              "      <th>Day Case</th>\n",
              "      <th>Inpatient</th>\n",
              "      <th>Outpatient</th>\n",
              "    </tr>\n",
              "  </thead>\n",
              "  <tbody>\n",
              "    <tr>\n",
              "      <th>0</th>\n",
              "      <td>0-3 Months</td>\n",
              "      <td>782718</td>\n",
              "      <td>261174</td>\n",
              "      <td>5940446</td>\n",
              "    </tr>\n",
              "    <tr>\n",
              "      <th>1</th>\n",
              "      <td>12-15 Months</td>\n",
              "      <td>114064</td>\n",
              "      <td>57880</td>\n",
              "      <td>1675924</td>\n",
              "    </tr>\n",
              "  </tbody>\n",
              "</table>\n",
              "</div>"
            ],
            "text/plain": [
              "Case_Type    Time_Bands  Day Case  Inpatient  Outpatient\n",
              "0            0-3 Months    782718     261174     5940446\n",
              "1          12-15 Months    114064      57880     1675924"
            ]
          },
          "execution_count": 35,
          "metadata": {},
          "output_type": "execute_result"
        }
      ],
      "source": [
        "df_time_band_pivot = time_band_df.pivot(columns='Case_Type', index='Time_Bands', values='Total').reset_index()\n",
        "df_time_band_pivot['Time_Bands'] = pd.Categorical(df_time_band_pivot['Time_Bands'], categories=time_band_ordered, ordered=True)\n",
        "df_time_band_pivot.head(2)"
      ]
    },
    {
      "cell_type": "code",
      "execution_count": null,
      "metadata": {
        "colab": {
          "base_uri": "https://localhost:8080/",
          "height": 112
        },
        "id": "Mx1z9tgS1HNy",
        "outputId": "ee9f1ee8-6e43-472f-cbfa-fe746039b7a5"
      },
      "outputs": [
        {
          "data": {
            "application/vnd.microsoft.datawrangler.viewer.v0+json": {
              "columns": [
                {
                  "name": "index",
                  "rawType": "int64",
                  "type": "integer"
                },
                {
                  "name": "Time_Bands",
                  "rawType": "category",
                  "type": "unknown"
                },
                {
                  "name": "Case Type",
                  "rawType": "object",
                  "type": "string"
                },
                {
                  "name": "Total Cases",
                  "rawType": "int64",
                  "type": "integer"
                }
              ],
              "conversionMethod": "pd.DataFrame",
              "ref": "6160c37e-8d23-492a-8eb8-8252098d0f21",
              "rows": [
                [
                  "0",
                  "0-3 Months",
                  "Day Case",
                  "782718"
                ],
                [
                  "1",
                  "12-15 Months",
                  "Day Case",
                  "114064"
                ]
              ],
              "shape": {
                "columns": 3,
                "rows": 2
              }
            },
            "text/html": [
              "<div>\n",
              "<style scoped>\n",
              "    .dataframe tbody tr th:only-of-type {\n",
              "        vertical-align: middle;\n",
              "    }\n",
              "\n",
              "    .dataframe tbody tr th {\n",
              "        vertical-align: top;\n",
              "    }\n",
              "\n",
              "    .dataframe thead th {\n",
              "        text-align: right;\n",
              "    }\n",
              "</style>\n",
              "<table border=\"1\" class=\"dataframe\">\n",
              "  <thead>\n",
              "    <tr style=\"text-align: right;\">\n",
              "      <th></th>\n",
              "      <th>Time_Bands</th>\n",
              "      <th>Case Type</th>\n",
              "      <th>Total Cases</th>\n",
              "    </tr>\n",
              "  </thead>\n",
              "  <tbody>\n",
              "    <tr>\n",
              "      <th>0</th>\n",
              "      <td>0-3 Months</td>\n",
              "      <td>Day Case</td>\n",
              "      <td>782718</td>\n",
              "    </tr>\n",
              "    <tr>\n",
              "      <th>1</th>\n",
              "      <td>12-15 Months</td>\n",
              "      <td>Day Case</td>\n",
              "      <td>114064</td>\n",
              "    </tr>\n",
              "  </tbody>\n",
              "</table>\n",
              "</div>"
            ],
            "text/plain": [
              "     Time_Bands Case Type  Total Cases\n",
              "0    0-3 Months  Day Case       782718\n",
              "1  12-15 Months  Day Case       114064"
            ]
          },
          "execution_count": 36,
          "metadata": {},
          "output_type": "execute_result"
        }
      ],
      "source": [
        "# df to be melted and reshaped for plotting\n",
        "df_melted = df_time_band_pivot.melt(id_vars='Time_Bands',\n",
        "                                    value_vars=df_time_band_pivot.columns[1:-1], # Exclude the first and last columns \n",
        "                                    var_name='Case Type',\n",
        "                                    value_name='Total Cases')\n",
        "\n",
        "df_melted.head(2)"
      ]
    },
    {
      "cell_type": "code",
      "execution_count": 41,
      "metadata": {
        "colab": {
          "base_uri": "https://localhost:8080/",
          "height": 335
        },
        "id": "3IAmtVJov0Yb",
        "outputId": "65687cf1-cfa9-49c6-ef97-5e60c3a3fee7"
      },
      "outputs": [
        {
          "data": {
            "image/png": "[encoded data removed]",
            "text/plain": [
              "<Figure size 800x400 with 1 Axes>"
            ]
          },
          "metadata": {},
          "output_type": "display_data"
        }
      ],
      "source": [
        "plt.figure(figsize=(8, 4))\n",
        "sns.barplot(\n",
        "    data=df_melted,\n",
        "    x='Time_Bands',\n",
        "    y='Total Cases',\n",
        "    hue='Case Type',\n",
        "    palette='tab10'\n",
        ")\n",
        "\n",
        "plt.gca().yaxis.set_major_formatter(formatter)\n",
        "\n",
        "plt.title('Day Cases & Inpatient Cases by Time Band')\n",
        "plt.xlabel('Time Band')\n",
        "plt.ylabel('Total Cases')\n",
        "plt.xticks(rotation=45)\n",
        "plt.legend(ncols=3, loc='upper center', framealpha=False, fontsize=8)\n",
        "\n",
        "sns.despine()\n",
        "plt.tight_layout()\n",
        "plt.show()"
      ]
    },
    {
      "cell_type": "markdown",
      "metadata": {},
      "source": [
        "**Insights**:\n",
        "-   Early Treatment Dominance\n",
        "    - **0–3 Months**: The majority of both **Day Cases (~800K)** and **Inpatients (~270K)** occur within this window.\n",
        "    - Reflects **prompt access to care** post-referral, particularly for less complex treatments.\n",
        "\n",
        "-   Declining Trend Over Time\n",
        "    - Both case types **decrease steadily** across subsequent time bands (3–6, 6–9, etc.).\n",
        "    - Suggests that **delays in care** reduce case volume or possibly shift to long-term pathways.\n",
        "\n",
        "-   18+ Months\n",
        "    - A notable uptick in **both Day Case and Inpatient** cases is seen in the **18+ Months** band.\n",
        "    - Indicates a **backlog or long-waiting patients**, which may require prioritization.\n",
        "\n",
        "---"
      ]
    },
    {
      "cell_type": "code",
      "execution_count": 45,
      "metadata": {},
      "outputs": [
        {
          "data": {
            "application/vnd.microsoft.datawrangler.viewer.v0+json": {
              "columns": [
                {
                  "name": "index",
                  "rawType": "int64",
                  "type": "integer"
                },
                {
                  "name": "Time_Bands",
                  "rawType": "category",
                  "type": "unknown"
                },
                {
                  "name": "Case Type",
                  "rawType": "object",
                  "type": "string"
                },
                {
                  "name": "Total Cases",
                  "rawType": "int64",
                  "type": "integer"
                }
              ],
              "conversionMethod": "pd.DataFrame",
              "ref": "2efb0199-0619-4600-ae41-798e08767ced",
              "rows": [
                [
                  "0",
                  "0-3 Months",
                  "Outpatient",
                  "5940446"
                ],
                [
                  "1",
                  "12-15 Months",
                  "Outpatient",
                  "1675924"
                ]
              ],
              "shape": {
                "columns": 3,
                "rows": 2
              }
            },
            "text/html": [
              "<div>\n",
              "<style scoped>\n",
              "    .dataframe tbody tr th:only-of-type {\n",
              "        vertical-align: middle;\n",
              "    }\n",
              "\n",
              "    .dataframe tbody tr th {\n",
              "        vertical-align: top;\n",
              "    }\n",
              "\n",
              "    .dataframe thead th {\n",
              "        text-align: right;\n",
              "    }\n",
              "</style>\n",
              "<table border=\"1\" class=\"dataframe\">\n",
              "  <thead>\n",
              "    <tr style=\"text-align: right;\">\n",
              "      <th></th>\n",
              "      <th>Time_Bands</th>\n",
              "      <th>Case Type</th>\n",
              "      <th>Total Cases</th>\n",
              "    </tr>\n",
              "  </thead>\n",
              "  <tbody>\n",
              "    <tr>\n",
              "      <th>0</th>\n",
              "      <td>0-3 Months</td>\n",
              "      <td>Outpatient</td>\n",
              "      <td>5940446</td>\n",
              "    </tr>\n",
              "    <tr>\n",
              "      <th>1</th>\n",
              "      <td>12-15 Months</td>\n",
              "      <td>Outpatient</td>\n",
              "      <td>1675924</td>\n",
              "    </tr>\n",
              "  </tbody>\n",
              "</table>\n",
              "</div>"
            ],
            "text/plain": [
              "     Time_Bands   Case Type  Total Cases\n",
              "0    0-3 Months  Outpatient      5940446\n",
              "1  12-15 Months  Outpatient      1675924"
            ]
          },
          "execution_count": 45,
          "metadata": {},
          "output_type": "execute_result"
        }
      ],
      "source": [
        "df_melted_outpatient = df_time_band_pivot.melt(id_vars='Time_Bands',\n",
        "                                    value_vars=df_time_band_pivot.columns[3:], # Exclude the first 3 columns\n",
        "                                    var_name='Case Type',\n",
        "                                    value_name='Total Cases')\n",
        "df_melted_outpatient.head(2)"
      ]
    },
    {
      "cell_type": "code",
      "execution_count": 47,
      "metadata": {},
      "outputs": [
        {
          "data": {
            "image/png": "[encoded data removed]",
            "text/plain": [
              "<Figure size 800x400 with 1 Axes>"
            ]
          },
          "metadata": {},
          "output_type": "display_data"
        }
      ],
      "source": [
        "plt.figure(figsize=(8, 4))\n",
        "sns.barplot(\n",
        "    data=df_melted_outpatient,\n",
        "    x='Time_Bands',\n",
        "    y='Total Cases',\n",
        "    hue='Case Type',\n",
        "    palette='tab10'\n",
        ")\n",
        "\n",
        "plt.gca().yaxis.set_major_formatter(formatter)\n",
        "\n",
        "plt.title('Outpatient Cases by Time Band')\n",
        "plt.xlabel('Time Band')\n",
        "plt.ylabel('Total Cases')\n",
        "plt.xticks(rotation=45)\n",
        "plt.legend(ncols=3, loc='upper center', framealpha=False, fontsize=8)\n",
        "\n",
        "sns.despine()\n",
        "plt.tight_layout()\n",
        "plt.show()"
      ]
    },
    {
      "cell_type": "markdown",
      "metadata": {},
      "source": [
        "**Insights**\n",
        "-   Strong Start\n",
        "    - **0–3 Months** sees the **highest volume** (~6M cases), indicating strong early service responsiveness for outpatient care.\n",
        "\n",
        "-   Gradual Decline\n",
        "    - There is a **steady drop** from **3–6 Months (~3.7M)** to **15–18 Months (~1.3M)**.\n",
        "    - Suggests many patients are treated earlier in the timeline.\n",
        "    - May reflect **effective triage or short-term needs** being prioritized.\n",
        "\n",
        "-   Noticeable Rise in 18+ Months\n",
        "    - A significant **uptick (~4.3M cases)** occurs in the **18+ Months** band.\n",
        "    - Implies a **backlog of long-waiting patients** or **deferred outpatient services**.\n",
        "    - This echoes patterns seen in Day Case and Inpatient plots.\n",
        "\n",
        "---"
      ]
    },
    {
      "cell_type": "markdown",
      "metadata": {},
      "source": [
        "### **Segment Insights:**\n",
        "-   2- Adult vs Child Cases:\n"
      ]
    },
    {
      "cell_type": "code",
      "execution_count": null,
      "metadata": {},
      "outputs": [
        {
          "data": {
            "application/vnd.microsoft.datawrangler.viewer.v0+json": {
              "columns": [
                {
                  "name": "index",
                  "rawType": "int64",
                  "type": "integer"
                },
                {
                  "name": "Adult_Child",
                  "rawType": "object",
                  "type": "string"
                },
                {
                  "name": "count",
                  "rawType": "int64",
                  "type": "integer"
                }
              ],
              "conversionMethod": "pd.DataFrame",
              "ref": "cd207f34-383e-4dbc-9c6c-1f3c3dd01657",
              "rows": [
                [
                  "0",
                  "Adult",
                  "368151"
                ],
                [
                  "1",
                  "Child",
                  "84665"
                ]
              ],
              "shape": {
                "columns": 2,
                "rows": 2
              }
            },
            "text/html": [
              "<div>\n",
              "<style scoped>\n",
              "    .dataframe tbody tr th:only-of-type {\n",
              "        vertical-align: middle;\n",
              "    }\n",
              "\n",
              "    .dataframe tbody tr th {\n",
              "        vertical-align: top;\n",
              "    }\n",
              "\n",
              "    .dataframe thead th {\n",
              "        text-align: right;\n",
              "    }\n",
              "</style>\n",
              "<table border=\"1\" class=\"dataframe\">\n",
              "  <thead>\n",
              "    <tr style=\"text-align: right;\">\n",
              "      <th></th>\n",
              "      <th>Adult_Child</th>\n",
              "      <th>count</th>\n",
              "    </tr>\n",
              "  </thead>\n",
              "  <tbody>\n",
              "    <tr>\n",
              "      <th>0</th>\n",
              "      <td>Adult</td>\n",
              "      <td>368151</td>\n",
              "    </tr>\n",
              "    <tr>\n",
              "      <th>1</th>\n",
              "      <td>Child</td>\n",
              "      <td>84665</td>\n",
              "    </tr>\n",
              "  </tbody>\n",
              "</table>\n",
              "</div>"
            ],
            "text/plain": [
              "  Adult_Child   count\n",
              "0       Adult  368151\n",
              "1       Child   84665"
            ]
          },
          "execution_count": 91,
          "metadata": {},
          "output_type": "execute_result"
        }
      ],
      "source": [
        "child_vs_adult = df['Adult_Child'].value_counts().to_frame().reset_index()\n",
        "child_vs_adult = child_vs_adult[child_vs_adult['Adult_Child'].isin(['Adult', 'Child'])]\n",
        "\n",
        "child_vs_adult"
      ]
    },
    {
      "cell_type": "code",
      "execution_count": null,
      "metadata": {},
      "outputs": [
        {
          "data": {
            "image/png": "[encoded data removed]",
            "text/plain": [
              "<Figure size 800x400 with 1 Axes>"
            ]
          },
          "metadata": {},
          "output_type": "display_data"
        }
      ],
      "source": [
        "# Example explode if not defined already\n",
        "explode = [0.05] * len(child_vs_adult)  # Slightly pop out all slices\n",
        "\n",
        "plt.figure(figsize=(8, 4))\n",
        "\n",
        "plt.pie(\n",
        "    x=child_vs_adult['count'],\n",
        "    labels=child_vs_adult['Adult_Child'],\n",
        "    colors=sns.color_palette('tab10', n_colors=len(child_vs_adult)),\n",
        "    autopct='%1.1f%%',\n",
        "    startangle=180,\n",
        "    explode=explode,\n",
        "    textprops={'fontsize': 10}  # Optional: adjust font size\n",
        ")\n",
        "\n",
        "plt.title('Child vs Adult Cases Distribution', fontsize=12)\n",
        "plt.axis('equal')  # equal aspect ratio ensures the pie is circular\n",
        "plt.show()"
      ]
    },
    {
      "cell_type": "markdown",
      "metadata": {},
      "source": [
        "**Insights**\n",
        "-   🔹 Adult-Dominated Caseload\n",
        "        - **Adults account for 81.3%** of total cases.\n",
        "        - Reflects the **greater healthcare demand** from the adult population.\n",
        "        - Likely influenced by chronic conditions, preventative care, and age-related needs.\n",
        "\n",
        "-   🔸 Child Segment\n",
        "        - **Children make up 18.7%** of the cases.\n",
        "        - Though smaller, this segment is still **significant**, especially for planning pediatric resources.\n",
        "\n",
        "---"
      ]
    },
    {
      "cell_type": "code",
      "execution_count": 79,
      "metadata": {},
      "outputs": [
        {
          "data": {
            "application/vnd.microsoft.datawrangler.viewer.v0+json": {
              "columns": [
                {
                  "name": "index",
                  "rawType": "int64",
                  "type": "integer"
                },
                {
                  "name": "Month_Name",
                  "rawType": "category",
                  "type": "unknown"
                },
                {
                  "name": "Adult_Child",
                  "rawType": "object",
                  "type": "string"
                },
                {
                  "name": "Total",
                  "rawType": "int64",
                  "type": "integer"
                }
              ],
              "conversionMethod": "pd.DataFrame",
              "ref": "6cf2de34-9554-40e4-84c6-eaebeb6054ae",
              "rows": [
                [
                  "1",
                  "Apr",
                  "Adult",
                  "1584460"
                ],
                [
                  "2",
                  "Apr",
                  "Child",
                  "278210"
                ],
                [
                  "4",
                  "Aug",
                  "Adult",
                  "1639213"
                ],
                [
                  "5",
                  "Aug",
                  "Child",
                  "275741"
                ],
                [
                  "7",
                  "Dec",
                  "Adult",
                  "1618434"
                ],
                [
                  "8",
                  "Dec",
                  "Child",
                  "266412"
                ],
                [
                  "10",
                  "Feb",
                  "Adult",
                  "2162622"
                ],
                [
                  "11",
                  "Feb",
                  "Child",
                  "363126"
                ],
                [
                  "13",
                  "Jan",
                  "Adult",
                  "2144065"
                ],
                [
                  "14",
                  "Jan",
                  "Child",
                  "362021"
                ],
                [
                  "16",
                  "Jul",
                  "Adult",
                  "1624564"
                ],
                [
                  "17",
                  "Jul",
                  "Child",
                  "278142"
                ],
                [
                  "19",
                  "Jun",
                  "Adult",
                  "1608703"
                ],
                [
                  "20",
                  "Jun",
                  "Child",
                  "278977"
                ],
                [
                  "22",
                  "Mar",
                  "Adult",
                  "2183517"
                ],
                [
                  "23",
                  "Mar",
                  "Child",
                  "366420"
                ],
                [
                  "25",
                  "May",
                  "Adult",
                  "1598515"
                ],
                [
                  "26",
                  "May",
                  "Child",
                  "279671"
                ],
                [
                  "28",
                  "Nov",
                  "Adult",
                  "1632575"
                ],
                [
                  "29",
                  "Nov",
                  "Child",
                  "268931"
                ],
                [
                  "31",
                  "Oct",
                  "Adult",
                  "1639747"
                ],
                [
                  "32",
                  "Oct",
                  "Child",
                  "270878"
                ],
                [
                  "34",
                  "Sep",
                  "Adult",
                  "1639662"
                ],
                [
                  "35",
                  "Sep",
                  "Child",
                  "273123"
                ]
              ],
              "shape": {
                "columns": 3,
                "rows": 24
              }
            },
            "text/html": [
              "<div>\n",
              "<style scoped>\n",
              "    .dataframe tbody tr th:only-of-type {\n",
              "        vertical-align: middle;\n",
              "    }\n",
              "\n",
              "    .dataframe tbody tr th {\n",
              "        vertical-align: top;\n",
              "    }\n",
              "\n",
              "    .dataframe thead th {\n",
              "        text-align: right;\n",
              "    }\n",
              "</style>\n",
              "<table border=\"1\" class=\"dataframe\">\n",
              "  <thead>\n",
              "    <tr style=\"text-align: right;\">\n",
              "      <th></th>\n",
              "      <th>Month_Name</th>\n",
              "      <th>Adult_Child</th>\n",
              "      <th>Total</th>\n",
              "    </tr>\n",
              "  </thead>\n",
              "  <tbody>\n",
              "    <tr>\n",
              "      <th>1</th>\n",
              "      <td>Apr</td>\n",
              "      <td>Adult</td>\n",
              "      <td>1584460</td>\n",
              "    </tr>\n",
              "    <tr>\n",
              "      <th>2</th>\n",
              "      <td>Apr</td>\n",
              "      <td>Child</td>\n",
              "      <td>278210</td>\n",
              "    </tr>\n",
              "    <tr>\n",
              "      <th>4</th>\n",
              "      <td>Aug</td>\n",
              "      <td>Adult</td>\n",
              "      <td>1639213</td>\n",
              "    </tr>\n",
              "    <tr>\n",
              "      <th>5</th>\n",
              "      <td>Aug</td>\n",
              "      <td>Child</td>\n",
              "      <td>275741</td>\n",
              "    </tr>\n",
              "    <tr>\n",
              "      <th>7</th>\n",
              "      <td>Dec</td>\n",
              "      <td>Adult</td>\n",
              "      <td>1618434</td>\n",
              "    </tr>\n",
              "    <tr>\n",
              "      <th>8</th>\n",
              "      <td>Dec</td>\n",
              "      <td>Child</td>\n",
              "      <td>266412</td>\n",
              "    </tr>\n",
              "    <tr>\n",
              "      <th>10</th>\n",
              "      <td>Feb</td>\n",
              "      <td>Adult</td>\n",
              "      <td>2162622</td>\n",
              "    </tr>\n",
              "    <tr>\n",
              "      <th>11</th>\n",
              "      <td>Feb</td>\n",
              "      <td>Child</td>\n",
              "      <td>363126</td>\n",
              "    </tr>\n",
              "    <tr>\n",
              "      <th>13</th>\n",
              "      <td>Jan</td>\n",
              "      <td>Adult</td>\n",
              "      <td>2144065</td>\n",
              "    </tr>\n",
              "    <tr>\n",
              "      <th>14</th>\n",
              "      <td>Jan</td>\n",
              "      <td>Child</td>\n",
              "      <td>362021</td>\n",
              "    </tr>\n",
              "    <tr>\n",
              "      <th>16</th>\n",
              "      <td>Jul</td>\n",
              "      <td>Adult</td>\n",
              "      <td>1624564</td>\n",
              "    </tr>\n",
              "    <tr>\n",
              "      <th>17</th>\n",
              "      <td>Jul</td>\n",
              "      <td>Child</td>\n",
              "      <td>278142</td>\n",
              "    </tr>\n",
              "    <tr>\n",
              "      <th>19</th>\n",
              "      <td>Jun</td>\n",
              "      <td>Adult</td>\n",
              "      <td>1608703</td>\n",
              "    </tr>\n",
              "    <tr>\n",
              "      <th>20</th>\n",
              "      <td>Jun</td>\n",
              "      <td>Child</td>\n",
              "      <td>278977</td>\n",
              "    </tr>\n",
              "    <tr>\n",
              "      <th>22</th>\n",
              "      <td>Mar</td>\n",
              "      <td>Adult</td>\n",
              "      <td>2183517</td>\n",
              "    </tr>\n",
              "    <tr>\n",
              "      <th>23</th>\n",
              "      <td>Mar</td>\n",
              "      <td>Child</td>\n",
              "      <td>366420</td>\n",
              "    </tr>\n",
              "    <tr>\n",
              "      <th>25</th>\n",
              "      <td>May</td>\n",
              "      <td>Adult</td>\n",
              "      <td>1598515</td>\n",
              "    </tr>\n",
              "    <tr>\n",
              "      <th>26</th>\n",
              "      <td>May</td>\n",
              "      <td>Child</td>\n",
              "      <td>279671</td>\n",
              "    </tr>\n",
              "    <tr>\n",
              "      <th>28</th>\n",
              "      <td>Nov</td>\n",
              "      <td>Adult</td>\n",
              "      <td>1632575</td>\n",
              "    </tr>\n",
              "    <tr>\n",
              "      <th>29</th>\n",
              "      <td>Nov</td>\n",
              "      <td>Child</td>\n",
              "      <td>268931</td>\n",
              "    </tr>\n",
              "    <tr>\n",
              "      <th>31</th>\n",
              "      <td>Oct</td>\n",
              "      <td>Adult</td>\n",
              "      <td>1639747</td>\n",
              "    </tr>\n",
              "    <tr>\n",
              "      <th>32</th>\n",
              "      <td>Oct</td>\n",
              "      <td>Child</td>\n",
              "      <td>270878</td>\n",
              "    </tr>\n",
              "    <tr>\n",
              "      <th>34</th>\n",
              "      <td>Sep</td>\n",
              "      <td>Adult</td>\n",
              "      <td>1639662</td>\n",
              "    </tr>\n",
              "    <tr>\n",
              "      <th>35</th>\n",
              "      <td>Sep</td>\n",
              "      <td>Child</td>\n",
              "      <td>273123</td>\n",
              "    </tr>\n",
              "  </tbody>\n",
              "</table>\n",
              "</div>"
            ],
            "text/plain": [
              "   Month_Name Adult_Child    Total\n",
              "1         Apr       Adult  1584460\n",
              "2         Apr       Child   278210\n",
              "4         Aug       Adult  1639213\n",
              "5         Aug       Child   275741\n",
              "7         Dec       Adult  1618434\n",
              "8         Dec       Child   266412\n",
              "10        Feb       Adult  2162622\n",
              "11        Feb       Child   363126\n",
              "13        Jan       Adult  2144065\n",
              "14        Jan       Child   362021\n",
              "16        Jul       Adult  1624564\n",
              "17        Jul       Child   278142\n",
              "19        Jun       Adult  1608703\n",
              "20        Jun       Child   278977\n",
              "22        Mar       Adult  2183517\n",
              "23        Mar       Child   366420\n",
              "25        May       Adult  1598515\n",
              "26        May       Child   279671\n",
              "28        Nov       Adult  1632575\n",
              "29        Nov       Child   268931\n",
              "31        Oct       Adult  1639747\n",
              "32        Oct       Child   270878\n",
              "34        Sep       Adult  1639662\n",
              "35        Sep       Child   273123"
            ]
          },
          "execution_count": 79,
          "metadata": {},
          "output_type": "execute_result"
        }
      ],
      "source": [
        "adult_vs_child_df = df.groupby(['Month_Name','Adult_Child'])['Total'].sum()\n",
        "adult_vs_child_df.dropna(inplace=True)\n",
        "adult_vs_child_df = adult_vs_child_df.reset_index()\n",
        "adult_vs_child_df['Month_Name'] = adult_vs_child_df['Month_Name'].str[:3] # to abbreviate the month name to the first 3 letters\n",
        "adult_vs_child_df['Month_Name'] = pd.Categorical(adult_vs_child_df['Month_Name'], categories=month_order, ordered=True)\n",
        "adult_vs_child_df = adult_vs_child_df[adult_vs_child_df['Adult_Child'].isin(['Adult', 'Child'])]\n",
        "adult_vs_child_df"
      ]
    },
    {
      "cell_type": "code",
      "execution_count": 138,
      "metadata": {},
      "outputs": [
        {
          "data": {
            "image/png": "[encoded data removed]",
            "text/plain": [
              "<Figure size 800x400 with 1 Axes>"
            ]
          },
          "metadata": {},
          "output_type": "display_data"
        }
      ],
      "source": [
        "plt.figure(figsize=(8, 4))\n",
        "sns.lineplot(\n",
        "    data=adult_vs_child_df,\n",
        "    x='Month_Name',\n",
        "    y='Total',\n",
        "    hue='Adult_Child',\n",
        "    palette='tab10'\n",
        ")\n",
        "\n",
        "plt.gca().yaxis.set_major_formatter(formatter)\n",
        "\n",
        "plt.title('Adult vs Child Cases Over Time', pad=10)\n",
        "plt.xlabel('')\n",
        "\n",
        "plt.legend(ncols=2, loc='upper center', framealpha=False, fontsize=8)\n",
        "\n",
        "sns.despine()\n",
        "plt.tight_layout()\n",
        "plt.show()"
      ]
    },
    {
      "cell_type": "markdown",
      "metadata": {},
      "source": [
        "**Insights**\n",
        "\n",
        "- 🧑 Adult Cases:\n",
        "    - **Consistently higher** volume throughout the year.\n",
        "    - **Notable drop in April** (~2.15M → ~1.65M cases).\n",
        "      - May suggest seasonal trends, system delays, or reporting lags.\n",
        "    - From May to December, volumes remain **stable with slight fluctuation** around ~1.7M.\n",
        "\n",
        "- 👶 Child Cases:\n",
        "    - Relatively **flat and stable**, hovering just under **300K per month**.\n",
        "    - A dip observed in **April**, mirroring adult trend, though less dramatic.\n"
      ]
    },
    {
      "cell_type": "markdown",
      "metadata": {},
      "source": [
        "### **Month over Month (MoM) &Year over Year (YoY) % Change in Cases:**"
      ]
    },
    {
      "cell_type": "markdown",
      "metadata": {},
      "source": [
        "-   Let's create a Monthly Summary:\n",
        "    -   We’ll sum Total per month, so we can compare either month-over-month or year-over-year:"
      ]
    },
    {
      "cell_type": "code",
      "execution_count": null,
      "metadata": {},
      "outputs": [],
      "source": [
        "monthly_cases = df.groupby('Month_Name')['Total'].sum().reset_index()\n",
        "\n",
        "# Calculate the percentage change month-over-month\n",
        "monthly_cases['MoM_change_%'] = (monthly_cases['Total'].pct_change() * 100 ).round(2)\n",
        "monthly_cases['MoM_change_%'] = monthly_cases['MoM_change_%'].fillna(0)  # Fill NaN values with 0 for the first month\n",
        "monthly_cases['Month_Name'] = monthly_cases['Month_Name'].str[:3] # to abbreviate the month name to the first 3 letters\n",
        "# month_order was defined earlier in the code\n",
        "# here you can categorise and order Month_Name to plot\n",
        "monthly_cases['Month_Name'] = pd.Categorical(monthly_cases['Month_Name'], categories=month_order, ordered=True)\n"
      ]
    },
    {
      "cell_type": "code",
      "execution_count": 126,
      "metadata": {},
      "outputs": [
        {
          "data": {
            "image/png": "[encoded data removed]",
            "text/plain": [
              "<Figure size 800x400 with 1 Axes>"
            ]
          },
          "metadata": {},
          "output_type": "display_data"
        }
      ],
      "source": [
        "plt.figure(figsize=(8, 4))\n",
        "sns.barplot(\n",
        "    data=monthly_cases,\n",
        "    x='Month_Name',\n",
        "    y='MoM_change_%',\n",
        "    palette='crest_r'\n",
        ")\n",
        "\n",
        "plt.title('Month Over Month Change in Cases', pad=10)\n",
        "plt.xlabel('')\n",
        "\n",
        "sns.despine()\n",
        "plt.tight_layout()\n",
        "plt.show()"
      ]
    },
    {
      "cell_type": "markdown",
      "metadata": {},
      "source": [
        "**Month-Over-Month (MoM) Change in Total Cases**\n",
        "\n",
        "-   This bar chart shows the **percentage change in total cases** compared to the previous month.\n",
        "\n",
        "- **February & March**:  \n",
        "  - Over **+30% growth** each month.  \n",
        "  - Indicates a **sharp surge in cases** during late Q1.\n",
        "\n",
        "- **May & July**:\n",
        "  - **-25%** MoM drop in both months.\n",
        "  - Possibly due to system delays, seasonal effects, or fewer operational days.\n",
        "\n",
        "- **August–December**:\n",
        "  - Fluctuations become **minimal**, mostly between **-2% and +3%**.\n",
        "  - Suggests a **steady state** of case volume entering the final quarter.\n",
        "\n",
        "---"
      ]
    },
    {
      "cell_type": "code",
      "execution_count": 133,
      "metadata": {},
      "outputs": [
        {
          "data": {
            "application/vnd.microsoft.datawrangler.viewer.v0+json": {
              "columns": [
                {
                  "name": "index",
                  "rawType": "int64",
                  "type": "integer"
                },
                {
                  "name": "Year",
                  "rawType": "object",
                  "type": "string"
                },
                {
                  "name": "Total",
                  "rawType": "int64",
                  "type": "integer"
                },
                {
                  "name": "YoY_change_%",
                  "rawType": "float64",
                  "type": "float"
                }
              ],
              "conversionMethod": "pd.DataFrame",
              "ref": "2deb65a0-3a47-4c72-8e51-2fd17a07fe60",
              "rows": [
                [
                  "0",
                  "2018",
                  "7036731",
                  "0.0"
                ],
                [
                  "1",
                  "2019",
                  "7495574",
                  "6.52"
                ],
                [
                  "2",
                  "2020",
                  "7984923",
                  "6.53"
                ],
                [
                  "3",
                  "2021",
                  "2120979",
                  "-73.44"
                ]
              ],
              "shape": {
                "columns": 3,
                "rows": 4
              }
            },
            "text/html": [
              "<div>\n",
              "<style scoped>\n",
              "    .dataframe tbody tr th:only-of-type {\n",
              "        vertical-align: middle;\n",
              "    }\n",
              "\n",
              "    .dataframe tbody tr th {\n",
              "        vertical-align: top;\n",
              "    }\n",
              "\n",
              "    .dataframe thead th {\n",
              "        text-align: right;\n",
              "    }\n",
              "</style>\n",
              "<table border=\"1\" class=\"dataframe\">\n",
              "  <thead>\n",
              "    <tr style=\"text-align: right;\">\n",
              "      <th></th>\n",
              "      <th>Year</th>\n",
              "      <th>Total</th>\n",
              "      <th>YoY_change_%</th>\n",
              "    </tr>\n",
              "  </thead>\n",
              "  <tbody>\n",
              "    <tr>\n",
              "      <th>0</th>\n",
              "      <td>2018</td>\n",
              "      <td>7036731</td>\n",
              "      <td>0.00</td>\n",
              "    </tr>\n",
              "    <tr>\n",
              "      <th>1</th>\n",
              "      <td>2019</td>\n",
              "      <td>7495574</td>\n",
              "      <td>6.52</td>\n",
              "    </tr>\n",
              "    <tr>\n",
              "      <th>2</th>\n",
              "      <td>2020</td>\n",
              "      <td>7984923</td>\n",
              "      <td>6.53</td>\n",
              "    </tr>\n",
              "    <tr>\n",
              "      <th>3</th>\n",
              "      <td>2021</td>\n",
              "      <td>2120979</td>\n",
              "      <td>-73.44</td>\n",
              "    </tr>\n",
              "  </tbody>\n",
              "</table>\n",
              "</div>"
            ],
            "text/plain": [
              "   Year    Total  YoY_change_%\n",
              "0  2018  7036731          0.00\n",
              "1  2019  7495574          6.52\n",
              "2  2020  7984923          6.53\n",
              "3  2021  2120979        -73.44"
            ]
          },
          "execution_count": 133,
          "metadata": {},
          "output_type": "execute_result"
        }
      ],
      "source": [
        "yearly_cases = df.groupby('Year')['Total'].sum().reset_index()\n",
        "yearly_cases['YoY_change_%'] = (yearly_cases['Total'].pct_change() * 100 ).round(2)\n",
        "yearly_cases['Year'] = yearly_cases['Year'].astype(str)  # Convert Year to string for better x-axis labels\n",
        "yearly_cases['YoY_change_%'] = yearly_cases['YoY_change_%'].fillna(0)  # Fill NaN values with 0 for the first year\n",
        "\n",
        "\n",
        "yearly_cases"
      ]
    },
    {
      "cell_type": "code",
      "execution_count": 136,
      "metadata": {},
      "outputs": [
        {
          "data": {
            "image/png": "[encoded data removed]",
            "text/plain": [
              "<Figure size 800x400 with 1 Axes>"
            ]
          },
          "metadata": {},
          "output_type": "display_data"
        }
      ],
      "source": [
        "plt.figure(figsize=(8, 4))\n",
        "sns.lineplot(\n",
        "    data=yearly_cases,\n",
        "    x='Year',\n",
        "    y='YoY_change_%',\n",
        "    palette='crest_r'\n",
        ")\n",
        "\n",
        "plt.title('Year over Year (YoY %) Change in Cases', pad=10)\n",
        "plt.xlabel('')\n",
        "\n",
        "sns.despine()\n",
        "plt.tight_layout()\n",
        "plt.show()\n"
      ]
    },
    {
      "cell_type": "markdown",
      "metadata": {},
      "source": [
        "**### **Insights**\n",
        "\n",
        "-   **General Trend**\n",
        "    - The YoY percentage change in cases starts at a relatively stable level around **0%** in 2018.\n",
        "    - From 2018 to 2019, there is a slight increase, reaching a peak of approximately **+10%** in 2019.\n",
        "    - In 2020, the trend reverses sharply, with a significant decline in the YoY percentage change.\n",
        "    - By 2021, the YoY percentage change drops dramatically to around **-70%**, indicating a substantial decrease in cases compared to the previous year.\n",
        "\n",
        "-   **Key Observations**\n",
        "    - **Peak Growth in 2019**: The positive growth of about **+10%** indicates a notable increase in cases compared to the previous year.\n",
        "    - **Sharp Decline in 2020**: The transition from a positive to a negative percentage change signifies a sudden drop in cases. This could be attributed to external factors such as changes in reporting, interventions, or other contextual events.\n",
        "    - **Dramatic Drop in 2021**: The steep decline to **-70%** highlights an unprecedented reduction in cases compared to 2020. This could reflect the impact of measures like lockdowns, vaccinations, or behavioral changes.\n"
      ]
    },
    {
      "cell_type": "markdown",
      "metadata": {},
      "source": [
        "### **Conclusion**\n",
        "\n",
        "This analysis provided valuable insights into healthcare case trends across specialties, age groups, and time periods. Key highlights include:\n",
        "\n",
        "- **Outpatient cases dominate**, underlining the importance of non-admitted care services.\n",
        "- **Cardiology** and other high-volume specialties require focused resource planning.\n",
        "- The **adult population accounts for over 80%** of cases, emphasizing the need for adult-focused healthcare services.\n",
        "- A significant **YoY decline in 2021** points to external impacts such as global health events or policy changes.\n",
        "\n",
        "Overall, this project demonstrates the power of exploratory data analysis in uncovering patterns, supporting data-driven decisions, and improving healthcare delivery systems.\n"
      ]
    },
    {
      "cell_type": "markdown",
      "metadata": {},
      "source": [
        "---\n",
        "Prepared by :   Mohamed Fawzi.\n",
        "\n",
        "E-mail      :   modyreturn@gmail.com\n",
        "\n",
        "Github      :   https://github.com/modyreturn\n",
        "\n",
        "Linkedin    :   www.linkedin.com/in/mofawzirj\n",
        "\n"
      ]
    }
  ],
  "metadata": {
    "colab": {
      "collapsed_sections": [
        "VDUqxt_kfJx3",
        "wKmYebizgCxp",
        "dhi5U4rGgI9e",
        "6JifW8rJbCyf",
        "y5hsSwEbdTnK",
        "M2UzGMkllCh3"
      ],
      "provenance": []
    },
    "kernelspec": {
      "display_name": "data_projects",
      "language": "python",
      "name": "python3"
    },
    "language_info": {
      "codemirror_mode": {
        "name": "ipython",
        "version": 3
      },
      "file_extension": ".py",
      "mimetype": "text/x-python",
      "name": "python",
      "nbconvert_exporter": "python",
      "pygments_lexer": "ipython3",
      "version": "3.12.3"
    }
  },
  "nbformat": 4,
  "nbformat_minor": 0
}

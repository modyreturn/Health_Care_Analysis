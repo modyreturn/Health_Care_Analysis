{
 "cells": [
  {
   "cell_type": "code",
   "execution_count": 1,
   "id": "d4d08ec2",
   "metadata": {},
   "outputs": [
    {
     "data": {
      "application/vnd.microsoft.datawrangler.viewer.v0+json": {
       "columns": [
        {
         "name": "index",
         "rawType": "int64",
         "type": "integer"
        },
        {
         "name": "Archive_Date",
         "rawType": "object",
         "type": "string"
        },
        {
         "name": "Specialty_HIPE",
         "rawType": "float64",
         "type": "float"
        },
        {
         "name": "Specialty_Name",
         "rawType": "object",
         "type": "string"
        },
        {
         "name": "Adult_Child",
         "rawType": "object",
         "type": "string"
        },
        {
         "name": "Age_Profile",
         "rawType": "object",
         "type": "string"
        },
        {
         "name": "Time_Bands",
         "rawType": "object",
         "type": "string"
        },
        {
         "name": "Total",
         "rawType": "int64",
         "type": "integer"
        },
        {
         "name": "Case_Type",
         "rawType": "object",
         "type": "string"
        }
       ],
       "conversionMethod": "pd.DataFrame",
       "ref": "1e8b536d-2d74-4745-a86f-551638ea9427",
       "rows": [
        [
         "0",
         "2018-02-28",
         "0.0",
         "Small Volume Specialities",
         "Adult",
         "16-64",
         "  0-3 Months",
         "1",
         "Day Case"
        ],
        [
         "1",
         "2018-02-28",
         "0.0",
         "Small Volume Specialities",
         "Adult",
         "16-64",
         "  0-3 Months",
         "1",
         "Day Case"
        ]
       ],
       "shape": {
        "columns": 8,
        "rows": 2
       }
      },
      "text/html": [
       "<div>\n",
       "<style scoped>\n",
       "    .dataframe tbody tr th:only-of-type {\n",
       "        vertical-align: middle;\n",
       "    }\n",
       "\n",
       "    .dataframe tbody tr th {\n",
       "        vertical-align: top;\n",
       "    }\n",
       "\n",
       "    .dataframe thead th {\n",
       "        text-align: right;\n",
       "    }\n",
       "</style>\n",
       "<table border=\"1\" class=\"dataframe\">\n",
       "  <thead>\n",
       "    <tr style=\"text-align: right;\">\n",
       "      <th></th>\n",
       "      <th>Archive_Date</th>\n",
       "      <th>Specialty_HIPE</th>\n",
       "      <th>Specialty_Name</th>\n",
       "      <th>Adult_Child</th>\n",
       "      <th>Age_Profile</th>\n",
       "      <th>Time_Bands</th>\n",
       "      <th>Total</th>\n",
       "      <th>Case_Type</th>\n",
       "    </tr>\n",
       "  </thead>\n",
       "  <tbody>\n",
       "    <tr>\n",
       "      <th>0</th>\n",
       "      <td>2018-02-28</td>\n",
       "      <td>0.0</td>\n",
       "      <td>Small Volume Specialities</td>\n",
       "      <td>Adult</td>\n",
       "      <td>16-64</td>\n",
       "      <td>0-3 Months</td>\n",
       "      <td>1</td>\n",
       "      <td>Day Case</td>\n",
       "    </tr>\n",
       "    <tr>\n",
       "      <th>1</th>\n",
       "      <td>2018-02-28</td>\n",
       "      <td>0.0</td>\n",
       "      <td>Small Volume Specialities</td>\n",
       "      <td>Adult</td>\n",
       "      <td>16-64</td>\n",
       "      <td>0-3 Months</td>\n",
       "      <td>1</td>\n",
       "      <td>Day Case</td>\n",
       "    </tr>\n",
       "  </tbody>\n",
       "</table>\n",
       "</div>"
      ],
      "text/plain": [
       "  Archive_Date  Specialty_HIPE             Specialty_Name Adult_Child  \\\n",
       "0   2018-02-28             0.0  Small Volume Specialities       Adult   \n",
       "1   2018-02-28             0.0  Small Volume Specialities       Adult   \n",
       "\n",
       "  Age_Profile    Time_Bands  Total Case_Type  \n",
       "0       16-64    0-3 Months      1  Day Case  \n",
       "1       16-64    0-3 Months      1  Day Case  "
      ]
     },
     "execution_count": 1,
     "metadata": {},
     "output_type": "execute_result"
    }
   ],
   "source": [
    "import pandas as pd\n",
    "import numpy as np\n",
    "import matplotlib.pyplot as plt\n",
    "import seaborn as sns\n",
    "\n",
    "import warnings\n",
    "warnings.filterwarnings('ignore')\n",
    "\n",
    "df = pd.read_csv(r\"C:\\Users\\Mohamed Fawzi\\Desktop\\Health Care Analysis\\merged_data.csv\")\n",
    "\n",
    "df.head(2)"
   ]
  },
  {
   "cell_type": "code",
   "execution_count": 2,
   "id": "37f7afb2",
   "metadata": {},
   "outputs": [
    {
     "data": {
      "application/vnd.microsoft.datawrangler.viewer.v0+json": {
       "columns": [
        {
         "name": "index",
         "rawType": "object",
         "type": "string"
        },
        {
         "name": "Specialty_HIPE",
         "rawType": "float64",
         "type": "float"
        },
        {
         "name": "Total",
         "rawType": "float64",
         "type": "float"
        }
       ],
       "conversionMethod": "pd.DataFrame",
       "ref": "1d64351f-d523-4f0f-a5ed-3834a1c3f08f",
       "rows": [
        [
         "count",
         "452800.0",
         "452991.0"
        ],
        [
         "mean",
         "2619.1445759717312",
         "54.39005852213399"
        ],
        [
         "std",
         "2362.043475185623",
         "120.7928371221548"
        ],
        [
         "min",
         "0.0",
         "1.0"
        ],
        [
         "25%",
         "1300.0",
         "3.0"
        ],
        [
         "50%",
         "1900.0",
         "13.0"
        ],
        [
         "75%",
         "2600.0",
         "53.0"
        ],
        [
         "max",
         "9000.0",
         "4239.0"
        ]
       ],
       "shape": {
        "columns": 2,
        "rows": 8
       }
      },
      "text/html": [
       "<div>\n",
       "<style scoped>\n",
       "    .dataframe tbody tr th:only-of-type {\n",
       "        vertical-align: middle;\n",
       "    }\n",
       "\n",
       "    .dataframe tbody tr th {\n",
       "        vertical-align: top;\n",
       "    }\n",
       "\n",
       "    .dataframe thead th {\n",
       "        text-align: right;\n",
       "    }\n",
       "</style>\n",
       "<table border=\"1\" class=\"dataframe\">\n",
       "  <thead>\n",
       "    <tr style=\"text-align: right;\">\n",
       "      <th></th>\n",
       "      <th>Specialty_HIPE</th>\n",
       "      <th>Total</th>\n",
       "    </tr>\n",
       "  </thead>\n",
       "  <tbody>\n",
       "    <tr>\n",
       "      <th>count</th>\n",
       "      <td>452800.000000</td>\n",
       "      <td>452991.000000</td>\n",
       "    </tr>\n",
       "    <tr>\n",
       "      <th>mean</th>\n",
       "      <td>2619.144576</td>\n",
       "      <td>54.390059</td>\n",
       "    </tr>\n",
       "    <tr>\n",
       "      <th>std</th>\n",
       "      <td>2362.043475</td>\n",
       "      <td>120.792837</td>\n",
       "    </tr>\n",
       "    <tr>\n",
       "      <th>min</th>\n",
       "      <td>0.000000</td>\n",
       "      <td>1.000000</td>\n",
       "    </tr>\n",
       "    <tr>\n",
       "      <th>25%</th>\n",
       "      <td>1300.000000</td>\n",
       "      <td>3.000000</td>\n",
       "    </tr>\n",
       "    <tr>\n",
       "      <th>50%</th>\n",
       "      <td>1900.000000</td>\n",
       "      <td>13.000000</td>\n",
       "    </tr>\n",
       "    <tr>\n",
       "      <th>75%</th>\n",
       "      <td>2600.000000</td>\n",
       "      <td>53.000000</td>\n",
       "    </tr>\n",
       "    <tr>\n",
       "      <th>max</th>\n",
       "      <td>9000.000000</td>\n",
       "      <td>4239.000000</td>\n",
       "    </tr>\n",
       "  </tbody>\n",
       "</table>\n",
       "</div>"
      ],
      "text/plain": [
       "       Specialty_HIPE          Total\n",
       "count   452800.000000  452991.000000\n",
       "mean      2619.144576      54.390059\n",
       "std       2362.043475     120.792837\n",
       "min          0.000000       1.000000\n",
       "25%       1300.000000       3.000000\n",
       "50%       1900.000000      13.000000\n",
       "75%       2600.000000      53.000000\n",
       "max       9000.000000    4239.000000"
      ]
     },
     "execution_count": 2,
     "metadata": {},
     "output_type": "execute_result"
    }
   ],
   "source": [
    "df.describe()"
   ]
  },
  {
   "cell_type": "code",
   "execution_count": 10,
   "id": "edccf19f",
   "metadata": {},
   "outputs": [
    {
     "data": {
      "application/vnd.microsoft.datawrangler.viewer.v0+json": {
       "columns": [
        {
         "name": "index",
         "rawType": "int64",
         "type": "integer"
        },
        {
         "name": "Archive_Date",
         "rawType": "datetime64[ns]",
         "type": "datetime"
        },
        {
         "name": "Specialty_HIPE",
         "rawType": "float64",
         "type": "float"
        },
        {
         "name": "Specialty_Name",
         "rawType": "object",
         "type": "string"
        },
        {
         "name": "Adult_Child",
         "rawType": "object",
         "type": "string"
        },
        {
         "name": "Age_Profile",
         "rawType": "object",
         "type": "string"
        },
        {
         "name": "Time_Bands",
         "rawType": "object",
         "type": "string"
        },
        {
         "name": "Total",
         "rawType": "int64",
         "type": "integer"
        },
        {
         "name": "Case_Type",
         "rawType": "object",
         "type": "string"
        },
        {
         "name": "Year",
         "rawType": "int32",
         "type": "integer"
        },
        {
         "name": "Month",
         "rawType": "int32",
         "type": "integer"
        },
        {
         "name": "Month_Name",
         "rawType": "object",
         "type": "string"
        },
        {
         "name": "Day",
         "rawType": "int32",
         "type": "integer"
        }
       ],
       "conversionMethod": "pd.DataFrame",
       "ref": "31feb5df-5b99-461a-8f40-1def1df5d664",
       "rows": [
        [
         "0",
         "2018-02-28 00:00:00",
         "0.0",
         "Small Volume Specialities",
         "Adult",
         "16-64",
         "  0-3 Months",
         "1",
         "Day Case",
         "2018",
         "2",
         "February",
         "28"
        ],
        [
         "1",
         "2018-02-28 00:00:00",
         "0.0",
         "Small Volume Specialities",
         "Adult",
         "16-64",
         "  0-3 Months",
         "1",
         "Day Case",
         "2018",
         "2",
         "February",
         "28"
        ],
        [
         "2",
         "2018-02-28 00:00:00",
         "0.0",
         "Small Volume Specialities",
         "Adult",
         "16-64",
         "  9-12 Months",
         "1",
         "Inpatient",
         "2018",
         "2",
         "February",
         "28"
        ],
        [
         "3",
         "2018-02-28 00:00:00",
         "0.0",
         "Small Volume Specialities",
         "Adult",
         "16-64",
         " 0-3 Months",
         "1",
         "Outpatient",
         "2018",
         "2",
         "February",
         "28"
        ],
        [
         "4",
         "2018-02-28 00:00:00",
         "0.0",
         "Small Volume Specialities",
         "Adult",
         "16-64",
         " 0-3 Months",
         "1",
         "Outpatient",
         "2018",
         "2",
         "February",
         "28"
        ]
       ],
       "shape": {
        "columns": 12,
        "rows": 5
       }
      },
      "text/html": [
       "<div>\n",
       "<style scoped>\n",
       "    .dataframe tbody tr th:only-of-type {\n",
       "        vertical-align: middle;\n",
       "    }\n",
       "\n",
       "    .dataframe tbody tr th {\n",
       "        vertical-align: top;\n",
       "    }\n",
       "\n",
       "    .dataframe thead th {\n",
       "        text-align: right;\n",
       "    }\n",
       "</style>\n",
       "<table border=\"1\" class=\"dataframe\">\n",
       "  <thead>\n",
       "    <tr style=\"text-align: right;\">\n",
       "      <th></th>\n",
       "      <th>Archive_Date</th>\n",
       "      <th>Specialty_HIPE</th>\n",
       "      <th>Specialty_Name</th>\n",
       "      <th>Adult_Child</th>\n",
       "      <th>Age_Profile</th>\n",
       "      <th>Time_Bands</th>\n",
       "      <th>Total</th>\n",
       "      <th>Case_Type</th>\n",
       "      <th>Year</th>\n",
       "      <th>Month</th>\n",
       "      <th>Month_Name</th>\n",
       "      <th>Day</th>\n",
       "    </tr>\n",
       "  </thead>\n",
       "  <tbody>\n",
       "    <tr>\n",
       "      <th>0</th>\n",
       "      <td>2018-02-28</td>\n",
       "      <td>0.0</td>\n",
       "      <td>Small Volume Specialities</td>\n",
       "      <td>Adult</td>\n",
       "      <td>16-64</td>\n",
       "      <td>0-3 Months</td>\n",
       "      <td>1</td>\n",
       "      <td>Day Case</td>\n",
       "      <td>2018</td>\n",
       "      <td>2</td>\n",
       "      <td>February</td>\n",
       "      <td>28</td>\n",
       "    </tr>\n",
       "    <tr>\n",
       "      <th>1</th>\n",
       "      <td>2018-02-28</td>\n",
       "      <td>0.0</td>\n",
       "      <td>Small Volume Specialities</td>\n",
       "      <td>Adult</td>\n",
       "      <td>16-64</td>\n",
       "      <td>0-3 Months</td>\n",
       "      <td>1</td>\n",
       "      <td>Day Case</td>\n",
       "      <td>2018</td>\n",
       "      <td>2</td>\n",
       "      <td>February</td>\n",
       "      <td>28</td>\n",
       "    </tr>\n",
       "    <tr>\n",
       "      <th>2</th>\n",
       "      <td>2018-02-28</td>\n",
       "      <td>0.0</td>\n",
       "      <td>Small Volume Specialities</td>\n",
       "      <td>Adult</td>\n",
       "      <td>16-64</td>\n",
       "      <td>9-12 Months</td>\n",
       "      <td>1</td>\n",
       "      <td>Inpatient</td>\n",
       "      <td>2018</td>\n",
       "      <td>2</td>\n",
       "      <td>February</td>\n",
       "      <td>28</td>\n",
       "    </tr>\n",
       "    <tr>\n",
       "      <th>3</th>\n",
       "      <td>2018-02-28</td>\n",
       "      <td>0.0</td>\n",
       "      <td>Small Volume Specialities</td>\n",
       "      <td>Adult</td>\n",
       "      <td>16-64</td>\n",
       "      <td>0-3 Months</td>\n",
       "      <td>1</td>\n",
       "      <td>Outpatient</td>\n",
       "      <td>2018</td>\n",
       "      <td>2</td>\n",
       "      <td>February</td>\n",
       "      <td>28</td>\n",
       "    </tr>\n",
       "    <tr>\n",
       "      <th>4</th>\n",
       "      <td>2018-02-28</td>\n",
       "      <td>0.0</td>\n",
       "      <td>Small Volume Specialities</td>\n",
       "      <td>Adult</td>\n",
       "      <td>16-64</td>\n",
       "      <td>0-3 Months</td>\n",
       "      <td>1</td>\n",
       "      <td>Outpatient</td>\n",
       "      <td>2018</td>\n",
       "      <td>2</td>\n",
       "      <td>February</td>\n",
       "      <td>28</td>\n",
       "    </tr>\n",
       "  </tbody>\n",
       "</table>\n",
       "</div>"
      ],
      "text/plain": [
       "  Archive_Date  Specialty_HIPE             Specialty_Name Adult_Child  \\\n",
       "0   2018-02-28             0.0  Small Volume Specialities       Adult   \n",
       "1   2018-02-28             0.0  Small Volume Specialities       Adult   \n",
       "2   2018-02-28             0.0  Small Volume Specialities       Adult   \n",
       "3   2018-02-28             0.0  Small Volume Specialities       Adult   \n",
       "4   2018-02-28             0.0  Small Volume Specialities       Adult   \n",
       "\n",
       "  Age_Profile     Time_Bands  Total   Case_Type  Year  Month Month_Name  Day  \n",
       "0       16-64     0-3 Months      1    Day Case  2018      2   February   28  \n",
       "1       16-64     0-3 Months      1    Day Case  2018      2   February   28  \n",
       "2       16-64    9-12 Months      1   Inpatient  2018      2   February   28  \n",
       "3       16-64     0-3 Months      1  Outpatient  2018      2   February   28  \n",
       "4       16-64     0-3 Months      1  Outpatient  2018      2   February   28  "
      ]
     },
     "execution_count": 10,
     "metadata": {},
     "output_type": "execute_result"
    }
   ],
   "source": [
    "df['Archive_Date'] = pd.to_datetime(df['Archive_Date'])\n",
    "df['Year'] = df['Archive_Date'].dt.year\n",
    "df['Month'] = df['Archive_Date'].dt.month\n",
    "df['Month_Name'] = df['Archive_Date'].dt.month_name()\n",
    "df['Day'] = df['Archive_Date'].dt.day\n",
    "df.head()"
   ]
  },
  {
   "cell_type": "code",
   "execution_count": 4,
   "id": "3aef2e9e",
   "metadata": {},
   "outputs": [
    {
     "data": {
      "application/vnd.microsoft.datawrangler.viewer.v0+json": {
       "columns": [
        {
         "name": "index",
         "rawType": "int64",
         "type": "integer"
        },
        {
         "name": "Case_Type",
         "rawType": "object",
         "type": "string"
        },
        {
         "name": "count",
         "rawType": "int64",
         "type": "integer"
        }
       ],
       "conversionMethod": "pd.DataFrame",
       "ref": "409e8d70-20d0-4ba7-9ea4-c89bef69cd0e",
       "rows": [
        [
         "0",
         "Outpatient",
         "270281"
        ],
        [
         "1",
         "Day Case",
         "110487"
        ],
        [
         "2",
         "Inpatient",
         "72223"
        ]
       ],
       "shape": {
        "columns": 2,
        "rows": 3
       }
      },
      "text/html": [
       "<div>\n",
       "<style scoped>\n",
       "    .dataframe tbody tr th:only-of-type {\n",
       "        vertical-align: middle;\n",
       "    }\n",
       "\n",
       "    .dataframe tbody tr th {\n",
       "        vertical-align: top;\n",
       "    }\n",
       "\n",
       "    .dataframe thead th {\n",
       "        text-align: right;\n",
       "    }\n",
       "</style>\n",
       "<table border=\"1\" class=\"dataframe\">\n",
       "  <thead>\n",
       "    <tr style=\"text-align: right;\">\n",
       "      <th></th>\n",
       "      <th>Case_Type</th>\n",
       "      <th>count</th>\n",
       "    </tr>\n",
       "  </thead>\n",
       "  <tbody>\n",
       "    <tr>\n",
       "      <th>0</th>\n",
       "      <td>Outpatient</td>\n",
       "      <td>270281</td>\n",
       "    </tr>\n",
       "    <tr>\n",
       "      <th>1</th>\n",
       "      <td>Day Case</td>\n",
       "      <td>110487</td>\n",
       "    </tr>\n",
       "    <tr>\n",
       "      <th>2</th>\n",
       "      <td>Inpatient</td>\n",
       "      <td>72223</td>\n",
       "    </tr>\n",
       "  </tbody>\n",
       "</table>\n",
       "</div>"
      ],
      "text/plain": [
       "    Case_Type   count\n",
       "0  Outpatient  270281\n",
       "1    Day Case  110487\n",
       "2   Inpatient   72223"
      ]
     },
     "execution_count": 4,
     "metadata": {},
     "output_type": "execute_result"
    }
   ],
   "source": [
    "# Case Type Distribution\n",
    "df_case_type = df['Case_Type'].value_counts().to_frame().reset_index()\n",
    "\n",
    "df_case_type"
   ]
  },
  {
   "cell_type": "code",
   "execution_count": 5,
   "id": "b2028ebe",
   "metadata": {},
   "outputs": [
    {
     "data": {
      "image/png": "[encoded data removed]",
      "text/plain": [
       "<Figure size 700x300 with 1 Axes>"
      ]
     },
     "metadata": {},
     "output_type": "display_data"
    }
   ],
   "source": [
    "plt.figure(figsize = (7, 3))\n",
    "sns.barplot(\n",
    "    data = df_case_type,\n",
    "    y = 'Case_Type',\n",
    "    x = 'count',\n",
    "    palette = 'crest_r',\n",
    "    hue = 'Case_Type',\n",
    "    \n",
    ")\n",
    "\n",
    "plt.title('Case Type Distribution', pad=15, fontsize=15)\n",
    "plt.xlabel('Number of Cases')\n",
    "plt.ylabel('Case Type')\n",
    "\n",
    "sns.despine()\n",
    "plt.tight_layout()\n",
    "plt.show()"
   ]
  },
  {
   "cell_type": "code",
   "execution_count": 19,
   "id": "7211464c",
   "metadata": {},
   "outputs": [
    {
     "data": {
      "application/vnd.microsoft.datawrangler.viewer.v0+json": {
       "columns": [
        {
         "name": "index",
         "rawType": "int64",
         "type": "integer"
        },
        {
         "name": "Year",
         "rawType": "int32",
         "type": "integer"
        },
        {
         "name": "Month_Name",
         "rawType": "category",
         "type": "unknown"
        },
        {
         "name": "Case_Type",
         "rawType": "object",
         "type": "string"
        },
        {
         "name": "count",
         "rawType": "int64",
         "type": "integer"
        }
       ],
       "conversionMethod": "pd.DataFrame",
       "ref": "e91536f4-d4d3-46d2-a480-58a91e413c81",
       "rows": [
        [
         "0",
         "2018",
         "January",
         "Day Case",
         "2778"
        ],
        [
         "1",
         "2018",
         "January",
         "Inpatient",
         "1884"
        ],
        [
         "2",
         "2018",
         "January",
         "Outpatient",
         "6868"
        ],
        [
         "3",
         "2018",
         "February",
         "Day Case",
         "2791"
        ],
        [
         "4",
         "2018",
         "February",
         "Inpatient",
         "1942"
        ],
        [
         "5",
         "2018",
         "February",
         "Outpatient",
         "6873"
        ],
        [
         "6",
         "2018",
         "March",
         "Day Case",
         "2825"
        ],
        [
         "7",
         "2018",
         "March",
         "Inpatient",
         "1972"
        ],
        [
         "8",
         "2018",
         "March",
         "Outpatient",
         "6910"
        ],
        [
         "9",
         "2018",
         "April",
         "Day Case",
         "2806"
        ],
        [
         "10",
         "2018",
         "April",
         "Inpatient",
         "1939"
        ],
        [
         "11",
         "2018",
         "April",
         "Outpatient",
         "6912"
        ],
        [
         "12",
         "2018",
         "May",
         "Day Case",
         "2797"
        ],
        [
         "13",
         "2018",
         "May",
         "Inpatient",
         "1932"
        ],
        [
         "14",
         "2018",
         "May",
         "Outpatient",
         "6899"
        ],
        [
         "15",
         "2018",
         "June",
         "Day Case",
         "2815"
        ],
        [
         "16",
         "2018",
         "June",
         "Inpatient",
         "1925"
        ],
        [
         "17",
         "2018",
         "June",
         "Outpatient",
         "6895"
        ],
        [
         "18",
         "2018",
         "July",
         "Day Case",
         "2806"
        ],
        [
         "19",
         "2018",
         "July",
         "Inpatient",
         "1896"
        ],
        [
         "20",
         "2018",
         "July",
         "Outpatient",
         "6823"
        ],
        [
         "21",
         "2018",
         "August",
         "Day Case",
         "2831"
        ],
        [
         "22",
         "2018",
         "August",
         "Inpatient",
         "1920"
        ],
        [
         "23",
         "2018",
         "August",
         "Outpatient",
         "6857"
        ],
        [
         "24",
         "2018",
         "September",
         "Day Case",
         "2814"
        ],
        [
         "25",
         "2018",
         "September",
         "Inpatient",
         "1914"
        ],
        [
         "26",
         "2018",
         "September",
         "Outpatient",
         "6853"
        ],
        [
         "27",
         "2018",
         "October",
         "Day Case",
         "2750"
        ],
        [
         "28",
         "2018",
         "October",
         "Inpatient",
         "1837"
        ],
        [
         "29",
         "2018",
         "October",
         "Outpatient",
         "6838"
        ],
        [
         "30",
         "2018",
         "November",
         "Day Case",
         "2707"
        ],
        [
         "31",
         "2018",
         "November",
         "Inpatient",
         "1772"
        ],
        [
         "32",
         "2018",
         "November",
         "Outpatient",
         "6803"
        ],
        [
         "33",
         "2018",
         "December",
         "Day Case",
         "2559"
        ],
        [
         "34",
         "2018",
         "December",
         "Inpatient",
         "1739"
        ],
        [
         "35",
         "2018",
         "December",
         "Outpatient",
         "6720"
        ],
        [
         "36",
         "2019",
         "January",
         "Day Case",
         "2627"
        ],
        [
         "37",
         "2019",
         "January",
         "Inpatient",
         "1748"
        ],
        [
         "38",
         "2019",
         "January",
         "Outpatient",
         "6678"
        ],
        [
         "39",
         "2019",
         "February",
         "Day Case",
         "2677"
        ],
        [
         "40",
         "2019",
         "February",
         "Inpatient",
         "1772"
        ],
        [
         "41",
         "2019",
         "February",
         "Outpatient",
         "6719"
        ],
        [
         "42",
         "2019",
         "March",
         "Day Case",
         "2649"
        ],
        [
         "43",
         "2019",
         "March",
         "Inpatient",
         "1807"
        ],
        [
         "44",
         "2019",
         "March",
         "Outpatient",
         "6774"
        ],
        [
         "45",
         "2019",
         "April",
         "Day Case",
         "2670"
        ],
        [
         "46",
         "2019",
         "April",
         "Inpatient",
         "1751"
        ],
        [
         "47",
         "2019",
         "April",
         "Outpatient",
         "6669"
        ],
        [
         "48",
         "2019",
         "May",
         "Day Case",
         "2633"
        ],
        [
         "49",
         "2019",
         "May",
         "Inpatient",
         "1750"
        ]
       ],
       "shape": {
        "columns": 4,
        "rows": 117
       }
      },
      "text/html": [
       "<div>\n",
       "<style scoped>\n",
       "    .dataframe tbody tr th:only-of-type {\n",
       "        vertical-align: middle;\n",
       "    }\n",
       "\n",
       "    .dataframe tbody tr th {\n",
       "        vertical-align: top;\n",
       "    }\n",
       "\n",
       "    .dataframe thead th {\n",
       "        text-align: right;\n",
       "    }\n",
       "</style>\n",
       "<table border=\"1\" class=\"dataframe\">\n",
       "  <thead>\n",
       "    <tr style=\"text-align: right;\">\n",
       "      <th></th>\n",
       "      <th>Year</th>\n",
       "      <th>Month_Name</th>\n",
       "      <th>Case_Type</th>\n",
       "      <th>count</th>\n",
       "    </tr>\n",
       "  </thead>\n",
       "  <tbody>\n",
       "    <tr>\n",
       "      <th>0</th>\n",
       "      <td>2018</td>\n",
       "      <td>January</td>\n",
       "      <td>Day Case</td>\n",
       "      <td>2778</td>\n",
       "    </tr>\n",
       "    <tr>\n",
       "      <th>1</th>\n",
       "      <td>2018</td>\n",
       "      <td>January</td>\n",
       "      <td>Inpatient</td>\n",
       "      <td>1884</td>\n",
       "    </tr>\n",
       "    <tr>\n",
       "      <th>2</th>\n",
       "      <td>2018</td>\n",
       "      <td>January</td>\n",
       "      <td>Outpatient</td>\n",
       "      <td>6868</td>\n",
       "    </tr>\n",
       "    <tr>\n",
       "      <th>3</th>\n",
       "      <td>2018</td>\n",
       "      <td>February</td>\n",
       "      <td>Day Case</td>\n",
       "      <td>2791</td>\n",
       "    </tr>\n",
       "    <tr>\n",
       "      <th>4</th>\n",
       "      <td>2018</td>\n",
       "      <td>February</td>\n",
       "      <td>Inpatient</td>\n",
       "      <td>1942</td>\n",
       "    </tr>\n",
       "    <tr>\n",
       "      <th>...</th>\n",
       "      <td>...</td>\n",
       "      <td>...</td>\n",
       "      <td>...</td>\n",
       "      <td>...</td>\n",
       "    </tr>\n",
       "    <tr>\n",
       "      <th>112</th>\n",
       "      <td>2021</td>\n",
       "      <td>February</td>\n",
       "      <td>Inpatient</td>\n",
       "      <td>2021</td>\n",
       "    </tr>\n",
       "    <tr>\n",
       "      <th>113</th>\n",
       "      <td>2021</td>\n",
       "      <td>February</td>\n",
       "      <td>Outpatient</td>\n",
       "      <td>7526</td>\n",
       "    </tr>\n",
       "    <tr>\n",
       "      <th>114</th>\n",
       "      <td>2021</td>\n",
       "      <td>March</td>\n",
       "      <td>Day Case</td>\n",
       "      <td>3289</td>\n",
       "    </tr>\n",
       "    <tr>\n",
       "      <th>115</th>\n",
       "      <td>2021</td>\n",
       "      <td>March</td>\n",
       "      <td>Inpatient</td>\n",
       "      <td>2002</td>\n",
       "    </tr>\n",
       "    <tr>\n",
       "      <th>116</th>\n",
       "      <td>2021</td>\n",
       "      <td>March</td>\n",
       "      <td>Outpatient</td>\n",
       "      <td>7537</td>\n",
       "    </tr>\n",
       "  </tbody>\n",
       "</table>\n",
       "<p>117 rows × 4 columns</p>\n",
       "</div>"
      ],
      "text/plain": [
       "     Year Month_Name   Case_Type  count\n",
       "0    2018    January    Day Case   2778\n",
       "1    2018    January   Inpatient   1884\n",
       "2    2018    January  Outpatient   6868\n",
       "3    2018   February    Day Case   2791\n",
       "4    2018   February   Inpatient   1942\n",
       "..    ...        ...         ...    ...\n",
       "112  2021   February   Inpatient   2021\n",
       "113  2021   February  Outpatient   7526\n",
       "114  2021      March    Day Case   3289\n",
       "115  2021      March   Inpatient   2002\n",
       "116  2021      March  Outpatient   7537\n",
       "\n",
       "[117 rows x 4 columns]"
      ]
     },
     "execution_count": 19,
     "metadata": {},
     "output_type": "execute_result"
    }
   ],
   "source": [
    "df_ct_line = df.groupby(['Year', 'Month_Name', 'Case_Type']).size().reset_index(name='count')\n",
    "df_ct_line = df_ct_line.sort_values(by=['Year', 'Month_Name', 'Case_Type'])\n",
    "df_ct_line['Month_Name'] = pd.Categorical(df_ct_line['Month_Name'], \n",
    "                                           categories=['January', 'February', 'March', 'April', 'May', 'June', \n",
    "                                                       'July', 'August', 'September', 'October', 'November', 'December'],\n",
    "                                           ordered=True)\n",
    "df_ct_line = df_ct_line.sort_values(by=['Year', 'Month_Name', 'Case_Type'])\n",
    "df_ct_line = df_ct_line.reset_index(drop=True)\n",
    "df_ct_line"
   ]
  },
  {
   "cell_type": "code",
   "execution_count": 16,
   "id": "9a283d08",
   "metadata": {},
   "outputs": [
    {
     "data": {
      "image/png": "[encoded data removed]",
      "text/plain": [
       "<Figure size 1000x500 with 1 Axes>"
      ]
     },
     "metadata": {},
     "output_type": "display_data"
    }
   ],
   "source": [
    "plt.figure(figsize=(10, 5))\n",
    "sns.lineplot(\n",
    "    data = df_ct_line,\n",
    "    y = 'count',\n",
    "    x = 'Year',\n",
    "    palette = 'crest_r',\n",
    "    hue = 'Case_Type',\n",
    "    \n",
    ")\n",
    "\n",
    "sns.despine()\n",
    "plt.tight_layout()\n",
    "plt.show()"
   ]
  },
  {
   "cell_type": "code",
   "execution_count": 8,
   "id": "4f0e7f8c",
   "metadata": {},
   "outputs": [
    {
     "data": {
      "application/vnd.microsoft.datawrangler.viewer.v0+json": {
       "columns": [
        {
         "name": "index",
         "rawType": "int64",
         "type": "integer"
        },
        {
         "name": "Case_Type",
         "rawType": "object",
         "type": "string"
        },
        {
         "name": "Total",
         "rawType": "float64",
         "type": "float"
        }
       ],
       "conversionMethod": "pd.DataFrame",
       "ref": "690a8982-e22d-4b70-8dfa-ca683c3dce8a",
       "rows": [
        [
         "2",
         "Outpatient",
         "80.40555939929185"
        ],
        [
         "0",
         "Day Case",
         "18.6475150922733"
        ],
        [
         "1",
         "Inpatient",
         "11.711006189164117"
        ]
       ],
       "shape": {
        "columns": 2,
        "rows": 3
       }
      },
      "text/html": [
       "<div>\n",
       "<style scoped>\n",
       "    .dataframe tbody tr th:only-of-type {\n",
       "        vertical-align: middle;\n",
       "    }\n",
       "\n",
       "    .dataframe tbody tr th {\n",
       "        vertical-align: top;\n",
       "    }\n",
       "\n",
       "    .dataframe thead th {\n",
       "        text-align: right;\n",
       "    }\n",
       "</style>\n",
       "<table border=\"1\" class=\"dataframe\">\n",
       "  <thead>\n",
       "    <tr style=\"text-align: right;\">\n",
       "      <th></th>\n",
       "      <th>Case_Type</th>\n",
       "      <th>Total</th>\n",
       "    </tr>\n",
       "  </thead>\n",
       "  <tbody>\n",
       "    <tr>\n",
       "      <th>2</th>\n",
       "      <td>Outpatient</td>\n",
       "      <td>80.405559</td>\n",
       "    </tr>\n",
       "    <tr>\n",
       "      <th>0</th>\n",
       "      <td>Day Case</td>\n",
       "      <td>18.647515</td>\n",
       "    </tr>\n",
       "    <tr>\n",
       "      <th>1</th>\n",
       "      <td>Inpatient</td>\n",
       "      <td>11.711006</td>\n",
       "    </tr>\n",
       "  </tbody>\n",
       "</table>\n",
       "</div>"
      ],
      "text/plain": [
       "    Case_Type      Total\n",
       "2  Outpatient  80.405559\n",
       "0    Day Case  18.647515\n",
       "1   Inpatient  11.711006"
      ]
     },
     "execution_count": 8,
     "metadata": {},
     "output_type": "execute_result"
    }
   ],
   "source": [
    "df_case_type_mean = df.groupby('Case_Type')['Total'].mean().reset_index()\n",
    "df_case_type_mean = df_case_type_mean.sort_values(by = 'Total', ascending = False)\n",
    "\n",
    "df_case_type_mean"
   ]
  },
  {
   "cell_type": "code",
   "execution_count": 11,
   "id": "fcff551c",
   "metadata": {},
   "outputs": [
    {
     "data": {
      "text/plain": [
       "<Axes: xlabel='Total', ylabel='Case_Type'>"
      ]
     },
     "execution_count": 11,
     "metadata": {},
     "output_type": "execute_result"
    },
    {
     "data": {
      "image/png": "[encoded data removed]",
      "text/plain": [
       "<Figure size 1000x500 with 1 Axes>"
      ]
     },
     "metadata": {},
     "output_type": "display_data"
    }
   ],
   "source": [
    "plt.figure(figsize=(10, 5))\n",
    "sns.barplot(\n",
    "    data = df_case_type_mean,\n",
    "    y = 'Case_Type',\n",
    "    x = 'Total',\n",
    "    palette = 'crest_r',\n",
    "    hue = 'Case_Type',\n",
    "    \n",
    ")"
   ]
  }
 ],
 "metadata": {
  "kernelspec": {
   "display_name": "data_projects",
   "language": "python",
   "name": "python3"
  },
  "language_info": {
   "codemirror_mode": {
    "name": "ipython",
    "version": 3
   },
   "file_extension": ".py",
   "mimetype": "text/x-python",
   "name": "python",
   "nbconvert_exporter": "python",
   "pygments_lexer": "ipython3",
   "version": "3.12.3"
  }
 },
 "nbformat": 4,
 "nbformat_minor": 5
}

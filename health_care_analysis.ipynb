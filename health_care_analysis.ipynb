{
 "cells": [
  {
   "cell_type": "code",
   "execution_count": 10,
   "id": "5f088e05",
   "metadata": {},
   "outputs": [
    {
     "data": {
      "application/vnd.microsoft.datawrangler.viewer.v0+json": {
       "columns": [
        {
         "name": "index",
         "rawType": "int64",
         "type": "integer"
        },
        {
         "name": "Archive_Date",
         "rawType": "object",
         "type": "string"
        },
        {
         "name": "Specialty_HIPE",
         "rawType": "int64",
         "type": "integer"
        },
        {
         "name": "Specialty_Name",
         "rawType": "object",
         "type": "string"
        },
        {
         "name": "Case_Type",
         "rawType": "object",
         "type": "string"
        },
        {
         "name": "Adult_Child",
         "rawType": "object",
         "type": "string"
        },
        {
         "name": "Age_Profile",
         "rawType": "object",
         "type": "string"
        },
        {
         "name": "Time_Bands",
         "rawType": "object",
         "type": "string"
        },
        {
         "name": "Total",
         "rawType": "int64",
         "type": "integer"
        },
        {
         "name": "Unnamed: 8",
         "rawType": "float64",
         "type": "float"
        }
       ],
       "conversionMethod": "pd.DataFrame",
       "ref": "7864a716-8535-4a93-9627-c207fa6c5c29",
       "rows": [
        [
         "0",
         "31-01-2018",
         "0",
         "Small Volume Specialities",
         "Inpatient",
         "Child",
         "0-15",
         "  6-9 Months",
         "1",
         null
        ],
        [
         "1",
         "31-01-2018",
         "0",
         "Small Volume Specialities",
         "Inpatient",
         "Child",
         "16-64",
         "  9-12 Months",
         "1",
         null
        ],
        [
         "2",
         "31-01-2018",
         "400",
         "Endocrinology",
         "Day Case",
         "Child",
         "0-15",
         "  3-6 Months",
         "1",
         null
        ],
        [
         "3",
         "31-01-2018",
         "400",
         "Endocrinology",
         "Day Case",
         "Child",
         "0-15",
         " 12-15 Months",
         "1",
         null
        ],
        [
         "4",
         "31-01-2018",
         "600",
         "Otolaryngology (ENT)",
         "Day Case",
         "Child",
         "0-15",
         "  0-3 Months",
         "14",
         null
        ]
       ],
       "shape": {
        "columns": 9,
        "rows": 5
       }
      },
      "text/html": [
       "<div>\n",
       "<style scoped>\n",
       "    .dataframe tbody tr th:only-of-type {\n",
       "        vertical-align: middle;\n",
       "    }\n",
       "\n",
       "    .dataframe tbody tr th {\n",
       "        vertical-align: top;\n",
       "    }\n",
       "\n",
       "    .dataframe thead th {\n",
       "        text-align: right;\n",
       "    }\n",
       "</style>\n",
       "<table border=\"1\" class=\"dataframe\">\n",
       "  <thead>\n",
       "    <tr style=\"text-align: right;\">\n",
       "      <th></th>\n",
       "      <th>Archive_Date</th>\n",
       "      <th>Specialty_HIPE</th>\n",
       "      <th>Specialty_Name</th>\n",
       "      <th>Case_Type</th>\n",
       "      <th>Adult_Child</th>\n",
       "      <th>Age_Profile</th>\n",
       "      <th>Time_Bands</th>\n",
       "      <th>Total</th>\n",
       "      <th>Unnamed: 8</th>\n",
       "    </tr>\n",
       "  </thead>\n",
       "  <tbody>\n",
       "    <tr>\n",
       "      <th>0</th>\n",
       "      <td>31-01-2018</td>\n",
       "      <td>0</td>\n",
       "      <td>Small Volume Specialities</td>\n",
       "      <td>Inpatient</td>\n",
       "      <td>Child</td>\n",
       "      <td>0-15</td>\n",
       "      <td>6-9 Months</td>\n",
       "      <td>1</td>\n",
       "      <td>NaN</td>\n",
       "    </tr>\n",
       "    <tr>\n",
       "      <th>1</th>\n",
       "      <td>31-01-2018</td>\n",
       "      <td>0</td>\n",
       "      <td>Small Volume Specialities</td>\n",
       "      <td>Inpatient</td>\n",
       "      <td>Child</td>\n",
       "      <td>16-64</td>\n",
       "      <td>9-12 Months</td>\n",
       "      <td>1</td>\n",
       "      <td>NaN</td>\n",
       "    </tr>\n",
       "    <tr>\n",
       "      <th>2</th>\n",
       "      <td>31-01-2018</td>\n",
       "      <td>400</td>\n",
       "      <td>Endocrinology</td>\n",
       "      <td>Day Case</td>\n",
       "      <td>Child</td>\n",
       "      <td>0-15</td>\n",
       "      <td>3-6 Months</td>\n",
       "      <td>1</td>\n",
       "      <td>NaN</td>\n",
       "    </tr>\n",
       "    <tr>\n",
       "      <th>3</th>\n",
       "      <td>31-01-2018</td>\n",
       "      <td>400</td>\n",
       "      <td>Endocrinology</td>\n",
       "      <td>Day Case</td>\n",
       "      <td>Child</td>\n",
       "      <td>0-15</td>\n",
       "      <td>12-15 Months</td>\n",
       "      <td>1</td>\n",
       "      <td>NaN</td>\n",
       "    </tr>\n",
       "    <tr>\n",
       "      <th>4</th>\n",
       "      <td>31-01-2018</td>\n",
       "      <td>600</td>\n",
       "      <td>Otolaryngology (ENT)</td>\n",
       "      <td>Day Case</td>\n",
       "      <td>Child</td>\n",
       "      <td>0-15</td>\n",
       "      <td>0-3 Months</td>\n",
       "      <td>14</td>\n",
       "      <td>NaN</td>\n",
       "    </tr>\n",
       "  </tbody>\n",
       "</table>\n",
       "</div>"
      ],
      "text/plain": [
       "  Archive_Date  Specialty_HIPE             Specialty_Name  Case_Type  \\\n",
       "0   31-01-2018               0  Small Volume Specialities  Inpatient   \n",
       "1   31-01-2018               0  Small Volume Specialities  Inpatient   \n",
       "2   31-01-2018             400              Endocrinology   Day Case   \n",
       "3   31-01-2018             400              Endocrinology   Day Case   \n",
       "4   31-01-2018             600       Otolaryngology (ENT)   Day Case   \n",
       "\n",
       "  Adult_Child Age_Profile     Time_Bands  Total  Unnamed: 8  \n",
       "0       Child        0-15     6-9 Months      1         NaN  \n",
       "1       Child       16-64    9-12 Months      1         NaN  \n",
       "2       Child        0-15     3-6 Months      1         NaN  \n",
       "3       Child        0-15   12-15 Months      1         NaN  \n",
       "4       Child        0-15     0-3 Months     14         NaN  "
      ]
     },
     "execution_count": 10,
     "metadata": {},
     "output_type": "execute_result"
    }
   ],
   "source": [
    "import pandas as pd\n",
    "import numpy as np\n",
    "import matplotlib.pyplot as plt\n",
    "import seaborn as sns\n",
    "\n",
    "import warnings\n",
    "warnings.filterwarnings(\"ignore\")\n",
    "\n",
    "df_inpatient01 = pd.read_csv(r\"C:\\Users\\Mohamed Fawzi\\Desktop\\Health Care Analysis\\Inpatient\\IN_WL 2018.csv\")\n",
    "df_inpatient02 = pd.read_csv(r\"C:\\Users\\Mohamed Fawzi\\Desktop\\Health Care Analysis\\Inpatient\\IN_WL 2019.csv\")\n",
    "df_inpatient03 = pd.read_csv(r\"C:\\Users\\Mohamed Fawzi\\Desktop\\Health Care Analysis\\Inpatient\\IN_WL 2020.csv\")\n",
    "df_inpatient04 = pd.read_csv(r\"C:\\Users\\Mohamed Fawzi\\Desktop\\Health Care Analysis\\Inpatient\\IN_WL 2021.csv\")\n",
    "\n",
    "df_inpatient = pd.concat([df_impatient01, df_impatient02, df_inpatient03, df_impatient04], ignore_index=True)\n",
    "\n",
    "df_inpatient.head()"
   ]
  },
  {
   "cell_type": "code",
   "execution_count": 15,
   "id": "064ae9a7",
   "metadata": {},
   "outputs": [
    {
     "data": {
      "text/plain": [
       "Index(['Archive_Date', 'Specialty_HIPE', 'Specialty_Name', 'Case_Type',\n",
       "       'Adult_Child', 'Age_Profile', 'Time_Bands', 'Total', 'Unnamed: 8'],\n",
       "      dtype='object')"
      ]
     },
     "execution_count": 15,
     "metadata": {},
     "output_type": "execute_result"
    }
   ],
   "source": [
    "df_inpatient.columns"
   ]
  },
  {
   "cell_type": "code",
   "execution_count": 16,
   "id": "ac334109",
   "metadata": {},
   "outputs": [],
   "source": [
    "df_inpatient.drop(columns=['Unnamed: 8'], inplace=True)"
   ]
  },
  {
   "cell_type": "code",
   "execution_count": 17,
   "id": "21c3f71e",
   "metadata": {},
   "outputs": [
    {
     "name": "stdout",
     "output_type": "stream",
     "text": [
      "<class 'pandas.core.frame.DataFrame'>\n",
      "RangeIndex: 182136 entries, 0 to 182135\n",
      "Data columns (total 8 columns):\n",
      " #   Column          Non-Null Count   Dtype \n",
      "---  ------          --------------   ----- \n",
      " 0   Archive_Date    182136 non-null  object\n",
      " 1   Specialty_HIPE  182136 non-null  int64 \n",
      " 2   Specialty_Name  182136 non-null  object\n",
      " 3   Case_Type       182136 non-null  object\n",
      " 4   Adult_Child     182136 non-null  object\n",
      " 5   Age_Profile     182136 non-null  object\n",
      " 6   Time_Bands      182136 non-null  object\n",
      " 7   Total           182136 non-null  int64 \n",
      "dtypes: int64(2), object(6)\n",
      "memory usage: 11.1+ MB\n"
     ]
    }
   ],
   "source": [
    "df_inpatient.info()"
   ]
  },
  {
   "cell_type": "code",
   "execution_count": 6,
   "id": "b90cad69",
   "metadata": {},
   "outputs": [
    {
     "data": {
      "application/vnd.microsoft.datawrangler.viewer.v0+json": {
       "columns": [
        {
         "name": "index",
         "rawType": "int64",
         "type": "integer"
        },
        {
         "name": "Archive_Date",
         "rawType": "object",
         "type": "string"
        },
        {
         "name": "Specialty_HIPE",
         "rawType": "float64",
         "type": "float"
        },
        {
         "name": "Speciality",
         "rawType": "object",
         "type": "string"
        },
        {
         "name": "Adult_Child",
         "rawType": "object",
         "type": "string"
        },
        {
         "name": "Age_Profile",
         "rawType": "object",
         "type": "string"
        },
        {
         "name": "Time_Bands",
         "rawType": "object",
         "type": "string"
        },
        {
         "name": "Total",
         "rawType": "int64",
         "type": "integer"
        }
       ],
       "conversionMethod": "pd.DataFrame",
       "ref": "136ffca3-8947-458e-a87a-42eddfe7b8e0",
       "rows": [
        [
         "0",
         "31-01-2018",
         "100.0",
         "Cardiology",
         "Child",
         " 0-15",
         " 0-3 Months",
         "167"
        ],
        [
         "1",
         "31-01-2018",
         "100.0",
         "Cardiology",
         "Child",
         " 0-15",
         " 3-6 Months",
         "157"
        ],
        [
         "2",
         "31-01-2018",
         "100.0",
         "Cardiology",
         "Child",
         " 0-15",
         " 6-9 Months",
         "106"
        ],
        [
         "3",
         "31-01-2018",
         "100.0",
         "Cardiology",
         "Child",
         " 0-15",
         " 9-12 Months",
         "85"
        ],
        [
         "4",
         "31-01-2018",
         "100.0",
         "Cardiology",
         "Child",
         " 0-15",
         "12-15 Months",
         "83"
        ]
       ],
       "shape": {
        "columns": 7,
        "rows": 5
       }
      },
      "text/html": [
       "<div>\n",
       "<style scoped>\n",
       "    .dataframe tbody tr th:only-of-type {\n",
       "        vertical-align: middle;\n",
       "    }\n",
       "\n",
       "    .dataframe tbody tr th {\n",
       "        vertical-align: top;\n",
       "    }\n",
       "\n",
       "    .dataframe thead th {\n",
       "        text-align: right;\n",
       "    }\n",
       "</style>\n",
       "<table border=\"1\" class=\"dataframe\">\n",
       "  <thead>\n",
       "    <tr style=\"text-align: right;\">\n",
       "      <th></th>\n",
       "      <th>Archive_Date</th>\n",
       "      <th>Specialty_HIPE</th>\n",
       "      <th>Speciality</th>\n",
       "      <th>Adult_Child</th>\n",
       "      <th>Age_Profile</th>\n",
       "      <th>Time_Bands</th>\n",
       "      <th>Total</th>\n",
       "    </tr>\n",
       "  </thead>\n",
       "  <tbody>\n",
       "    <tr>\n",
       "      <th>0</th>\n",
       "      <td>31-01-2018</td>\n",
       "      <td>100.0</td>\n",
       "      <td>Cardiology</td>\n",
       "      <td>Child</td>\n",
       "      <td>0-15</td>\n",
       "      <td>0-3 Months</td>\n",
       "      <td>167</td>\n",
       "    </tr>\n",
       "    <tr>\n",
       "      <th>1</th>\n",
       "      <td>31-01-2018</td>\n",
       "      <td>100.0</td>\n",
       "      <td>Cardiology</td>\n",
       "      <td>Child</td>\n",
       "      <td>0-15</td>\n",
       "      <td>3-6 Months</td>\n",
       "      <td>157</td>\n",
       "    </tr>\n",
       "    <tr>\n",
       "      <th>2</th>\n",
       "      <td>31-01-2018</td>\n",
       "      <td>100.0</td>\n",
       "      <td>Cardiology</td>\n",
       "      <td>Child</td>\n",
       "      <td>0-15</td>\n",
       "      <td>6-9 Months</td>\n",
       "      <td>106</td>\n",
       "    </tr>\n",
       "    <tr>\n",
       "      <th>3</th>\n",
       "      <td>31-01-2018</td>\n",
       "      <td>100.0</td>\n",
       "      <td>Cardiology</td>\n",
       "      <td>Child</td>\n",
       "      <td>0-15</td>\n",
       "      <td>9-12 Months</td>\n",
       "      <td>85</td>\n",
       "    </tr>\n",
       "    <tr>\n",
       "      <th>4</th>\n",
       "      <td>31-01-2018</td>\n",
       "      <td>100.0</td>\n",
       "      <td>Cardiology</td>\n",
       "      <td>Child</td>\n",
       "      <td>0-15</td>\n",
       "      <td>12-15 Months</td>\n",
       "      <td>83</td>\n",
       "    </tr>\n",
       "  </tbody>\n",
       "</table>\n",
       "</div>"
      ],
      "text/plain": [
       "  Archive_Date  Specialty_HIPE  Speciality Adult_Child Age_Profile  \\\n",
       "0   31-01-2018           100.0  Cardiology       Child        0-15   \n",
       "1   31-01-2018           100.0  Cardiology       Child        0-15   \n",
       "2   31-01-2018           100.0  Cardiology       Child        0-15   \n",
       "3   31-01-2018           100.0  Cardiology       Child        0-15   \n",
       "4   31-01-2018           100.0  Cardiology       Child        0-15   \n",
       "\n",
       "     Time_Bands  Total  \n",
       "0    0-3 Months    167  \n",
       "1    3-6 Months    157  \n",
       "2    6-9 Months    106  \n",
       "3   9-12 Months     85  \n",
       "4  12-15 Months     83  "
      ]
     },
     "execution_count": 6,
     "metadata": {},
     "output_type": "execute_result"
    }
   ],
   "source": [
    "df_outpatient01 = pd.read_csv(r\"C:\\Users\\Mohamed Fawzi\\Desktop\\Health Care Analysis\\Outpatient\\Op_WL 2018.csv\")\n",
    "df_outpatient02 = pd.read_csv(r\"C:\\Users\\Mohamed Fawzi\\Desktop\\Health Care Analysis\\Outpatient\\Op_WL 2019.csv\")\n",
    "df_outpatient03 = pd.read_csv(r\"C:\\Users\\Mohamed Fawzi\\Desktop\\Health Care Analysis\\Outpatient\\Op_WL 2020.csv\")\n",
    "df_outpatient04 = pd.read_csv(r\"C:\\Users\\Mohamed Fawzi\\Desktop\\Health Care Analysis\\Outpatient\\Op_WL 2021.csv\")\n",
    "\n",
    "df_outpatient =  pd.concat([df_outpatient01, df_outpatient02, df_outpatient03, df_outpatient04], ignore_index=True)\n",
    "\n",
    "df_outpatient.head()"
   ]
  }
 ],
 "metadata": {
  "kernelspec": {
   "display_name": "data_projects",
   "language": "python",
   "name": "python3"
  },
  "language_info": {
   "codemirror_mode": {
    "name": "ipython",
    "version": 3
   },
   "file_extension": ".py",
   "mimetype": "text/x-python",
   "name": "python",
   "nbconvert_exporter": "python",
   "pygments_lexer": "ipython3",
   "version": "3.12.3"
  }
 },
 "nbformat": 4,
 "nbformat_minor": 5
}

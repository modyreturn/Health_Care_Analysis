{
 "cells": [
  {
   "cell_type": "code",
   "execution_count": 8,
   "id": "d4d08ec2",
   "metadata": {},
   "outputs": [
    {
     "data": {
      "application/vnd.microsoft.datawrangler.viewer.v0+json": {
       "columns": [
        {
         "name": "index",
         "rawType": "int64",
         "type": "integer"
        },
        {
         "name": "Archive_Date",
         "rawType": "object",
         "type": "string"
        },
        {
         "name": "Specialty_HIPE",
         "rawType": "float64",
         "type": "float"
        },
        {
         "name": "Specialty_Name",
         "rawType": "object",
         "type": "string"
        },
        {
         "name": "Adult_Child",
         "rawType": "object",
         "type": "string"
        },
        {
         "name": "Age_Profile",
         "rawType": "object",
         "type": "string"
        },
        {
         "name": "Time_Bands",
         "rawType": "object",
         "type": "string"
        },
        {
         "name": "Total",
         "rawType": "int64",
         "type": "integer"
        },
        {
         "name": "Case_Type",
         "rawType": "object",
         "type": "string"
        }
       ],
       "conversionMethod": "pd.DataFrame",
       "ref": "2312c707-e15d-4085-8779-4a0aa4e5f9de",
       "rows": [
        [
         "0",
         "2018-02-28",
         "0.0",
         "Small Volume Specialities",
         "Adult",
         "16-64",
         "  0-3 Months",
         "1",
         "Day Case"
        ],
        [
         "1",
         "2018-02-28",
         "0.0",
         "Small Volume Specialities",
         "Adult",
         "16-64",
         "  0-3 Months",
         "1",
         "Day Case"
        ]
       ],
       "shape": {
        "columns": 8,
        "rows": 2
       }
      },
      "text/html": [
       "<div>\n",
       "<style scoped>\n",
       "    .dataframe tbody tr th:only-of-type {\n",
       "        vertical-align: middle;\n",
       "    }\n",
       "\n",
       "    .dataframe tbody tr th {\n",
       "        vertical-align: top;\n",
       "    }\n",
       "\n",
       "    .dataframe thead th {\n",
       "        text-align: right;\n",
       "    }\n",
       "</style>\n",
       "<table border=\"1\" class=\"dataframe\">\n",
       "  <thead>\n",
       "    <tr style=\"text-align: right;\">\n",
       "      <th></th>\n",
       "      <th>Archive_Date</th>\n",
       "      <th>Specialty_HIPE</th>\n",
       "      <th>Specialty_Name</th>\n",
       "      <th>Adult_Child</th>\n",
       "      <th>Age_Profile</th>\n",
       "      <th>Time_Bands</th>\n",
       "      <th>Total</th>\n",
       "      <th>Case_Type</th>\n",
       "    </tr>\n",
       "  </thead>\n",
       "  <tbody>\n",
       "    <tr>\n",
       "      <th>0</th>\n",
       "      <td>2018-02-28</td>\n",
       "      <td>0.0</td>\n",
       "      <td>Small Volume Specialities</td>\n",
       "      <td>Adult</td>\n",
       "      <td>16-64</td>\n",
       "      <td>0-3 Months</td>\n",
       "      <td>1</td>\n",
       "      <td>Day Case</td>\n",
       "    </tr>\n",
       "    <tr>\n",
       "      <th>1</th>\n",
       "      <td>2018-02-28</td>\n",
       "      <td>0.0</td>\n",
       "      <td>Small Volume Specialities</td>\n",
       "      <td>Adult</td>\n",
       "      <td>16-64</td>\n",
       "      <td>0-3 Months</td>\n",
       "      <td>1</td>\n",
       "      <td>Day Case</td>\n",
       "    </tr>\n",
       "  </tbody>\n",
       "</table>\n",
       "</div>"
      ],
      "text/plain": [
       "  Archive_Date  Specialty_HIPE             Specialty_Name Adult_Child  \\\n",
       "0   2018-02-28             0.0  Small Volume Specialities       Adult   \n",
       "1   2018-02-28             0.0  Small Volume Specialities       Adult   \n",
       "\n",
       "  Age_Profile    Time_Bands  Total Case_Type  \n",
       "0       16-64    0-3 Months      1  Day Case  \n",
       "1       16-64    0-3 Months      1  Day Case  "
      ]
     },
     "execution_count": 8,
     "metadata": {},
     "output_type": "execute_result"
    }
   ],
   "source": [
    "import pandas as pd\n",
    "import numpy as np\n",
    "import matplotlib.pyplot as plt\n",
    "import seaborn as sns\n",
    "\n",
    "import warnings\n",
    "warnings.filterwarnings('ignore')\n",
    "\n",
    "df = pd.read_csv(r\"C:\\Users\\Mohamed Fawzi\\Desktop\\Health Care Analysis\\merged_data.csv\")\n",
    "\n",
    "df.head(2)"
   ]
  },
  {
   "cell_type": "code",
   "execution_count": 9,
   "id": "37f7afb2",
   "metadata": {},
   "outputs": [
    {
     "data": {
      "application/vnd.microsoft.datawrangler.viewer.v0+json": {
       "columns": [
        {
         "name": "index",
         "rawType": "object",
         "type": "string"
        },
        {
         "name": "Specialty_HIPE",
         "rawType": "float64",
         "type": "float"
        },
        {
         "name": "Total",
         "rawType": "float64",
         "type": "float"
        }
       ],
       "conversionMethod": "pd.DataFrame",
       "ref": "ebee8ab0-b757-4757-be1e-83e6bb5893f4",
       "rows": [
        [
         "count",
         "452800.0",
         "452991.0"
        ],
        [
         "mean",
         "2619.1445759717312",
         "54.39005852213399"
        ],
        [
         "std",
         "2362.043475185623",
         "120.7928371221548"
        ],
        [
         "min",
         "0.0",
         "1.0"
        ],
        [
         "25%",
         "1300.0",
         "3.0"
        ],
        [
         "50%",
         "1900.0",
         "13.0"
        ],
        [
         "75%",
         "2600.0",
         "53.0"
        ],
        [
         "max",
         "9000.0",
         "4239.0"
        ]
       ],
       "shape": {
        "columns": 2,
        "rows": 8
       }
      },
      "text/html": [
       "<div>\n",
       "<style scoped>\n",
       "    .dataframe tbody tr th:only-of-type {\n",
       "        vertical-align: middle;\n",
       "    }\n",
       "\n",
       "    .dataframe tbody tr th {\n",
       "        vertical-align: top;\n",
       "    }\n",
       "\n",
       "    .dataframe thead th {\n",
       "        text-align: right;\n",
       "    }\n",
       "</style>\n",
       "<table border=\"1\" class=\"dataframe\">\n",
       "  <thead>\n",
       "    <tr style=\"text-align: right;\">\n",
       "      <th></th>\n",
       "      <th>Specialty_HIPE</th>\n",
       "      <th>Total</th>\n",
       "    </tr>\n",
       "  </thead>\n",
       "  <tbody>\n",
       "    <tr>\n",
       "      <th>count</th>\n",
       "      <td>452800.000000</td>\n",
       "      <td>452991.000000</td>\n",
       "    </tr>\n",
       "    <tr>\n",
       "      <th>mean</th>\n",
       "      <td>2619.144576</td>\n",
       "      <td>54.390059</td>\n",
       "    </tr>\n",
       "    <tr>\n",
       "      <th>std</th>\n",
       "      <td>2362.043475</td>\n",
       "      <td>120.792837</td>\n",
       "    </tr>\n",
       "    <tr>\n",
       "      <th>min</th>\n",
       "      <td>0.000000</td>\n",
       "      <td>1.000000</td>\n",
       "    </tr>\n",
       "    <tr>\n",
       "      <th>25%</th>\n",
       "      <td>1300.000000</td>\n",
       "      <td>3.000000</td>\n",
       "    </tr>\n",
       "    <tr>\n",
       "      <th>50%</th>\n",
       "      <td>1900.000000</td>\n",
       "      <td>13.000000</td>\n",
       "    </tr>\n",
       "    <tr>\n",
       "      <th>75%</th>\n",
       "      <td>2600.000000</td>\n",
       "      <td>53.000000</td>\n",
       "    </tr>\n",
       "    <tr>\n",
       "      <th>max</th>\n",
       "      <td>9000.000000</td>\n",
       "      <td>4239.000000</td>\n",
       "    </tr>\n",
       "  </tbody>\n",
       "</table>\n",
       "</div>"
      ],
      "text/plain": [
       "       Specialty_HIPE          Total\n",
       "count   452800.000000  452991.000000\n",
       "mean      2619.144576      54.390059\n",
       "std       2362.043475     120.792837\n",
       "min          0.000000       1.000000\n",
       "25%       1300.000000       3.000000\n",
       "50%       1900.000000      13.000000\n",
       "75%       2600.000000      53.000000\n",
       "max       9000.000000    4239.000000"
      ]
     },
     "execution_count": 9,
     "metadata": {},
     "output_type": "execute_result"
    }
   ],
   "source": [
    "df.describe()"
   ]
  },
  {
   "cell_type": "code",
   "execution_count": 24,
   "id": "edccf19f",
   "metadata": {},
   "outputs": [
    {
     "name": "stdout",
     "output_type": "stream",
     "text": [
      "<class 'pandas.core.frame.DataFrame'>\n",
      "RangeIndex: 452991 entries, 0 to 452990\n",
      "Data columns (total 8 columns):\n",
      " #   Column          Non-Null Count   Dtype         \n",
      "---  ------          --------------   -----         \n",
      " 0   Archive_Date    452991 non-null  datetime64[ns]\n",
      " 1   Specialty_HIPE  452800 non-null  float64       \n",
      " 2   Specialty_Name  452991 non-null  object        \n",
      " 3   Adult_Child     452991 non-null  object        \n",
      " 4   Age_Profile     452816 non-null  object        \n",
      " 5   Time_Bands      452989 non-null  object        \n",
      " 6   Total           452991 non-null  int64         \n",
      " 7   Case_Type       452991 non-null  object        \n",
      "dtypes: datetime64[ns](1), float64(1), int64(1), object(5)\n",
      "memory usage: 27.6+ MB\n"
     ]
    }
   ],
   "source": [
    "df['Archive_Date'] = pd.to_datetime(df['Archive_Date'])\n",
    "df.info()"
   ]
  },
  {
   "cell_type": "code",
   "execution_count": 23,
   "id": "3aef2e9e",
   "metadata": {},
   "outputs": [
    {
     "data": {
      "application/vnd.microsoft.datawrangler.viewer.v0+json": {
       "columns": [
        {
         "name": "index",
         "rawType": "int64",
         "type": "integer"
        },
        {
         "name": "Case_Type",
         "rawType": "object",
         "type": "string"
        },
        {
         "name": "count",
         "rawType": "int64",
         "type": "integer"
        }
       ],
       "conversionMethod": "pd.DataFrame",
       "ref": "79ae14af-9db6-463f-b230-3e458441928d",
       "rows": [
        [
         "0",
         "Outpatient",
         "270281"
        ],
        [
         "1",
         "Day Case",
         "110487"
        ],
        [
         "2",
         "Inpatient",
         "72223"
        ]
       ],
       "shape": {
        "columns": 2,
        "rows": 3
       }
      },
      "text/html": [
       "<div>\n",
       "<style scoped>\n",
       "    .dataframe tbody tr th:only-of-type {\n",
       "        vertical-align: middle;\n",
       "    }\n",
       "\n",
       "    .dataframe tbody tr th {\n",
       "        vertical-align: top;\n",
       "    }\n",
       "\n",
       "    .dataframe thead th {\n",
       "        text-align: right;\n",
       "    }\n",
       "</style>\n",
       "<table border=\"1\" class=\"dataframe\">\n",
       "  <thead>\n",
       "    <tr style=\"text-align: right;\">\n",
       "      <th></th>\n",
       "      <th>Case_Type</th>\n",
       "      <th>count</th>\n",
       "    </tr>\n",
       "  </thead>\n",
       "  <tbody>\n",
       "    <tr>\n",
       "      <th>0</th>\n",
       "      <td>Outpatient</td>\n",
       "      <td>270281</td>\n",
       "    </tr>\n",
       "    <tr>\n",
       "      <th>1</th>\n",
       "      <td>Day Case</td>\n",
       "      <td>110487</td>\n",
       "    </tr>\n",
       "    <tr>\n",
       "      <th>2</th>\n",
       "      <td>Inpatient</td>\n",
       "      <td>72223</td>\n",
       "    </tr>\n",
       "  </tbody>\n",
       "</table>\n",
       "</div>"
      ],
      "text/plain": [
       "    Case_Type   count\n",
       "0  Outpatient  270281\n",
       "1    Day Case  110487\n",
       "2   Inpatient   72223"
      ]
     },
     "execution_count": 23,
     "metadata": {},
     "output_type": "execute_result"
    }
   ],
   "source": [
    "# Case Type Distribution\n",
    "df_case_type = df['Case_Type'].value_counts().to_frame().reset_index()\n",
    "\n",
    "df_case_type"
   ]
  },
  {
   "cell_type": "code",
   "execution_count": 38,
   "id": "b2028ebe",
   "metadata": {},
   "outputs": [
    {
     "data": {
      "image/png": "[encoded data removed]",
      "text/plain": [
       "<Figure size 700x300 with 1 Axes>"
      ]
     },
     "metadata": {},
     "output_type": "display_data"
    }
   ],
   "source": [
    "plt.figure(figsize = (7, 3))\n",
    "sns.barplot(\n",
    "    data = df_case_type,\n",
    "    y = 'Case_Type',\n",
    "    x = 'count',\n",
    "    palette = 'crest_r',\n",
    "    hue = 'Case_Type',\n",
    "    \n",
    ")\n",
    "\n",
    "plt.title('Case Type Distribution', pad=15, fontsize=15)\n",
    "plt.xlabel('Number of Cases')\n",
    "plt.ylabel('Case Type')\n",
    "\n",
    "sns.despine()\n",
    "plt.tight_layout()\n",
    "plt.show()"
   ]
  }
 ],
 "metadata": {
  "kernelspec": {
   "display_name": "data_projects",
   "language": "python",
   "name": "python3"
  },
  "language_info": {
   "codemirror_mode": {
    "name": "ipython",
    "version": 3
   },
   "file_extension": ".py",
   "mimetype": "text/x-python",
   "name": "python",
   "nbconvert_exporter": "python",
   "pygments_lexer": "ipython3",
   "version": "3.12.3"
  }
 },
 "nbformat": 4,
 "nbformat_minor": 5
}

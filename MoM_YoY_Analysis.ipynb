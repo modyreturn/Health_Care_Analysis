{
  "cells": [
    {
      "cell_type": "markdown",
      "metadata": {},
      "source": [
        "## **Importing Liberaries & Dataset**"
      ]
    },
    {
      "cell_type": "code",
      "execution_count": 1,
      "metadata": {
        "colab": {
          "base_uri": "https://localhost:8080/",
          "height": 330
        },
        "id": "g8L-q3-gqM8C",
        "outputId": "6a6221df-ef7e-4467-9dd6-9018fd1cae7a"
      },
      "outputs": [
        {
          "data": {
            "application/vnd.microsoft.datawrangler.viewer.v0+json": {
              "columns": [
                {
                  "name": "index",
                  "rawType": "int64",
                  "type": "integer"
                },
                {
                  "name": "Archive_Date",
                  "rawType": "object",
                  "type": "string"
                },
                {
                  "name": "Specialty_HIPE",
                  "rawType": "float64",
                  "type": "float"
                },
                {
                  "name": "Specialty_Name",
                  "rawType": "object",
                  "type": "string"
                },
                {
                  "name": "Adult_Child",
                  "rawType": "object",
                  "type": "string"
                },
                {
                  "name": "Age_Profile",
                  "rawType": "object",
                  "type": "string"
                },
                {
                  "name": "Time_Bands",
                  "rawType": "object",
                  "type": "string"
                },
                {
                  "name": "Total",
                  "rawType": "int64",
                  "type": "integer"
                },
                {
                  "name": "Case_Type",
                  "rawType": "object",
                  "type": "string"
                },
                {
                  "name": "Specialty Group",
                  "rawType": "object",
                  "type": "string"
                }
              ],
              "conversionMethod": "pd.DataFrame",
              "ref": "c91dabdb-9393-424d-8dc2-646bc8eb3404",
              "rows": [
                [
                  "0",
                  "2018-02-28",
                  "0.0",
                  "Small Volume Specialities",
                  "Adult",
                  "16-64",
                  "  0-3 Months",
                  "1",
                  "Day Case",
                  "Other"
                ],
                [
                  "1",
                  "2018-02-28",
                  "0.0",
                  "Small Volume Specialities",
                  "Adult",
                  "16-64",
                  "  0-3 Months",
                  "1",
                  "Day Case",
                  "Other"
                ],
                [
                  "2",
                  "2018-02-28",
                  "0.0",
                  "Small Volume Specialities",
                  "Adult",
                  "16-64",
                  "  9-12 Months",
                  "1",
                  "Inpatient",
                  "Other"
                ],
                [
                  "3",
                  "2018-02-28",
                  "0.0",
                  "Small Volume Specialities",
                  "Adult",
                  "16-64",
                  " 0-3 Months",
                  "1",
                  "Outpatient",
                  "Other"
                ],
                [
                  "4",
                  "2018-02-28",
                  "0.0",
                  "Small Volume Specialities",
                  "Adult",
                  "16-64",
                  " 0-3 Months",
                  "1",
                  "Outpatient",
                  "Other"
                ]
              ],
              "shape": {
                "columns": 9,
                "rows": 5
              }
            },
            "text/html": [
              "<div>\n",
              "<style scoped>\n",
              "    .dataframe tbody tr th:only-of-type {\n",
              "        vertical-align: middle;\n",
              "    }\n",
              "\n",
              "    .dataframe tbody tr th {\n",
              "        vertical-align: top;\n",
              "    }\n",
              "\n",
              "    .dataframe thead th {\n",
              "        text-align: right;\n",
              "    }\n",
              "</style>\n",
              "<table border=\"1\" class=\"dataframe\">\n",
              "  <thead>\n",
              "    <tr style=\"text-align: right;\">\n",
              "      <th></th>\n",
              "      <th>Archive_Date</th>\n",
              "      <th>Specialty_HIPE</th>\n",
              "      <th>Specialty_Name</th>\n",
              "      <th>Adult_Child</th>\n",
              "      <th>Age_Profile</th>\n",
              "      <th>Time_Bands</th>\n",
              "      <th>Total</th>\n",
              "      <th>Case_Type</th>\n",
              "      <th>Specialty Group</th>\n",
              "    </tr>\n",
              "  </thead>\n",
              "  <tbody>\n",
              "    <tr>\n",
              "      <th>0</th>\n",
              "      <td>2018-02-28</td>\n",
              "      <td>0.0</td>\n",
              "      <td>Small Volume Specialities</td>\n",
              "      <td>Adult</td>\n",
              "      <td>16-64</td>\n",
              "      <td>0-3 Months</td>\n",
              "      <td>1</td>\n",
              "      <td>Day Case</td>\n",
              "      <td>Other</td>\n",
              "    </tr>\n",
              "    <tr>\n",
              "      <th>1</th>\n",
              "      <td>2018-02-28</td>\n",
              "      <td>0.0</td>\n",
              "      <td>Small Volume Specialities</td>\n",
              "      <td>Adult</td>\n",
              "      <td>16-64</td>\n",
              "      <td>0-3 Months</td>\n",
              "      <td>1</td>\n",
              "      <td>Day Case</td>\n",
              "      <td>Other</td>\n",
              "    </tr>\n",
              "    <tr>\n",
              "      <th>2</th>\n",
              "      <td>2018-02-28</td>\n",
              "      <td>0.0</td>\n",
              "      <td>Small Volume Specialities</td>\n",
              "      <td>Adult</td>\n",
              "      <td>16-64</td>\n",
              "      <td>9-12 Months</td>\n",
              "      <td>1</td>\n",
              "      <td>Inpatient</td>\n",
              "      <td>Other</td>\n",
              "    </tr>\n",
              "    <tr>\n",
              "      <th>3</th>\n",
              "      <td>2018-02-28</td>\n",
              "      <td>0.0</td>\n",
              "      <td>Small Volume Specialities</td>\n",
              "      <td>Adult</td>\n",
              "      <td>16-64</td>\n",
              "      <td>0-3 Months</td>\n",
              "      <td>1</td>\n",
              "      <td>Outpatient</td>\n",
              "      <td>Other</td>\n",
              "    </tr>\n",
              "    <tr>\n",
              "      <th>4</th>\n",
              "      <td>2018-02-28</td>\n",
              "      <td>0.0</td>\n",
              "      <td>Small Volume Specialities</td>\n",
              "      <td>Adult</td>\n",
              "      <td>16-64</td>\n",
              "      <td>0-3 Months</td>\n",
              "      <td>1</td>\n",
              "      <td>Outpatient</td>\n",
              "      <td>Other</td>\n",
              "    </tr>\n",
              "  </tbody>\n",
              "</table>\n",
              "</div>"
            ],
            "text/plain": [
              "  Archive_Date  Specialty_HIPE             Specialty_Name Adult_Child  \\\n",
              "0   2018-02-28             0.0  Small Volume Specialities       Adult   \n",
              "1   2018-02-28             0.0  Small Volume Specialities       Adult   \n",
              "2   2018-02-28             0.0  Small Volume Specialities       Adult   \n",
              "3   2018-02-28             0.0  Small Volume Specialities       Adult   \n",
              "4   2018-02-28             0.0  Small Volume Specialities       Adult   \n",
              "\n",
              "  Age_Profile     Time_Bands  Total   Case_Type Specialty Group  \n",
              "0       16-64     0-3 Months      1    Day Case           Other  \n",
              "1       16-64     0-3 Months      1    Day Case           Other  \n",
              "2       16-64    9-12 Months      1   Inpatient           Other  \n",
              "3       16-64     0-3 Months      1  Outpatient           Other  \n",
              "4       16-64     0-3 Months      1  Outpatient           Other  "
            ]
          },
          "execution_count": 1,
          "metadata": {},
          "output_type": "execute_result"
        }
      ],
      "source": [
        "import pandas as pd\n",
        "import numpy as np\n",
        "import matplotlib.pyplot as plt\n",
        "import seaborn as sns\n",
        "from matplotlib.ticker import FuncFormatter\n",
        "\n",
        "import warnings\n",
        "warnings.filterwarnings(\"ignore\")\n",
        "\n",
        "url = \"https://raw.githubusercontent.com/modyreturn/Health_Care_Analysis/refs/heads/master/merged_data.csv\"\n",
        "\n",
        "df = pd.read_csv(url)\n",
        "\n",
        "df.head()\n"
      ]
    },
    {
      "cell_type": "markdown",
      "metadata": {
        "id": "VDUqxt_kfJx3"
      },
      "source": [
        "## **Cleaning The Data**"
      ]
    },
    {
      "cell_type": "code",
      "execution_count": 2,
      "metadata": {
        "colab": {
          "base_uri": "https://localhost:8080/"
        },
        "id": "BhAW1m-G5n4M",
        "outputId": "eb018f2c-f450-4e21-a968-0d990fa130fa"
      },
      "outputs": [
        {
          "name": "stdout",
          "output_type": "stream",
          "text": [
            "<class 'pandas.core.frame.DataFrame'>\n",
            "RangeIndex: 452991 entries, 0 to 452990\n",
            "Data columns (total 11 columns):\n",
            " #   Column           Non-Null Count   Dtype         \n",
            "---  ------           --------------   -----         \n",
            " 0   Archive_Date     452991 non-null  datetime64[ns]\n",
            " 1   Specialty_HIPE   452800 non-null  float64       \n",
            " 2   Specialty_Name   452991 non-null  object        \n",
            " 3   Adult_Child      452991 non-null  object        \n",
            " 4   Age_Profile      452816 non-null  object        \n",
            " 5   Time_Bands       452989 non-null  object        \n",
            " 6   Total            452991 non-null  int64         \n",
            " 7   Case_Type        452991 non-null  object        \n",
            " 8   Specialty Group  452991 non-null  object        \n",
            " 9   Year             452991 non-null  int32         \n",
            " 10  Month_Name       452991 non-null  object        \n",
            "dtypes: datetime64[ns](1), float64(1), int32(1), int64(1), object(7)\n",
            "memory usage: 36.3+ MB\n"
          ]
        }
      ],
      "source": [
        "# converting Archive_Date to datetime\n",
        "df['Archive_Date'] = pd.to_datetime(df['Archive_Date'])\n",
        "df['Year'] = df['Archive_Date'].dt.year\n",
        "df['Month_Name'] = df['Archive_Date'].dt.month_name()\n",
        "\n",
        "df.info()"
      ]
    },
    {
      "cell_type": "code",
      "execution_count": 3,
      "metadata": {
        "id": "VBKwEyyTY0cr"
      },
      "outputs": [],
      "source": [
        "df['Time_Bands'] = df['Time_Bands'].str.strip()\n",
        "df['Age_Profile'] = df['Age_Profile'].str.strip()"
      ]
    },
    {
      "cell_type": "code",
      "execution_count": 4,
      "metadata": {},
      "outputs": [],
      "source": [
        "# I will use the following func to format the values on axis of the charts as needed\n",
        "def millions_formatter(x, pos):\n",
        "    if x >= 1_000_000:\n",
        "        return f'{x*1.0/1_000_000:.1f}M'\n",
        "    elif x >= 1_000:\n",
        "        return f'{x*1.0/1_000:.1f}K'\n",
        "    else:\n",
        "        return f'{x:.0f}'\n",
        "\n",
        "# Apply formatter to the current plot\n",
        "formatter = FuncFormatter(millions_formatter)"
      ]
    },
    {
      "cell_type": "code",
      "execution_count": 5,
      "metadata": {},
      "outputs": [],
      "source": [
        "# here you can categorise and order Month_Name to plot\n",
        "month_order = ['Jan', 'Feb', 'Mar', 'Apr', 'May', 'Jun', 'Jul', 'Aug', 'Sep', 'Oct', 'Nov', 'Dec']"
      ]
    },
    {
      "cell_type": "markdown",
      "metadata": {
        "id": "Ew9G-708fYRu"
      },
      "source": [
        "## **Exploratory Data Analysis (EDA):**"
      ]
    },
    {
      "cell_type": "markdown",
      "metadata": {
        "id": "wKmYebizgCxp"
      },
      "source": [
        "### **Statistic Summary**"
      ]
    },
    {
      "cell_type": "code",
      "execution_count": 6,
      "metadata": {
        "colab": {
          "base_uri": "https://localhost:8080/",
          "height": 0
        },
        "id": "Xyhx32UVfg-U",
        "outputId": "393952d8-88f8-4667-cfdb-e96c145a9da4"
      },
      "outputs": [
        {
          "data": {
            "application/vnd.microsoft.datawrangler.viewer.v0+json": {
              "columns": [
                {
                  "name": "index",
                  "rawType": "object",
                  "type": "string"
                },
                {
                  "name": "Archive_Date",
                  "rawType": "object",
                  "type": "unknown"
                },
                {
                  "name": "Specialty_HIPE",
                  "rawType": "float64",
                  "type": "float"
                },
                {
                  "name": "Specialty_Name",
                  "rawType": "object",
                  "type": "unknown"
                },
                {
                  "name": "Adult_Child",
                  "rawType": "object",
                  "type": "unknown"
                },
                {
                  "name": "Age_Profile",
                  "rawType": "object",
                  "type": "unknown"
                },
                {
                  "name": "Time_Bands",
                  "rawType": "object",
                  "type": "unknown"
                },
                {
                  "name": "Total",
                  "rawType": "float64",
                  "type": "float"
                },
                {
                  "name": "Case_Type",
                  "rawType": "object",
                  "type": "unknown"
                },
                {
                  "name": "Specialty Group",
                  "rawType": "object",
                  "type": "unknown"
                },
                {
                  "name": "Year",
                  "rawType": "float64",
                  "type": "float"
                },
                {
                  "name": "Month_Name",
                  "rawType": "object",
                  "type": "unknown"
                }
              ],
              "conversionMethod": "pd.DataFrame",
              "ref": "dc058cb7-2f0f-4664-9498-53b2d32ab75c",
              "rows": [
                [
                  "count",
                  "452991",
                  "452800.0",
                  "452991",
                  "452991",
                  "452816",
                  "452989",
                  "452991.0",
                  "452991",
                  "452991",
                  "452991.0",
                  "452991"
                ],
                [
                  "unique",
                  null,
                  null,
                  "78",
                  "3",
                  "3",
                  "8",
                  null,
                  "3",
                  "27",
                  null,
                  "12"
                ],
                [
                  "top",
                  null,
                  null,
                  "General Surgery",
                  "Adult",
                  "16-64",
                  "0-3 Months",
                  null,
                  "Outpatient",
                  "General",
                  null,
                  "March"
                ],
                [
                  "freq",
                  null,
                  null,
                  "43634",
                  "368151",
                  "203354",
                  "93818",
                  null,
                  "270281",
                  "76614",
                  null,
                  "47110"
                ],
                [
                  "mean",
                  "2019-09-09 18:57:46.892720640",
                  "2619.1445759717312",
                  null,
                  null,
                  null,
                  null,
                  "54.39005852213399",
                  null,
                  null,
                  "2019.1817784459295",
                  null
                ],
                [
                  "min",
                  "2018-01-31 00:00:00",
                  "0.0",
                  null,
                  null,
                  null,
                  null,
                  "1.0",
                  null,
                  null,
                  "2018.0",
                  null
                ],
                [
                  "25%",
                  "2018-10-31 00:00:00",
                  "1300.0",
                  null,
                  null,
                  null,
                  null,
                  "3.0",
                  null,
                  null,
                  "2018.0",
                  null
                ],
                [
                  "50%",
                  "2019-08-31 00:00:00",
                  "1900.0",
                  null,
                  null,
                  null,
                  null,
                  "13.0",
                  null,
                  null,
                  "2019.0",
                  null
                ],
                [
                  "75%",
                  "2020-06-30 00:00:00",
                  "2600.0",
                  null,
                  null,
                  null,
                  null,
                  "53.0",
                  null,
                  null,
                  "2020.0",
                  null
                ],
                [
                  "max",
                  "2021-03-31 00:00:00",
                  "9000.0",
                  null,
                  null,
                  null,
                  null,
                  "4239.0",
                  null,
                  null,
                  "2021.0",
                  null
                ],
                [
                  "std",
                  null,
                  "2362.043475185623",
                  null,
                  null,
                  null,
                  null,
                  "120.7928371221548",
                  null,
                  null,
                  "0.9635806573834385",
                  null
                ]
              ],
              "shape": {
                "columns": 11,
                "rows": 11
              }
            },
            "text/html": [
              "<div>\n",
              "<style scoped>\n",
              "    .dataframe tbody tr th:only-of-type {\n",
              "        vertical-align: middle;\n",
              "    }\n",
              "\n",
              "    .dataframe tbody tr th {\n",
              "        vertical-align: top;\n",
              "    }\n",
              "\n",
              "    .dataframe thead th {\n",
              "        text-align: right;\n",
              "    }\n",
              "</style>\n",
              "<table border=\"1\" class=\"dataframe\">\n",
              "  <thead>\n",
              "    <tr style=\"text-align: right;\">\n",
              "      <th></th>\n",
              "      <th>Archive_Date</th>\n",
              "      <th>Specialty_HIPE</th>\n",
              "      <th>Specialty_Name</th>\n",
              "      <th>Adult_Child</th>\n",
              "      <th>Age_Profile</th>\n",
              "      <th>Time_Bands</th>\n",
              "      <th>Total</th>\n",
              "      <th>Case_Type</th>\n",
              "      <th>Specialty Group</th>\n",
              "      <th>Year</th>\n",
              "      <th>Month_Name</th>\n",
              "    </tr>\n",
              "  </thead>\n",
              "  <tbody>\n",
              "    <tr>\n",
              "      <th>count</th>\n",
              "      <td>452991</td>\n",
              "      <td>452800.000000</td>\n",
              "      <td>452991</td>\n",
              "      <td>452991</td>\n",
              "      <td>452816</td>\n",
              "      <td>452989</td>\n",
              "      <td>452991.000000</td>\n",
              "      <td>452991</td>\n",
              "      <td>452991</td>\n",
              "      <td>452991.000000</td>\n",
              "      <td>452991</td>\n",
              "    </tr>\n",
              "    <tr>\n",
              "      <th>unique</th>\n",
              "      <td>NaN</td>\n",
              "      <td>NaN</td>\n",
              "      <td>78</td>\n",
              "      <td>3</td>\n",
              "      <td>3</td>\n",
              "      <td>8</td>\n",
              "      <td>NaN</td>\n",
              "      <td>3</td>\n",
              "      <td>27</td>\n",
              "      <td>NaN</td>\n",
              "      <td>12</td>\n",
              "    </tr>\n",
              "    <tr>\n",
              "      <th>top</th>\n",
              "      <td>NaN</td>\n",
              "      <td>NaN</td>\n",
              "      <td>General Surgery</td>\n",
              "      <td>Adult</td>\n",
              "      <td>16-64</td>\n",
              "      <td>0-3 Months</td>\n",
              "      <td>NaN</td>\n",
              "      <td>Outpatient</td>\n",
              "      <td>General</td>\n",
              "      <td>NaN</td>\n",
              "      <td>March</td>\n",
              "    </tr>\n",
              "    <tr>\n",
              "      <th>freq</th>\n",
              "      <td>NaN</td>\n",
              "      <td>NaN</td>\n",
              "      <td>43634</td>\n",
              "      <td>368151</td>\n",
              "      <td>203354</td>\n",
              "      <td>93818</td>\n",
              "      <td>NaN</td>\n",
              "      <td>270281</td>\n",
              "      <td>76614</td>\n",
              "      <td>NaN</td>\n",
              "      <td>47110</td>\n",
              "    </tr>\n",
              "    <tr>\n",
              "      <th>mean</th>\n",
              "      <td>2019-09-09 18:57:46.892720640</td>\n",
              "      <td>2619.144576</td>\n",
              "      <td>NaN</td>\n",
              "      <td>NaN</td>\n",
              "      <td>NaN</td>\n",
              "      <td>NaN</td>\n",
              "      <td>54.390059</td>\n",
              "      <td>NaN</td>\n",
              "      <td>NaN</td>\n",
              "      <td>2019.181778</td>\n",
              "      <td>NaN</td>\n",
              "    </tr>\n",
              "    <tr>\n",
              "      <th>min</th>\n",
              "      <td>2018-01-31 00:00:00</td>\n",
              "      <td>0.000000</td>\n",
              "      <td>NaN</td>\n",
              "      <td>NaN</td>\n",
              "      <td>NaN</td>\n",
              "      <td>NaN</td>\n",
              "      <td>1.000000</td>\n",
              "      <td>NaN</td>\n",
              "      <td>NaN</td>\n",
              "      <td>2018.000000</td>\n",
              "      <td>NaN</td>\n",
              "    </tr>\n",
              "    <tr>\n",
              "      <th>25%</th>\n",
              "      <td>2018-10-31 00:00:00</td>\n",
              "      <td>1300.000000</td>\n",
              "      <td>NaN</td>\n",
              "      <td>NaN</td>\n",
              "      <td>NaN</td>\n",
              "      <td>NaN</td>\n",
              "      <td>3.000000</td>\n",
              "      <td>NaN</td>\n",
              "      <td>NaN</td>\n",
              "      <td>2018.000000</td>\n",
              "      <td>NaN</td>\n",
              "    </tr>\n",
              "    <tr>\n",
              "      <th>50%</th>\n",
              "      <td>2019-08-31 00:00:00</td>\n",
              "      <td>1900.000000</td>\n",
              "      <td>NaN</td>\n",
              "      <td>NaN</td>\n",
              "      <td>NaN</td>\n",
              "      <td>NaN</td>\n",
              "      <td>13.000000</td>\n",
              "      <td>NaN</td>\n",
              "      <td>NaN</td>\n",
              "      <td>2019.000000</td>\n",
              "      <td>NaN</td>\n",
              "    </tr>\n",
              "    <tr>\n",
              "      <th>75%</th>\n",
              "      <td>2020-06-30 00:00:00</td>\n",
              "      <td>2600.000000</td>\n",
              "      <td>NaN</td>\n",
              "      <td>NaN</td>\n",
              "      <td>NaN</td>\n",
              "      <td>NaN</td>\n",
              "      <td>53.000000</td>\n",
              "      <td>NaN</td>\n",
              "      <td>NaN</td>\n",
              "      <td>2020.000000</td>\n",
              "      <td>NaN</td>\n",
              "    </tr>\n",
              "    <tr>\n",
              "      <th>max</th>\n",
              "      <td>2021-03-31 00:00:00</td>\n",
              "      <td>9000.000000</td>\n",
              "      <td>NaN</td>\n",
              "      <td>NaN</td>\n",
              "      <td>NaN</td>\n",
              "      <td>NaN</td>\n",
              "      <td>4239.000000</td>\n",
              "      <td>NaN</td>\n",
              "      <td>NaN</td>\n",
              "      <td>2021.000000</td>\n",
              "      <td>NaN</td>\n",
              "    </tr>\n",
              "    <tr>\n",
              "      <th>std</th>\n",
              "      <td>NaN</td>\n",
              "      <td>2362.043475</td>\n",
              "      <td>NaN</td>\n",
              "      <td>NaN</td>\n",
              "      <td>NaN</td>\n",
              "      <td>NaN</td>\n",
              "      <td>120.792837</td>\n",
              "      <td>NaN</td>\n",
              "      <td>NaN</td>\n",
              "      <td>0.963581</td>\n",
              "      <td>NaN</td>\n",
              "    </tr>\n",
              "  </tbody>\n",
              "</table>\n",
              "</div>"
            ],
            "text/plain": [
              "                         Archive_Date  Specialty_HIPE   Specialty_Name  \\\n",
              "count                          452991   452800.000000           452991   \n",
              "unique                            NaN             NaN               78   \n",
              "top                               NaN             NaN  General Surgery   \n",
              "freq                              NaN             NaN            43634   \n",
              "mean    2019-09-09 18:57:46.892720640     2619.144576              NaN   \n",
              "min               2018-01-31 00:00:00        0.000000              NaN   \n",
              "25%               2018-10-31 00:00:00     1300.000000              NaN   \n",
              "50%               2019-08-31 00:00:00     1900.000000              NaN   \n",
              "75%               2020-06-30 00:00:00     2600.000000              NaN   \n",
              "max               2021-03-31 00:00:00     9000.000000              NaN   \n",
              "std                               NaN     2362.043475              NaN   \n",
              "\n",
              "       Adult_Child Age_Profile  Time_Bands          Total   Case_Type  \\\n",
              "count       452991      452816      452989  452991.000000      452991   \n",
              "unique           3           3           8            NaN           3   \n",
              "top          Adult       16-64  0-3 Months            NaN  Outpatient   \n",
              "freq        368151      203354       93818            NaN      270281   \n",
              "mean           NaN         NaN         NaN      54.390059         NaN   \n",
              "min            NaN         NaN         NaN       1.000000         NaN   \n",
              "25%            NaN         NaN         NaN       3.000000         NaN   \n",
              "50%            NaN         NaN         NaN      13.000000         NaN   \n",
              "75%            NaN         NaN         NaN      53.000000         NaN   \n",
              "max            NaN         NaN         NaN    4239.000000         NaN   \n",
              "std            NaN         NaN         NaN     120.792837         NaN   \n",
              "\n",
              "       Specialty Group           Year Month_Name  \n",
              "count           452991  452991.000000     452991  \n",
              "unique              27            NaN         12  \n",
              "top            General            NaN      March  \n",
              "freq             76614            NaN      47110  \n",
              "mean               NaN    2019.181778        NaN  \n",
              "min                NaN    2018.000000        NaN  \n",
              "25%                NaN    2018.000000        NaN  \n",
              "50%                NaN    2019.000000        NaN  \n",
              "75%                NaN    2020.000000        NaN  \n",
              "max                NaN    2021.000000        NaN  \n",
              "std                NaN       0.963581        NaN  "
            ]
          },
          "execution_count": 6,
          "metadata": {},
          "output_type": "execute_result"
        }
      ],
      "source": [
        "# using describe() to get statistic summary for the data\n",
        "df.describe(include=('all'))"
      ]
    },
    {
      "cell_type": "markdown",
      "metadata": {},
      "source": [
        "### **Month over Month (MoM) &Year over Year (YoY) % Change in Cases:**"
      ]
    },
    {
      "cell_type": "markdown",
      "metadata": {},
      "source": [
        "-   Let's create a Monthly Summary:\n",
        "    -   We’ll sum Total per month, so we can compare either month-over-month or year-over-year:"
      ]
    },
    {
      "cell_type": "code",
      "execution_count": 7,
      "metadata": {},
      "outputs": [],
      "source": [
        "monthly_cases = df.groupby('Month_Name')['Total'].sum().reset_index()\n",
        "\n",
        "# Calculate the percentage change month-over-month\n",
        "monthly_cases['MoM_change_%'] = (monthly_cases['Total'].pct_change() * 100 ).round(2)\n",
        "monthly_cases['MoM_change_%'] = monthly_cases['MoM_change_%'].fillna(0)  # Fill NaN values with 0 for the first month\n",
        "monthly_cases['Month_Name'] = monthly_cases['Month_Name'].str[:3] # to abbreviate the month name to the first 3 letters\n",
        "# month_order was defined earlier in the code\n",
        "# here you can categorise and order Month_Name to plot\n",
        "monthly_cases['Month_Name'] = pd.Categorical(monthly_cases['Month_Name'], categories=month_order, ordered=True)\n"
      ]
    },
    {
      "cell_type": "code",
      "execution_count": 8,
      "metadata": {},
      "outputs": [
        {
          "data": {
            "image/png": "[encoded data removed]",
            "text/plain": [
              "<Figure size 800x400 with 1 Axes>"
            ]
          },
          "metadata": {},
          "output_type": "display_data"
        }
      ],
      "source": [
        "plt.figure(figsize=(8, 4))\n",
        "sns.barplot(\n",
        "    data=monthly_cases,\n",
        "    x='Month_Name',\n",
        "    y='MoM_change_%',\n",
        "    palette='crest_r'\n",
        ")\n",
        "\n",
        "plt.title('Month Over Month Change in Cases', pad=10)\n",
        "plt.xlabel('')\n",
        "\n",
        "sns.despine()\n",
        "plt.tight_layout()\n",
        "plt.show()"
      ]
    },
    {
      "cell_type": "markdown",
      "metadata": {},
      "source": [
        "**Month-Over-Month (MoM) Change in Total Cases**\n",
        "\n",
        "-   This bar chart shows the **percentage change in total cases** compared to the previous month.\n",
        "\n",
        "- **February & March**:  \n",
        "  - Over **+30% growth** each month.  \n",
        "  - Indicates a **sharp surge in cases** during late Q1.\n",
        "\n",
        "- **May & July**:\n",
        "  - **-25%** MoM drop in both months.\n",
        "  - Possibly due to system delays, seasonal effects, or fewer operational days.\n",
        "\n",
        "- **August–December**:\n",
        "  - Fluctuations become **minimal**, mostly between **-2% and +3%**.\n",
        "  - Suggests a **steady state** of case volume entering the final quarter.\n",
        "\n",
        "---"
      ]
    },
    {
      "cell_type": "code",
      "execution_count": 9,
      "metadata": {},
      "outputs": [
        {
          "data": {
            "application/vnd.microsoft.datawrangler.viewer.v0+json": {
              "columns": [
                {
                  "name": "index",
                  "rawType": "int64",
                  "type": "integer"
                },
                {
                  "name": "Year",
                  "rawType": "object",
                  "type": "string"
                },
                {
                  "name": "Total",
                  "rawType": "int64",
                  "type": "integer"
                },
                {
                  "name": "YoY_change_%",
                  "rawType": "float64",
                  "type": "float"
                }
              ],
              "conversionMethod": "pd.DataFrame",
              "ref": "fb2350d4-3da7-49b0-bdd8-e1ff44cd2464",
              "rows": [
                [
                  "0",
                  "2018",
                  "7036731",
                  "0.0"
                ],
                [
                  "1",
                  "2019",
                  "7495574",
                  "6.52"
                ],
                [
                  "2",
                  "2020",
                  "7984923",
                  "6.53"
                ],
                [
                  "3",
                  "2021",
                  "2120979",
                  "-73.44"
                ]
              ],
              "shape": {
                "columns": 3,
                "rows": 4
              }
            },
            "text/html": [
              "<div>\n",
              "<style scoped>\n",
              "    .dataframe tbody tr th:only-of-type {\n",
              "        vertical-align: middle;\n",
              "    }\n",
              "\n",
              "    .dataframe tbody tr th {\n",
              "        vertical-align: top;\n",
              "    }\n",
              "\n",
              "    .dataframe thead th {\n",
              "        text-align: right;\n",
              "    }\n",
              "</style>\n",
              "<table border=\"1\" class=\"dataframe\">\n",
              "  <thead>\n",
              "    <tr style=\"text-align: right;\">\n",
              "      <th></th>\n",
              "      <th>Year</th>\n",
              "      <th>Total</th>\n",
              "      <th>YoY_change_%</th>\n",
              "    </tr>\n",
              "  </thead>\n",
              "  <tbody>\n",
              "    <tr>\n",
              "      <th>0</th>\n",
              "      <td>2018</td>\n",
              "      <td>7036731</td>\n",
              "      <td>0.00</td>\n",
              "    </tr>\n",
              "    <tr>\n",
              "      <th>1</th>\n",
              "      <td>2019</td>\n",
              "      <td>7495574</td>\n",
              "      <td>6.52</td>\n",
              "    </tr>\n",
              "    <tr>\n",
              "      <th>2</th>\n",
              "      <td>2020</td>\n",
              "      <td>7984923</td>\n",
              "      <td>6.53</td>\n",
              "    </tr>\n",
              "    <tr>\n",
              "      <th>3</th>\n",
              "      <td>2021</td>\n",
              "      <td>2120979</td>\n",
              "      <td>-73.44</td>\n",
              "    </tr>\n",
              "  </tbody>\n",
              "</table>\n",
              "</div>"
            ],
            "text/plain": [
              "   Year    Total  YoY_change_%\n",
              "0  2018  7036731          0.00\n",
              "1  2019  7495574          6.52\n",
              "2  2020  7984923          6.53\n",
              "3  2021  2120979        -73.44"
            ]
          },
          "execution_count": 9,
          "metadata": {},
          "output_type": "execute_result"
        }
      ],
      "source": [
        "yearly_cases = df.groupby('Year')['Total'].sum().reset_index()\n",
        "yearly_cases['YoY_change_%'] = (yearly_cases['Total'].pct_change() * 100 ).round(2)\n",
        "yearly_cases['Year'] = yearly_cases['Year'].astype(str)  # Convert Year to string for better x-axis labels\n",
        "yearly_cases['YoY_change_%'] = yearly_cases['YoY_change_%'].fillna(0)  # Fill NaN values with 0 for the first year\n",
        "\n",
        "\n",
        "yearly_cases"
      ]
    },
    {
      "cell_type": "code",
      "execution_count": 10,
      "metadata": {},
      "outputs": [
        {
          "data": {
            "image/png": "[encoded data removed]",
            "text/plain": [
              "<Figure size 800x400 with 1 Axes>"
            ]
          },
          "metadata": {},
          "output_type": "display_data"
        }
      ],
      "source": [
        "plt.figure(figsize=(8, 4))\n",
        "sns.lineplot(\n",
        "    data=yearly_cases,\n",
        "    x='Year',\n",
        "    y='YoY_change_%',\n",
        "    palette='crest_r'\n",
        ")\n",
        "\n",
        "plt.title('Year over Year (YoY %) Change in Cases', pad=10)\n",
        "plt.xlabel('')\n",
        "\n",
        "sns.despine()\n",
        "plt.tight_layout()\n",
        "plt.show()\n"
      ]
    },
    {
      "cell_type": "markdown",
      "metadata": {},
      "source": [
        "**### **Insights**\n",
        "\n",
        "-   **General Trend**\n",
        "    - The YoY percentage change in cases starts at a relatively stable level around **0%** in 2018.\n",
        "    - From 2018 to 2019, there is a slight increase, reaching a peak of approximately **+10%** in 2019.\n",
        "    - In 2020, the trend reverses sharply, with a significant decline in the YoY percentage change.\n",
        "    - By 2021, the YoY percentage change drops dramatically to around **-70%**, indicating a substantial decrease in cases compared to the previous year.\n",
        "\n",
        "-   **Key Observations**\n",
        "    - **Peak Growth in 2019**: The positive growth of about **+10%** indicates a notable increase in cases compared to the previous year.\n",
        "    - **Sharp Decline in 2020**: The transition from a positive to a negative percentage change signifies a sudden drop in cases. This could be attributed to external factors such as changes in reporting, interventions, or other contextual events.\n",
        "    - **Dramatic Drop in 2021**: The steep decline to **-70%** highlights an unprecedented reduction in cases compared to 2020. This could reflect the impact of measures like lockdowns, vaccinations, or behavioral changes.\n"
      ]
    },
    {
      "cell_type": "markdown",
      "metadata": {},
      "source": [
        "----"
      ]
    }
  ],
  "metadata": {
    "colab": {
      "collapsed_sections": [
        "VDUqxt_kfJx3",
        "wKmYebizgCxp",
        "dhi5U4rGgI9e",
        "6JifW8rJbCyf",
        "y5hsSwEbdTnK",
        "M2UzGMkllCh3"
      ],
      "provenance": []
    },
    "kernelspec": {
      "display_name": "data_projects",
      "language": "python",
      "name": "python3"
    },
    "language_info": {
      "codemirror_mode": {
        "name": "ipython",
        "version": 3
      },
      "file_extension": ".py",
      "mimetype": "text/x-python",
      "name": "python",
      "nbconvert_exporter": "python",
      "pygments_lexer": "ipython3",
      "version": "3.12.3"
    }
  },
  "nbformat": 4,
  "nbformat_minor": 0
}

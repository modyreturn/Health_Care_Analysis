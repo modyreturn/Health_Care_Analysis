{
  "cells": [
    {
      "cell_type": "markdown",
      "metadata": {},
      "source": [
        "## **Importing Liberaries & Dataset**"
      ]
    },
    {
      "cell_type": "code",
      "execution_count": 1,
      "metadata": {
        "colab": {
          "base_uri": "https://localhost:8080/",
          "height": 330
        },
        "id": "g8L-q3-gqM8C",
        "outputId": "6a6221df-ef7e-4467-9dd6-9018fd1cae7a"
      },
      "outputs": [
        {
          "data": {
            "application/vnd.microsoft.datawrangler.viewer.v0+json": {
              "columns": [
                {
                  "name": "index",
                  "rawType": "int64",
                  "type": "integer"
                },
                {
                  "name": "Archive_Date",
                  "rawType": "object",
                  "type": "string"
                },
                {
                  "name": "Specialty_HIPE",
                  "rawType": "float64",
                  "type": "float"
                },
                {
                  "name": "Specialty_Name",
                  "rawType": "object",
                  "type": "string"
                },
                {
                  "name": "Adult_Child",
                  "rawType": "object",
                  "type": "string"
                },
                {
                  "name": "Age_Profile",
                  "rawType": "object",
                  "type": "string"
                },
                {
                  "name": "Time_Bands",
                  "rawType": "object",
                  "type": "string"
                },
                {
                  "name": "Total",
                  "rawType": "int64",
                  "type": "integer"
                },
                {
                  "name": "Case_Type",
                  "rawType": "object",
                  "type": "string"
                },
                {
                  "name": "Specialty Group",
                  "rawType": "object",
                  "type": "string"
                }
              ],
              "conversionMethod": "pd.DataFrame",
              "ref": "5783e566-3e97-456b-8e5d-c636a32b4aa1",
              "rows": [
                [
                  "0",
                  "2018-02-28",
                  "0.0",
                  "Small Volume Specialities",
                  "Adult",
                  "16-64",
                  "  0-3 Months",
                  "1",
                  "Day Case",
                  "Other"
                ],
                [
                  "1",
                  "2018-02-28",
                  "0.0",
                  "Small Volume Specialities",
                  "Adult",
                  "16-64",
                  "  0-3 Months",
                  "1",
                  "Day Case",
                  "Other"
                ],
                [
                  "2",
                  "2018-02-28",
                  "0.0",
                  "Small Volume Specialities",
                  "Adult",
                  "16-64",
                  "  9-12 Months",
                  "1",
                  "Inpatient",
                  "Other"
                ],
                [
                  "3",
                  "2018-02-28",
                  "0.0",
                  "Small Volume Specialities",
                  "Adult",
                  "16-64",
                  " 0-3 Months",
                  "1",
                  "Outpatient",
                  "Other"
                ],
                [
                  "4",
                  "2018-02-28",
                  "0.0",
                  "Small Volume Specialities",
                  "Adult",
                  "16-64",
                  " 0-3 Months",
                  "1",
                  "Outpatient",
                  "Other"
                ]
              ],
              "shape": {
                "columns": 9,
                "rows": 5
              }
            },
            "text/html": [
              "<div>\n",
              "<style scoped>\n",
              "    .dataframe tbody tr th:only-of-type {\n",
              "        vertical-align: middle;\n",
              "    }\n",
              "\n",
              "    .dataframe tbody tr th {\n",
              "        vertical-align: top;\n",
              "    }\n",
              "\n",
              "    .dataframe thead th {\n",
              "        text-align: right;\n",
              "    }\n",
              "</style>\n",
              "<table border=\"1\" class=\"dataframe\">\n",
              "  <thead>\n",
              "    <tr style=\"text-align: right;\">\n",
              "      <th></th>\n",
              "      <th>Archive_Date</th>\n",
              "      <th>Specialty_HIPE</th>\n",
              "      <th>Specialty_Name</th>\n",
              "      <th>Adult_Child</th>\n",
              "      <th>Age_Profile</th>\n",
              "      <th>Time_Bands</th>\n",
              "      <th>Total</th>\n",
              "      <th>Case_Type</th>\n",
              "      <th>Specialty Group</th>\n",
              "    </tr>\n",
              "  </thead>\n",
              "  <tbody>\n",
              "    <tr>\n",
              "      <th>0</th>\n",
              "      <td>2018-02-28</td>\n",
              "      <td>0.0</td>\n",
              "      <td>Small Volume Specialities</td>\n",
              "      <td>Adult</td>\n",
              "      <td>16-64</td>\n",
              "      <td>0-3 Months</td>\n",
              "      <td>1</td>\n",
              "      <td>Day Case</td>\n",
              "      <td>Other</td>\n",
              "    </tr>\n",
              "    <tr>\n",
              "      <th>1</th>\n",
              "      <td>2018-02-28</td>\n",
              "      <td>0.0</td>\n",
              "      <td>Small Volume Specialities</td>\n",
              "      <td>Adult</td>\n",
              "      <td>16-64</td>\n",
              "      <td>0-3 Months</td>\n",
              "      <td>1</td>\n",
              "      <td>Day Case</td>\n",
              "      <td>Other</td>\n",
              "    </tr>\n",
              "    <tr>\n",
              "      <th>2</th>\n",
              "      <td>2018-02-28</td>\n",
              "      <td>0.0</td>\n",
              "      <td>Small Volume Specialities</td>\n",
              "      <td>Adult</td>\n",
              "      <td>16-64</td>\n",
              "      <td>9-12 Months</td>\n",
              "      <td>1</td>\n",
              "      <td>Inpatient</td>\n",
              "      <td>Other</td>\n",
              "    </tr>\n",
              "    <tr>\n",
              "      <th>3</th>\n",
              "      <td>2018-02-28</td>\n",
              "      <td>0.0</td>\n",
              "      <td>Small Volume Specialities</td>\n",
              "      <td>Adult</td>\n",
              "      <td>16-64</td>\n",
              "      <td>0-3 Months</td>\n",
              "      <td>1</td>\n",
              "      <td>Outpatient</td>\n",
              "      <td>Other</td>\n",
              "    </tr>\n",
              "    <tr>\n",
              "      <th>4</th>\n",
              "      <td>2018-02-28</td>\n",
              "      <td>0.0</td>\n",
              "      <td>Small Volume Specialities</td>\n",
              "      <td>Adult</td>\n",
              "      <td>16-64</td>\n",
              "      <td>0-3 Months</td>\n",
              "      <td>1</td>\n",
              "      <td>Outpatient</td>\n",
              "      <td>Other</td>\n",
              "    </tr>\n",
              "  </tbody>\n",
              "</table>\n",
              "</div>"
            ],
            "text/plain": [
              "  Archive_Date  Specialty_HIPE             Specialty_Name Adult_Child  \\\n",
              "0   2018-02-28             0.0  Small Volume Specialities       Adult   \n",
              "1   2018-02-28             0.0  Small Volume Specialities       Adult   \n",
              "2   2018-02-28             0.0  Small Volume Specialities       Adult   \n",
              "3   2018-02-28             0.0  Small Volume Specialities       Adult   \n",
              "4   2018-02-28             0.0  Small Volume Specialities       Adult   \n",
              "\n",
              "  Age_Profile     Time_Bands  Total   Case_Type Specialty Group  \n",
              "0       16-64     0-3 Months      1    Day Case           Other  \n",
              "1       16-64     0-3 Months      1    Day Case           Other  \n",
              "2       16-64    9-12 Months      1   Inpatient           Other  \n",
              "3       16-64     0-3 Months      1  Outpatient           Other  \n",
              "4       16-64     0-3 Months      1  Outpatient           Other  "
            ]
          },
          "execution_count": 1,
          "metadata": {},
          "output_type": "execute_result"
        }
      ],
      "source": [
        "import pandas as pd\n",
        "import numpy as np\n",
        "import matplotlib.pyplot as plt\n",
        "import seaborn as sns\n",
        "from matplotlib.ticker import FuncFormatter\n",
        "\n",
        "import warnings\n",
        "warnings.filterwarnings(\"ignore\")\n",
        "\n",
        "url = \"https://raw.githubusercontent.com/modyreturn/Health_Care_Analysis/refs/heads/master/merged_data.csv\"\n",
        "\n",
        "df = pd.read_csv(url)\n",
        "\n",
        "df.head()\n"
      ]
    },
    {
      "cell_type": "markdown",
      "metadata": {
        "id": "VDUqxt_kfJx3"
      },
      "source": [
        "## **Cleaning The Data**"
      ]
    },
    {
      "cell_type": "code",
      "execution_count": 2,
      "metadata": {
        "colab": {
          "base_uri": "https://localhost:8080/"
        },
        "id": "BhAW1m-G5n4M",
        "outputId": "eb018f2c-f450-4e21-a968-0d990fa130fa"
      },
      "outputs": [
        {
          "name": "stdout",
          "output_type": "stream",
          "text": [
            "<class 'pandas.core.frame.DataFrame'>\n",
            "RangeIndex: 452991 entries, 0 to 452990\n",
            "Data columns (total 11 columns):\n",
            " #   Column           Non-Null Count   Dtype         \n",
            "---  ------           --------------   -----         \n",
            " 0   Archive_Date     452991 non-null  datetime64[ns]\n",
            " 1   Specialty_HIPE   452800 non-null  float64       \n",
            " 2   Specialty_Name   452991 non-null  object        \n",
            " 3   Adult_Child      452991 non-null  object        \n",
            " 4   Age_Profile      452816 non-null  object        \n",
            " 5   Time_Bands       452989 non-null  object        \n",
            " 6   Total            452991 non-null  int64         \n",
            " 7   Case_Type        452991 non-null  object        \n",
            " 8   Specialty Group  452991 non-null  object        \n",
            " 9   Year             452991 non-null  int32         \n",
            " 10  Month_Name       452991 non-null  object        \n",
            "dtypes: datetime64[ns](1), float64(1), int32(1), int64(1), object(7)\n",
            "memory usage: 36.3+ MB\n"
          ]
        }
      ],
      "source": [
        "# converting Archive_Date to datetime\n",
        "df['Archive_Date'] = pd.to_datetime(df['Archive_Date'])\n",
        "df['Year'] = df['Archive_Date'].dt.year\n",
        "df['Month_Name'] = df['Archive_Date'].dt.month_name()\n",
        "\n",
        "df.info()"
      ]
    },
    {
      "cell_type": "code",
      "execution_count": 3,
      "metadata": {
        "id": "VBKwEyyTY0cr"
      },
      "outputs": [],
      "source": [
        "df['Time_Bands'] = df['Time_Bands'].str.strip()\n",
        "df['Age_Profile'] = df['Age_Profile'].str.strip()"
      ]
    },
    {
      "cell_type": "code",
      "execution_count": 4,
      "metadata": {},
      "outputs": [],
      "source": [
        "# I will use the following func to format the values on axis of the charts as needed\n",
        "def millions_formatter(x, pos):\n",
        "    if x >= 1_000_000:\n",
        "        return f'{x*1.0/1_000_000:.1f}M'\n",
        "    elif x >= 1_000:\n",
        "        return f'{x*1.0/1_000:.1f}K'\n",
        "    else:\n",
        "        return f'{x:.0f}'\n",
        "\n",
        "# Apply formatter to the current plot\n",
        "formatter = FuncFormatter(millions_formatter)"
      ]
    },
    {
      "cell_type": "code",
      "execution_count": 5,
      "metadata": {},
      "outputs": [],
      "source": [
        "# here you can categorise and order Month_Name to plot\n",
        "month_order = ['Jan', 'Feb', 'Mar', 'Apr', 'May', 'Jun', 'Jul', 'Aug', 'Sep', 'Oct', 'Nov', 'Dec']"
      ]
    },
    {
      "cell_type": "markdown",
      "metadata": {
        "id": "Ew9G-708fYRu"
      },
      "source": [
        "## **Exploratory Data Analysis (EDA):**"
      ]
    },
    {
      "cell_type": "markdown",
      "metadata": {
        "id": "wKmYebizgCxp"
      },
      "source": [
        "### **Statistic Summary**"
      ]
    },
    {
      "cell_type": "markdown",
      "metadata": {
        "id": "M2UzGMkllCh3"
      },
      "source": [
        "### **Age Profiling:**\n",
        "-   Let's see the total of cases by age profile\n"
      ]
    },
    {
      "cell_type": "code",
      "execution_count": 6,
      "metadata": {
        "colab": {
          "base_uri": "https://localhost:8080/"
        },
        "id": "iRS0QNgUmJ-d",
        "outputId": "5d37c014-89b1-43c5-b385-f2ce648ce66e"
      },
      "outputs": [
        {
          "data": {
            "text/plain": [
              "array(['16-64', '65+', '0-15', nan], dtype=object)"
            ]
          },
          "execution_count": 6,
          "metadata": {},
          "output_type": "execute_result"
        }
      ],
      "source": [
        "df['Age_Profile'].unique()"
      ]
    },
    {
      "cell_type": "code",
      "execution_count": 7,
      "metadata": {
        "colab": {
          "base_uri": "https://localhost:8080/",
          "height": 0
        },
        "id": "s-iI3O2vlBf1",
        "outputId": "f1fbfb18-f23d-401a-fcf4-3b49ae34e31e"
      },
      "outputs": [
        {
          "data": {
            "application/vnd.microsoft.datawrangler.viewer.v0+json": {
              "columns": [
                {
                  "name": "index",
                  "rawType": "int64",
                  "type": "integer"
                },
                {
                  "name": "Age_Profile",
                  "rawType": "object",
                  "type": "string"
                },
                {
                  "name": "Total",
                  "rawType": "int64",
                  "type": "integer"
                }
              ],
              "conversionMethod": "pd.DataFrame",
              "ref": "6dbf53e1-528a-4818-8fb2-ac0a255f8020",
              "rows": [
                [
                  "0",
                  "0-15",
                  "3502498"
                ],
                [
                  "1",
                  "16-64",
                  "15095747"
                ],
                [
                  "2",
                  "65+",
                  "6039484"
                ]
              ],
              "shape": {
                "columns": 2,
                "rows": 3
              }
            },
            "text/html": [
              "<div>\n",
              "<style scoped>\n",
              "    .dataframe tbody tr th:only-of-type {\n",
              "        vertical-align: middle;\n",
              "    }\n",
              "\n",
              "    .dataframe tbody tr th {\n",
              "        vertical-align: top;\n",
              "    }\n",
              "\n",
              "    .dataframe thead th {\n",
              "        text-align: right;\n",
              "    }\n",
              "</style>\n",
              "<table border=\"1\" class=\"dataframe\">\n",
              "  <thead>\n",
              "    <tr style=\"text-align: right;\">\n",
              "      <th></th>\n",
              "      <th>Age_Profile</th>\n",
              "      <th>Total</th>\n",
              "    </tr>\n",
              "  </thead>\n",
              "  <tbody>\n",
              "    <tr>\n",
              "      <th>0</th>\n",
              "      <td>0-15</td>\n",
              "      <td>3502498</td>\n",
              "    </tr>\n",
              "    <tr>\n",
              "      <th>1</th>\n",
              "      <td>16-64</td>\n",
              "      <td>15095747</td>\n",
              "    </tr>\n",
              "    <tr>\n",
              "      <th>2</th>\n",
              "      <td>65+</td>\n",
              "      <td>6039484</td>\n",
              "    </tr>\n",
              "  </tbody>\n",
              "</table>\n",
              "</div>"
            ],
            "text/plain": [
              "  Age_Profile     Total\n",
              "0        0-15   3502498\n",
              "1       16-64  15095747\n",
              "2         65+   6039484"
            ]
          },
          "execution_count": 7,
          "metadata": {},
          "output_type": "execute_result"
        }
      ],
      "source": [
        "age_df = df.groupby('Age_Profile')['Total'].sum().reset_index()\n",
        "age_df"
      ]
    },
    {
      "cell_type": "code",
      "execution_count": 8,
      "metadata": {
        "colab": {
          "base_uri": "https://localhost:8080/",
          "height": 0
        },
        "id": "IvCB2-YolrsW",
        "outputId": "e978bc48-29b6-4ced-f871-0e3127509923"
      },
      "outputs": [
        {
          "data": {
            "image/png": "[encoded data removed]",
            "text/plain": [
              "<Figure size 800x240 with 1 Axes>"
            ]
          },
          "metadata": {},
          "output_type": "display_data"
        }
      ],
      "source": [
        "plt.figure(figsize=(8, 2.4))\n",
        "sns.barplot(\n",
        "    data=age_df,\n",
        "    y='Age_Profile',\n",
        "    x='Total',\n",
        "    palette='crest_r'\n",
        ")\n",
        "\n",
        "# formatting the xaxis values\n",
        "plt.gca().xaxis.set_major_formatter(formatter)\n",
        "\n",
        "plt.title('Total Cases by Age Profile')\n",
        "plt.xlabel('Total Cases')\n",
        "plt.ylabel('Age Profile')\n",
        "\n",
        "sns.despine()\n",
        "plt.tight_layout()\n",
        "plt.show()\n"
      ]
    },
    {
      "cell_type": "markdown",
      "metadata": {},
      "source": [
        "\n",
        "**Overview**\n",
        "\n",
        "This horizontal bar chart breaks down healthcare cases across three age groups:\n",
        "\n",
        "- Age 16–64\n",
        "    - Represents the **largest share**, with **over 15 million cases**.\n",
        "    - Reflects the active working-age population, likely experiencing diverse healthcare needs: **occupational injuries, chronic conditions, elective surgeries**, and preventive care.\n",
        "\n",
        "- Age 65+\n",
        "    - Accounts for around **6 million cases**.\n",
        "    - Indicative of an aging population with higher frequency of **chronic illnesses, surgeries, and specialist care** (e.g., cardiology, orthopedics).\n",
        "\n",
        "- Age 0–15\n",
        "    - The lowest volume at **under 4 million cases**.\n",
        "    - Still a significant number, reflecting **pediatric care** needs such as vaccinations, respiratory conditions, and ENT issues.\n",
        "\n",
        "---\n"
      ]
    }
  ],
  "metadata": {
    "colab": {
      "collapsed_sections": [
        "VDUqxt_kfJx3",
        "wKmYebizgCxp",
        "dhi5U4rGgI9e",
        "6JifW8rJbCyf",
        "y5hsSwEbdTnK",
        "M2UzGMkllCh3"
      ],
      "provenance": []
    },
    "kernelspec": {
      "display_name": "data_projects",
      "language": "python",
      "name": "python3"
    },
    "language_info": {
      "codemirror_mode": {
        "name": "ipython",
        "version": 3
      },
      "file_extension": ".py",
      "mimetype": "text/x-python",
      "name": "python",
      "nbconvert_exporter": "python",
      "pygments_lexer": "ipython3",
      "version": "3.12.3"
    }
  },
  "nbformat": 4,
  "nbformat_minor": 0
}

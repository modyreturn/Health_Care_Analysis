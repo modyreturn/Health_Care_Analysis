{
  "cells": [
    {
      "cell_type": "markdown",
      "metadata": {},
      "source": [
        "## **Importing Liberaries & Dataset**"
      ]
    },
    {
      "cell_type": "code",
      "execution_count": 16,
      "metadata": {
        "colab": {
          "base_uri": "https://localhost:8080/",
          "height": 330
        },
        "id": "g8L-q3-gqM8C",
        "outputId": "6a6221df-ef7e-4467-9dd6-9018fd1cae7a"
      },
      "outputs": [
        {
          "data": {
            "application/vnd.microsoft.datawrangler.viewer.v0+json": {
              "columns": [
                {
                  "name": "index",
                  "rawType": "int64",
                  "type": "integer"
                },
                {
                  "name": "Archive_Date",
                  "rawType": "object",
                  "type": "string"
                },
                {
                  "name": "Specialty_HIPE",
                  "rawType": "float64",
                  "type": "float"
                },
                {
                  "name": "Specialty_Name",
                  "rawType": "object",
                  "type": "string"
                },
                {
                  "name": "Adult_Child",
                  "rawType": "object",
                  "type": "string"
                },
                {
                  "name": "Age_Profile",
                  "rawType": "object",
                  "type": "string"
                },
                {
                  "name": "Time_Bands",
                  "rawType": "object",
                  "type": "string"
                },
                {
                  "name": "Total",
                  "rawType": "int64",
                  "type": "integer"
                },
                {
                  "name": "Case_Type",
                  "rawType": "object",
                  "type": "string"
                },
                {
                  "name": "Specialty Group",
                  "rawType": "object",
                  "type": "string"
                }
              ],
              "conversionMethod": "pd.DataFrame",
              "ref": "2091baf8-3828-4d8e-9a5b-97923d906dbf",
              "rows": [
                [
                  "0",
                  "2018-02-28",
                  "0.0",
                  "Small Volume Specialities",
                  "Adult",
                  "16-64",
                  "  0-3 Months",
                  "1",
                  "Day Case",
                  "Other"
                ],
                [
                  "1",
                  "2018-02-28",
                  "0.0",
                  "Small Volume Specialities",
                  "Adult",
                  "16-64",
                  "  0-3 Months",
                  "1",
                  "Day Case",
                  "Other"
                ],
                [
                  "2",
                  "2018-02-28",
                  "0.0",
                  "Small Volume Specialities",
                  "Adult",
                  "16-64",
                  "  9-12 Months",
                  "1",
                  "Inpatient",
                  "Other"
                ],
                [
                  "3",
                  "2018-02-28",
                  "0.0",
                  "Small Volume Specialities",
                  "Adult",
                  "16-64",
                  " 0-3 Months",
                  "1",
                  "Outpatient",
                  "Other"
                ],
                [
                  "4",
                  "2018-02-28",
                  "0.0",
                  "Small Volume Specialities",
                  "Adult",
                  "16-64",
                  " 0-3 Months",
                  "1",
                  "Outpatient",
                  "Other"
                ]
              ],
              "shape": {
                "columns": 9,
                "rows": 5
              }
            },
            "text/html": [
              "<div>\n",
              "<style scoped>\n",
              "    .dataframe tbody tr th:only-of-type {\n",
              "        vertical-align: middle;\n",
              "    }\n",
              "\n",
              "    .dataframe tbody tr th {\n",
              "        vertical-align: top;\n",
              "    }\n",
              "\n",
              "    .dataframe thead th {\n",
              "        text-align: right;\n",
              "    }\n",
              "</style>\n",
              "<table border=\"1\" class=\"dataframe\">\n",
              "  <thead>\n",
              "    <tr style=\"text-align: right;\">\n",
              "      <th></th>\n",
              "      <th>Archive_Date</th>\n",
              "      <th>Specialty_HIPE</th>\n",
              "      <th>Specialty_Name</th>\n",
              "      <th>Adult_Child</th>\n",
              "      <th>Age_Profile</th>\n",
              "      <th>Time_Bands</th>\n",
              "      <th>Total</th>\n",
              "      <th>Case_Type</th>\n",
              "      <th>Specialty Group</th>\n",
              "    </tr>\n",
              "  </thead>\n",
              "  <tbody>\n",
              "    <tr>\n",
              "      <th>0</th>\n",
              "      <td>2018-02-28</td>\n",
              "      <td>0.0</td>\n",
              "      <td>Small Volume Specialities</td>\n",
              "      <td>Adult</td>\n",
              "      <td>16-64</td>\n",
              "      <td>0-3 Months</td>\n",
              "      <td>1</td>\n",
              "      <td>Day Case</td>\n",
              "      <td>Other</td>\n",
              "    </tr>\n",
              "    <tr>\n",
              "      <th>1</th>\n",
              "      <td>2018-02-28</td>\n",
              "      <td>0.0</td>\n",
              "      <td>Small Volume Specialities</td>\n",
              "      <td>Adult</td>\n",
              "      <td>16-64</td>\n",
              "      <td>0-3 Months</td>\n",
              "      <td>1</td>\n",
              "      <td>Day Case</td>\n",
              "      <td>Other</td>\n",
              "    </tr>\n",
              "    <tr>\n",
              "      <th>2</th>\n",
              "      <td>2018-02-28</td>\n",
              "      <td>0.0</td>\n",
              "      <td>Small Volume Specialities</td>\n",
              "      <td>Adult</td>\n",
              "      <td>16-64</td>\n",
              "      <td>9-12 Months</td>\n",
              "      <td>1</td>\n",
              "      <td>Inpatient</td>\n",
              "      <td>Other</td>\n",
              "    </tr>\n",
              "    <tr>\n",
              "      <th>3</th>\n",
              "      <td>2018-02-28</td>\n",
              "      <td>0.0</td>\n",
              "      <td>Small Volume Specialities</td>\n",
              "      <td>Adult</td>\n",
              "      <td>16-64</td>\n",
              "      <td>0-3 Months</td>\n",
              "      <td>1</td>\n",
              "      <td>Outpatient</td>\n",
              "      <td>Other</td>\n",
              "    </tr>\n",
              "    <tr>\n",
              "      <th>4</th>\n",
              "      <td>2018-02-28</td>\n",
              "      <td>0.0</td>\n",
              "      <td>Small Volume Specialities</td>\n",
              "      <td>Adult</td>\n",
              "      <td>16-64</td>\n",
              "      <td>0-3 Months</td>\n",
              "      <td>1</td>\n",
              "      <td>Outpatient</td>\n",
              "      <td>Other</td>\n",
              "    </tr>\n",
              "  </tbody>\n",
              "</table>\n",
              "</div>"
            ],
            "text/plain": [
              "  Archive_Date  Specialty_HIPE             Specialty_Name Adult_Child  \\\n",
              "0   2018-02-28             0.0  Small Volume Specialities       Adult   \n",
              "1   2018-02-28             0.0  Small Volume Specialities       Adult   \n",
              "2   2018-02-28             0.0  Small Volume Specialities       Adult   \n",
              "3   2018-02-28             0.0  Small Volume Specialities       Adult   \n",
              "4   2018-02-28             0.0  Small Volume Specialities       Adult   \n",
              "\n",
              "  Age_Profile     Time_Bands  Total   Case_Type Specialty Group  \n",
              "0       16-64     0-3 Months      1    Day Case           Other  \n",
              "1       16-64     0-3 Months      1    Day Case           Other  \n",
              "2       16-64    9-12 Months      1   Inpatient           Other  \n",
              "3       16-64     0-3 Months      1  Outpatient           Other  \n",
              "4       16-64     0-3 Months      1  Outpatient           Other  "
            ]
          },
          "execution_count": 16,
          "metadata": {},
          "output_type": "execute_result"
        }
      ],
      "source": [
        "import pandas as pd\n",
        "import numpy as np\n",
        "import matplotlib.pyplot as plt\n",
        "import seaborn as sns\n",
        "from matplotlib.ticker import FuncFormatter\n",
        "\n",
        "import warnings\n",
        "warnings.filterwarnings(\"ignore\")\n",
        "\n",
        "url = \"https://raw.githubusercontent.com/modyreturn/Health_Care_Analysis/refs/heads/master/merged_data.csv\"\n",
        "\n",
        "df = pd.read_csv(url)\n",
        "\n",
        "df.head()\n"
      ]
    },
    {
      "cell_type": "markdown",
      "metadata": {
        "id": "VDUqxt_kfJx3"
      },
      "source": [
        "## **Cleaning The Data**"
      ]
    },
    {
      "cell_type": "code",
      "execution_count": 17,
      "metadata": {
        "colab": {
          "base_uri": "https://localhost:8080/"
        },
        "id": "BhAW1m-G5n4M",
        "outputId": "eb018f2c-f450-4e21-a968-0d990fa130fa"
      },
      "outputs": [
        {
          "name": "stdout",
          "output_type": "stream",
          "text": [
            "<class 'pandas.core.frame.DataFrame'>\n",
            "RangeIndex: 452991 entries, 0 to 452990\n",
            "Data columns (total 11 columns):\n",
            " #   Column           Non-Null Count   Dtype         \n",
            "---  ------           --------------   -----         \n",
            " 0   Archive_Date     452991 non-null  datetime64[ns]\n",
            " 1   Specialty_HIPE   452800 non-null  float64       \n",
            " 2   Specialty_Name   452991 non-null  object        \n",
            " 3   Adult_Child      452991 non-null  object        \n",
            " 4   Age_Profile      452816 non-null  object        \n",
            " 5   Time_Bands       452989 non-null  object        \n",
            " 6   Total            452991 non-null  int64         \n",
            " 7   Case_Type        452991 non-null  object        \n",
            " 8   Specialty Group  452991 non-null  object        \n",
            " 9   Year             452991 non-null  int32         \n",
            " 10  Month_Name       452991 non-null  object        \n",
            "dtypes: datetime64[ns](1), float64(1), int32(1), int64(1), object(7)\n",
            "memory usage: 36.3+ MB\n"
          ]
        }
      ],
      "source": [
        "# converting Archive_Date to datetime\n",
        "df['Archive_Date'] = pd.to_datetime(df['Archive_Date'])\n",
        "df['Year'] = df['Archive_Date'].dt.year\n",
        "df['Month_Name'] = df['Archive_Date'].dt.month_name()\n",
        "\n",
        "df.info()"
      ]
    },
    {
      "cell_type": "code",
      "execution_count": 18,
      "metadata": {
        "id": "VBKwEyyTY0cr"
      },
      "outputs": [],
      "source": [
        "df['Time_Bands'] = df['Time_Bands'].str.strip()\n",
        "df['Age_Profile'] = df['Age_Profile'].str.strip()"
      ]
    },
    {
      "cell_type": "code",
      "execution_count": null,
      "metadata": {},
      "outputs": [],
      "source": [
        "# I will use the following func to format the values on axis of the charts as needed\n",
        "def millions_formatter(x, pos):\n",
        "    if x >= 1_000_000:\n",
        "        return f'{x*1.0/1_000_000:.1f}M'\n",
        "    elif x >= 1_000:\n",
        "        return f'{x*1.0/1_000:.1f}K'\n",
        "    else:\n",
        "        return f'{x:.0f}'\n",
        "\n",
        "# Apply formatter to the current plot\n",
        "formatter = FuncFormatter(millions_formatter)"
      ]
    },
    {
      "cell_type": "markdown",
      "metadata": {
        "id": "Ew9G-708fYRu"
      },
      "source": [
        "## **Exploratory Data Analysis (EDA):**"
      ]
    },
    {
      "cell_type": "markdown",
      "metadata": {
        "id": "wKmYebizgCxp"
      },
      "source": [
        "### **Statistic Summary**"
      ]
    },
    {
      "cell_type": "code",
      "execution_count": 19,
      "metadata": {
        "colab": {
          "base_uri": "https://localhost:8080/",
          "height": 0
        },
        "id": "Xyhx32UVfg-U",
        "outputId": "393952d8-88f8-4667-cfdb-e96c145a9da4"
      },
      "outputs": [
        {
          "data": {
            "application/vnd.microsoft.datawrangler.viewer.v0+json": {
              "columns": [
                {
                  "name": "index",
                  "rawType": "object",
                  "type": "string"
                },
                {
                  "name": "Archive_Date",
                  "rawType": "object",
                  "type": "unknown"
                },
                {
                  "name": "Specialty_HIPE",
                  "rawType": "float64",
                  "type": "float"
                },
                {
                  "name": "Specialty_Name",
                  "rawType": "object",
                  "type": "unknown"
                },
                {
                  "name": "Adult_Child",
                  "rawType": "object",
                  "type": "unknown"
                },
                {
                  "name": "Age_Profile",
                  "rawType": "object",
                  "type": "unknown"
                },
                {
                  "name": "Time_Bands",
                  "rawType": "object",
                  "type": "unknown"
                },
                {
                  "name": "Total",
                  "rawType": "float64",
                  "type": "float"
                },
                {
                  "name": "Case_Type",
                  "rawType": "object",
                  "type": "unknown"
                },
                {
                  "name": "Specialty Group",
                  "rawType": "object",
                  "type": "unknown"
                },
                {
                  "name": "Year",
                  "rawType": "float64",
                  "type": "float"
                },
                {
                  "name": "Month_Name",
                  "rawType": "object",
                  "type": "unknown"
                }
              ],
              "conversionMethod": "pd.DataFrame",
              "ref": "ae655ce2-f096-4212-a8b2-7e07f9d77d66",
              "rows": [
                [
                  "count",
                  "452991",
                  "452800.0",
                  "452991",
                  "452991",
                  "452816",
                  "452989",
                  "452991.0",
                  "452991",
                  "452991",
                  "452991.0",
                  "452991"
                ],
                [
                  "unique",
                  null,
                  null,
                  "78",
                  "3",
                  "3",
                  "8",
                  null,
                  "3",
                  "27",
                  null,
                  "12"
                ],
                [
                  "top",
                  null,
                  null,
                  "General Surgery",
                  "Adult",
                  "16-64",
                  "0-3 Months",
                  null,
                  "Outpatient",
                  "General",
                  null,
                  "March"
                ],
                [
                  "freq",
                  null,
                  null,
                  "43634",
                  "368151",
                  "203354",
                  "93818",
                  null,
                  "270281",
                  "76614",
                  null,
                  "47110"
                ],
                [
                  "mean",
                  "2019-09-09 18:57:46.892720640",
                  "2619.1445759717312",
                  null,
                  null,
                  null,
                  null,
                  "54.39005852213399",
                  null,
                  null,
                  "2019.1817784459295",
                  null
                ],
                [
                  "min",
                  "2018-01-31 00:00:00",
                  "0.0",
                  null,
                  null,
                  null,
                  null,
                  "1.0",
                  null,
                  null,
                  "2018.0",
                  null
                ],
                [
                  "25%",
                  "2018-10-31 00:00:00",
                  "1300.0",
                  null,
                  null,
                  null,
                  null,
                  "3.0",
                  null,
                  null,
                  "2018.0",
                  null
                ],
                [
                  "50%",
                  "2019-08-31 00:00:00",
                  "1900.0",
                  null,
                  null,
                  null,
                  null,
                  "13.0",
                  null,
                  null,
                  "2019.0",
                  null
                ],
                [
                  "75%",
                  "2020-06-30 00:00:00",
                  "2600.0",
                  null,
                  null,
                  null,
                  null,
                  "53.0",
                  null,
                  null,
                  "2020.0",
                  null
                ],
                [
                  "max",
                  "2021-03-31 00:00:00",
                  "9000.0",
                  null,
                  null,
                  null,
                  null,
                  "4239.0",
                  null,
                  null,
                  "2021.0",
                  null
                ],
                [
                  "std",
                  null,
                  "2362.043475185623",
                  null,
                  null,
                  null,
                  null,
                  "120.7928371221548",
                  null,
                  null,
                  "0.9635806573834385",
                  null
                ]
              ],
              "shape": {
                "columns": 11,
                "rows": 11
              }
            },
            "text/html": [
              "<div>\n",
              "<style scoped>\n",
              "    .dataframe tbody tr th:only-of-type {\n",
              "        vertical-align: middle;\n",
              "    }\n",
              "\n",
              "    .dataframe tbody tr th {\n",
              "        vertical-align: top;\n",
              "    }\n",
              "\n",
              "    .dataframe thead th {\n",
              "        text-align: right;\n",
              "    }\n",
              "</style>\n",
              "<table border=\"1\" class=\"dataframe\">\n",
              "  <thead>\n",
              "    <tr style=\"text-align: right;\">\n",
              "      <th></th>\n",
              "      <th>Archive_Date</th>\n",
              "      <th>Specialty_HIPE</th>\n",
              "      <th>Specialty_Name</th>\n",
              "      <th>Adult_Child</th>\n",
              "      <th>Age_Profile</th>\n",
              "      <th>Time_Bands</th>\n",
              "      <th>Total</th>\n",
              "      <th>Case_Type</th>\n",
              "      <th>Specialty Group</th>\n",
              "      <th>Year</th>\n",
              "      <th>Month_Name</th>\n",
              "    </tr>\n",
              "  </thead>\n",
              "  <tbody>\n",
              "    <tr>\n",
              "      <th>count</th>\n",
              "      <td>452991</td>\n",
              "      <td>452800.000000</td>\n",
              "      <td>452991</td>\n",
              "      <td>452991</td>\n",
              "      <td>452816</td>\n",
              "      <td>452989</td>\n",
              "      <td>452991.000000</td>\n",
              "      <td>452991</td>\n",
              "      <td>452991</td>\n",
              "      <td>452991.000000</td>\n",
              "      <td>452991</td>\n",
              "    </tr>\n",
              "    <tr>\n",
              "      <th>unique</th>\n",
              "      <td>NaN</td>\n",
              "      <td>NaN</td>\n",
              "      <td>78</td>\n",
              "      <td>3</td>\n",
              "      <td>3</td>\n",
              "      <td>8</td>\n",
              "      <td>NaN</td>\n",
              "      <td>3</td>\n",
              "      <td>27</td>\n",
              "      <td>NaN</td>\n",
              "      <td>12</td>\n",
              "    </tr>\n",
              "    <tr>\n",
              "      <th>top</th>\n",
              "      <td>NaN</td>\n",
              "      <td>NaN</td>\n",
              "      <td>General Surgery</td>\n",
              "      <td>Adult</td>\n",
              "      <td>16-64</td>\n",
              "      <td>0-3 Months</td>\n",
              "      <td>NaN</td>\n",
              "      <td>Outpatient</td>\n",
              "      <td>General</td>\n",
              "      <td>NaN</td>\n",
              "      <td>March</td>\n",
              "    </tr>\n",
              "    <tr>\n",
              "      <th>freq</th>\n",
              "      <td>NaN</td>\n",
              "      <td>NaN</td>\n",
              "      <td>43634</td>\n",
              "      <td>368151</td>\n",
              "      <td>203354</td>\n",
              "      <td>93818</td>\n",
              "      <td>NaN</td>\n",
              "      <td>270281</td>\n",
              "      <td>76614</td>\n",
              "      <td>NaN</td>\n",
              "      <td>47110</td>\n",
              "    </tr>\n",
              "    <tr>\n",
              "      <th>mean</th>\n",
              "      <td>2019-09-09 18:57:46.892720640</td>\n",
              "      <td>2619.144576</td>\n",
              "      <td>NaN</td>\n",
              "      <td>NaN</td>\n",
              "      <td>NaN</td>\n",
              "      <td>NaN</td>\n",
              "      <td>54.390059</td>\n",
              "      <td>NaN</td>\n",
              "      <td>NaN</td>\n",
              "      <td>2019.181778</td>\n",
              "      <td>NaN</td>\n",
              "    </tr>\n",
              "    <tr>\n",
              "      <th>min</th>\n",
              "      <td>2018-01-31 00:00:00</td>\n",
              "      <td>0.000000</td>\n",
              "      <td>NaN</td>\n",
              "      <td>NaN</td>\n",
              "      <td>NaN</td>\n",
              "      <td>NaN</td>\n",
              "      <td>1.000000</td>\n",
              "      <td>NaN</td>\n",
              "      <td>NaN</td>\n",
              "      <td>2018.000000</td>\n",
              "      <td>NaN</td>\n",
              "    </tr>\n",
              "    <tr>\n",
              "      <th>25%</th>\n",
              "      <td>2018-10-31 00:00:00</td>\n",
              "      <td>1300.000000</td>\n",
              "      <td>NaN</td>\n",
              "      <td>NaN</td>\n",
              "      <td>NaN</td>\n",
              "      <td>NaN</td>\n",
              "      <td>3.000000</td>\n",
              "      <td>NaN</td>\n",
              "      <td>NaN</td>\n",
              "      <td>2018.000000</td>\n",
              "      <td>NaN</td>\n",
              "    </tr>\n",
              "    <tr>\n",
              "      <th>50%</th>\n",
              "      <td>2019-08-31 00:00:00</td>\n",
              "      <td>1900.000000</td>\n",
              "      <td>NaN</td>\n",
              "      <td>NaN</td>\n",
              "      <td>NaN</td>\n",
              "      <td>NaN</td>\n",
              "      <td>13.000000</td>\n",
              "      <td>NaN</td>\n",
              "      <td>NaN</td>\n",
              "      <td>2019.000000</td>\n",
              "      <td>NaN</td>\n",
              "    </tr>\n",
              "    <tr>\n",
              "      <th>75%</th>\n",
              "      <td>2020-06-30 00:00:00</td>\n",
              "      <td>2600.000000</td>\n",
              "      <td>NaN</td>\n",
              "      <td>NaN</td>\n",
              "      <td>NaN</td>\n",
              "      <td>NaN</td>\n",
              "      <td>53.000000</td>\n",
              "      <td>NaN</td>\n",
              "      <td>NaN</td>\n",
              "      <td>2020.000000</td>\n",
              "      <td>NaN</td>\n",
              "    </tr>\n",
              "    <tr>\n",
              "      <th>max</th>\n",
              "      <td>2021-03-31 00:00:00</td>\n",
              "      <td>9000.000000</td>\n",
              "      <td>NaN</td>\n",
              "      <td>NaN</td>\n",
              "      <td>NaN</td>\n",
              "      <td>NaN</td>\n",
              "      <td>4239.000000</td>\n",
              "      <td>NaN</td>\n",
              "      <td>NaN</td>\n",
              "      <td>2021.000000</td>\n",
              "      <td>NaN</td>\n",
              "    </tr>\n",
              "    <tr>\n",
              "      <th>std</th>\n",
              "      <td>NaN</td>\n",
              "      <td>2362.043475</td>\n",
              "      <td>NaN</td>\n",
              "      <td>NaN</td>\n",
              "      <td>NaN</td>\n",
              "      <td>NaN</td>\n",
              "      <td>120.792837</td>\n",
              "      <td>NaN</td>\n",
              "      <td>NaN</td>\n",
              "      <td>0.963581</td>\n",
              "      <td>NaN</td>\n",
              "    </tr>\n",
              "  </tbody>\n",
              "</table>\n",
              "</div>"
            ],
            "text/plain": [
              "                         Archive_Date  Specialty_HIPE   Specialty_Name  \\\n",
              "count                          452991   452800.000000           452991   \n",
              "unique                            NaN             NaN               78   \n",
              "top                               NaN             NaN  General Surgery   \n",
              "freq                              NaN             NaN            43634   \n",
              "mean    2019-09-09 18:57:46.892720640     2619.144576              NaN   \n",
              "min               2018-01-31 00:00:00        0.000000              NaN   \n",
              "25%               2018-10-31 00:00:00     1300.000000              NaN   \n",
              "50%               2019-08-31 00:00:00     1900.000000              NaN   \n",
              "75%               2020-06-30 00:00:00     2600.000000              NaN   \n",
              "max               2021-03-31 00:00:00     9000.000000              NaN   \n",
              "std                               NaN     2362.043475              NaN   \n",
              "\n",
              "       Adult_Child Age_Profile  Time_Bands          Total   Case_Type  \\\n",
              "count       452991      452816      452989  452991.000000      452991   \n",
              "unique           3           3           8            NaN           3   \n",
              "top          Adult       16-64  0-3 Months            NaN  Outpatient   \n",
              "freq        368151      203354       93818            NaN      270281   \n",
              "mean           NaN         NaN         NaN      54.390059         NaN   \n",
              "min            NaN         NaN         NaN       1.000000         NaN   \n",
              "25%            NaN         NaN         NaN       3.000000         NaN   \n",
              "50%            NaN         NaN         NaN      13.000000         NaN   \n",
              "75%            NaN         NaN         NaN      53.000000         NaN   \n",
              "max            NaN         NaN         NaN    4239.000000         NaN   \n",
              "std            NaN         NaN         NaN     120.792837         NaN   \n",
              "\n",
              "       Specialty Group           Year Month_Name  \n",
              "count           452991  452991.000000     452991  \n",
              "unique              27            NaN         12  \n",
              "top            General            NaN      March  \n",
              "freq             76614            NaN      47110  \n",
              "mean               NaN    2019.181778        NaN  \n",
              "min                NaN    2018.000000        NaN  \n",
              "25%                NaN    2018.000000        NaN  \n",
              "50%                NaN    2019.000000        NaN  \n",
              "75%                NaN    2020.000000        NaN  \n",
              "max                NaN    2021.000000        NaN  \n",
              "std                NaN       0.963581        NaN  "
            ]
          },
          "execution_count": 19,
          "metadata": {},
          "output_type": "execute_result"
        }
      ],
      "source": [
        "# using describe() to get statistic summary for the data\n",
        "df.describe(include=('all'))"
      ]
    },
    {
      "cell_type": "markdown",
      "metadata": {
        "id": "dhi5U4rGgI9e"
      },
      "source": [
        "### **Cases Over Time:**\n",
        "-   Now let's analyze Day Cases, Inpatient Cases, and Outpatient Cases over time.\n",
        "\n",
        "\n"
      ]
    },
    {
      "cell_type": "code",
      "execution_count": 20,
      "metadata": {
        "colab": {
          "base_uri": "https://localhost:8080/",
          "height": 0
        },
        "id": "xqm4_t_NgXn0",
        "outputId": "795e01df-a263-4562-d42b-94c634aba45a"
      },
      "outputs": [
        {
          "data": {
            "application/vnd.microsoft.datawrangler.viewer.v0+json": {
              "columns": [
                {
                  "name": "index",
                  "rawType": "int64",
                  "type": "integer"
                },
                {
                  "name": "Month_Name",
                  "rawType": "object",
                  "type": "string"
                },
                {
                  "name": "Case_Type",
                  "rawType": "object",
                  "type": "string"
                },
                {
                  "name": "Total",
                  "rawType": "int64",
                  "type": "integer"
                }
              ],
              "conversionMethod": "pd.DataFrame",
              "ref": "baee13cb-584d-4664-8a07-e9627c7b9ae1",
              "rows": [
                [
                  "0",
                  "Apr",
                  "Day Case",
                  "168396"
                ],
                [
                  "1",
                  "Apr",
                  "Inpatient",
                  "67712"
                ],
                [
                  "2",
                  "Apr",
                  "Outpatient",
                  "1626611"
                ],
                [
                  "3",
                  "Aug",
                  "Day Case",
                  "156239"
                ],
                [
                  "4",
                  "Aug",
                  "Inpatient",
                  "64058"
                ]
              ],
              "shape": {
                "columns": 3,
                "rows": 5
              }
            },
            "text/html": [
              "<div>\n",
              "<style scoped>\n",
              "    .dataframe tbody tr th:only-of-type {\n",
              "        vertical-align: middle;\n",
              "    }\n",
              "\n",
              "    .dataframe tbody tr th {\n",
              "        vertical-align: top;\n",
              "    }\n",
              "\n",
              "    .dataframe thead th {\n",
              "        text-align: right;\n",
              "    }\n",
              "</style>\n",
              "<table border=\"1\" class=\"dataframe\">\n",
              "  <thead>\n",
              "    <tr style=\"text-align: right;\">\n",
              "      <th></th>\n",
              "      <th>Month_Name</th>\n",
              "      <th>Case_Type</th>\n",
              "      <th>Total</th>\n",
              "    </tr>\n",
              "  </thead>\n",
              "  <tbody>\n",
              "    <tr>\n",
              "      <th>0</th>\n",
              "      <td>Apr</td>\n",
              "      <td>Day Case</td>\n",
              "      <td>168396</td>\n",
              "    </tr>\n",
              "    <tr>\n",
              "      <th>1</th>\n",
              "      <td>Apr</td>\n",
              "      <td>Inpatient</td>\n",
              "      <td>67712</td>\n",
              "    </tr>\n",
              "    <tr>\n",
              "      <th>2</th>\n",
              "      <td>Apr</td>\n",
              "      <td>Outpatient</td>\n",
              "      <td>1626611</td>\n",
              "    </tr>\n",
              "    <tr>\n",
              "      <th>3</th>\n",
              "      <td>Aug</td>\n",
              "      <td>Day Case</td>\n",
              "      <td>156239</td>\n",
              "    </tr>\n",
              "    <tr>\n",
              "      <th>4</th>\n",
              "      <td>Aug</td>\n",
              "      <td>Inpatient</td>\n",
              "      <td>64058</td>\n",
              "    </tr>\n",
              "  </tbody>\n",
              "</table>\n",
              "</div>"
            ],
            "text/plain": [
              "  Month_Name   Case_Type    Total\n",
              "0        Apr    Day Case   168396\n",
              "1        Apr   Inpatient    67712\n",
              "2        Apr  Outpatient  1626611\n",
              "3        Aug    Day Case   156239\n",
              "4        Aug   Inpatient    64058"
            ]
          },
          "execution_count": 20,
          "metadata": {},
          "output_type": "execute_result"
        }
      ],
      "source": [
        "cases_over_time = df.groupby(['Month_Name', 'Case_Type'])['Total'].sum().reset_index()\n",
        "cases_over_time['Month_Name'] = cases_over_time['Month_Name'].str[:3] # to abbreviate the month name to the first 3 letters\n",
        "\n",
        "cases_over_time.head()"
      ]
    },
    {
      "cell_type": "code",
      "execution_count": 21,
      "metadata": {
        "id": "zXyaG97fPi_k"
      },
      "outputs": [],
      "source": [
        "# here you can categorise and order Month_Name to plot\n",
        "month_order = ['Jan', 'Feb', 'Mar', 'Apr', 'May', 'Jun', 'Jul', 'Aug', 'Sep', 'Oct', 'Nov', 'Dec']\n",
        "cases_over_time['Month_Name'] = pd.Categorical(cases_over_time['Month_Name'], categories=month_order, ordered=True)"
      ]
    },
    {
      "cell_type": "code",
      "execution_count": null,
      "metadata": {
        "colab": {
          "base_uri": "https://localhost:8080/",
          "height": 0
        },
        "id": "CaC2QXIli8au",
        "outputId": "82dbf78f-2777-4413-d23a-a70be0cef9ef"
      },
      "outputs": [
        {
          "data": {
            "image/png": "[encoded data removed]",
            "text/plain": [
              "<Figure size 800x400 with 1 Axes>"
            ]
          },
          "metadata": {},
          "output_type": "display_data"
        }
      ],
      "source": [
        "plt.figure(figsize=(8, 4))\n",
        "\n",
        "sns.lineplot(\n",
        "    data=cases_over_time,\n",
        "    x='Month_Name',\n",
        "    y='Total',\n",
        "    hue='Case_Type',\n",
        "    palette='tab10'\n",
        ")\n",
        "\n",
        "\n",
        "plt.gca().yaxis.set_major_formatter(formatter)\n",
        "\n",
        "plt.title('Cases Over Time')\n",
        "plt.xlabel('')\n",
        "plt.ylabel('Total Cases')\n",
        "plt.legend(ncols=3, loc='upper center', framealpha=False, fontsize=8)\n",
        "\n",
        "sns.despine()\n",
        "plt.tight_layout()\n",
        "plt.show()"
      ]
    },
    {
      "cell_type": "markdown",
      "metadata": {
        "id": "gvm7V7XuYinY"
      },
      "source": [
        "\n",
        "**Key Insights:**\n",
        "\n",
        "-   Outpatient Cases\n",
        "    - Outpatient volumes are **significantly higher** than other case types.\n",
        "    - There is a **sharp decline between March and April**, followed by a stable trend.\n",
        "    \n",
        "\n",
        "-   Day Case\n",
        "    - Relatively stable across the year with a small dip in April, which mirrors the outpatient drop (but on a smaller scale).\n",
        "\n",
        "    -   This may suggest a system-wide effect in April (e.g., hospital capacity issues or a public holiday period)..\n",
        "\n",
        "\n",
        "-   Inpatient Cases\n",
        "    - Lowest and **most stable** volume.\n",
        "    - Very minimal month-to-month variation — this could indicate inpatient services are less affected by external factors or operate on a constant baseline.\n",
        "\n",
        "    ---\n",
        "\n",
        "\n"
      ]
    },
    {
      "cell_type": "markdown",
      "metadata": {
        "id": "6JifW8rJbCyf"
      },
      "source": [
        "### **Cases Type Distributions:**\n",
        "-   Let's see the distributions of Case Types"
      ]
    },
    {
      "cell_type": "code",
      "execution_count": 23,
      "metadata": {
        "colab": {
          "base_uri": "https://localhost:8080/",
          "height": 0
        },
        "id": "TAAege28bKvx",
        "outputId": "5d23a2ba-0bc2-4c7e-a77e-afc15a67448f"
      },
      "outputs": [
        {
          "data": {
            "application/vnd.microsoft.datawrangler.viewer.v0+json": {
              "columns": [
                {
                  "name": "index",
                  "rawType": "int64",
                  "type": "integer"
                },
                {
                  "name": "Case_Type",
                  "rawType": "object",
                  "type": "string"
                },
                {
                  "name": "Count",
                  "rawType": "int64",
                  "type": "integer"
                }
              ],
              "conversionMethod": "pd.DataFrame",
              "ref": "d0e25764-85d8-4dee-9211-5c843761a63a",
              "rows": [
                [
                  "0",
                  "Outpatient",
                  "270281"
                ],
                [
                  "1",
                  "Day Case",
                  "110487"
                ],
                [
                  "2",
                  "Inpatient",
                  "72223"
                ]
              ],
              "shape": {
                "columns": 2,
                "rows": 3
              }
            },
            "text/html": [
              "<div>\n",
              "<style scoped>\n",
              "    .dataframe tbody tr th:only-of-type {\n",
              "        vertical-align: middle;\n",
              "    }\n",
              "\n",
              "    .dataframe tbody tr th {\n",
              "        vertical-align: top;\n",
              "    }\n",
              "\n",
              "    .dataframe thead th {\n",
              "        text-align: right;\n",
              "    }\n",
              "</style>\n",
              "<table border=\"1\" class=\"dataframe\">\n",
              "  <thead>\n",
              "    <tr style=\"text-align: right;\">\n",
              "      <th></th>\n",
              "      <th>Case_Type</th>\n",
              "      <th>Count</th>\n",
              "    </tr>\n",
              "  </thead>\n",
              "  <tbody>\n",
              "    <tr>\n",
              "      <th>0</th>\n",
              "      <td>Outpatient</td>\n",
              "      <td>270281</td>\n",
              "    </tr>\n",
              "    <tr>\n",
              "      <th>1</th>\n",
              "      <td>Day Case</td>\n",
              "      <td>110487</td>\n",
              "    </tr>\n",
              "    <tr>\n",
              "      <th>2</th>\n",
              "      <td>Inpatient</td>\n",
              "      <td>72223</td>\n",
              "    </tr>\n",
              "  </tbody>\n",
              "</table>\n",
              "</div>"
            ],
            "text/plain": [
              "    Case_Type   Count\n",
              "0  Outpatient  270281\n",
              "1    Day Case  110487\n",
              "2   Inpatient   72223"
            ]
          },
          "execution_count": 23,
          "metadata": {},
          "output_type": "execute_result"
        }
      ],
      "source": [
        "case_type_distribution = df['Case_Type'].value_counts().reset_index()\n",
        "case_type_distribution.columns = ['Case_Type', 'Count']\n",
        "\n",
        "case_type_distribution"
      ]
    },
    {
      "cell_type": "code",
      "execution_count": 24,
      "metadata": {
        "colab": {
          "base_uri": "https://localhost:8080/",
          "height": 0
        },
        "id": "uq3TUfvfcje7",
        "outputId": "0a851850-b5f9-491b-baf3-b0da0d810ea5"
      },
      "outputs": [
        {
          "data": {
            "image/png": "[encoded data removed]",
            "text/plain": [
              "<Figure size 1000x500 with 1 Axes>"
            ]
          },
          "metadata": {},
          "output_type": "display_data"
        }
      ],
      "source": [
        "# Define the explode tuple dynamically\n",
        "explode = [0.03] * len(case_type_distribution)\n",
        "\n",
        "plt.figure(figsize=(10, 5))\n",
        "plt.pie(\n",
        "    case_type_distribution['Count'],\n",
        "    labels=case_type_distribution['Case_Type'],\n",
        "    colors=sns.color_palette('crest_r', n_colors=len(case_type_distribution)),\n",
        "    autopct='%1.1f%%',\n",
        "    startangle=90,\n",
        "    explode=explode\n",
        ")\n",
        "\n",
        "plt.title(\"Distribution of Case Types\")\n",
        "plt.show()"
      ]
    },
    {
      "cell_type": "markdown",
      "metadata": {
        "id": "v5oRN2rXdV_M"
      },
      "source": [
        "**Key Insights**\n",
        "\n",
        "-   Outpatient\n",
        "    - Represents the **majority** of cases: **59.7%**.\n",
        "    - Highlights the **dominance of non-admitted consultations** in the healthcare activity mix.\n",
        "    - Indicates a likely emphasis on **preventive care, follow-ups, or minor procedures**.\n",
        "\n",
        "-   Day Case\n",
        "    - Accounts for **24.4%** of total cases.\n",
        "    - Suggests a **significant number of procedures are performed without overnight stays**.\n",
        "    - Could be optimized further if infrastructure and patient conditions allow.\n",
        "\n",
        "-   Inpatient\n",
        "    - Comprises only **15.9%** of the cases.\n",
        "    - Indicates that **fewer cases require overnight hospitalization**, possibly due to efficiency or a lower acuity patient population.\n",
        "    - Helps reduce overall healthcare costs and resource strain.\n",
        "\n",
        "---\n"
      ]
    }
  ],
  "metadata": {
    "colab": {
      "collapsed_sections": [
        "VDUqxt_kfJx3",
        "wKmYebizgCxp",
        "dhi5U4rGgI9e",
        "6JifW8rJbCyf",
        "y5hsSwEbdTnK",
        "M2UzGMkllCh3"
      ],
      "provenance": []
    },
    "kernelspec": {
      "display_name": "data_projects",
      "language": "python",
      "name": "python3"
    },
    "language_info": {
      "codemirror_mode": {
        "name": "ipython",
        "version": 3
      },
      "file_extension": ".py",
      "mimetype": "text/x-python",
      "name": "python",
      "nbconvert_exporter": "python",
      "pygments_lexer": "ipython3",
      "version": "3.12.3"
    }
  },
  "nbformat": 4,
  "nbformat_minor": 0
}
